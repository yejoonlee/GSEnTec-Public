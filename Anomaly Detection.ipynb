{
 "cells": [
  {
   "cell_type": "code",
   "execution_count": 1,
   "metadata": {},
   "outputs": [],
   "source": [
    "import pandas as pd\n",
    "from pycaret.anomaly import *"
   ]
  },
  {
   "cell_type": "markdown",
   "metadata": {},
   "source": [
    "## Get Data"
   ]
  },
  {
   "cell_type": "code",
   "execution_count": 2,
   "metadata": {},
   "outputs": [],
   "source": [
    "# DB에 연결\n",
    "import sys\n",
    "sys.path.append('/Users/nezmi/Projects/yeznable_projects')\n",
    "\n",
    "from LAB.Data_collection import functions_for_db\n",
    "from personal import id_pw_classes\n",
    "\n",
    "mysql_user = id_pw_classes.mysql()\n",
    "\n",
    "host = '127.0.0.1'\n",
    "user = mysql_user.id_yeznable\n",
    "password = mysql_user.pw_yeznable\n",
    "db = 'GSEnTec'"
   ]
  },
  {
   "cell_type": "code",
   "execution_count": 3,
   "metadata": {},
   "outputs": [
    {
     "name": "stdout",
     "output_type": "stream",
     "text": [
      "DB connected...\n"
     ]
    }
   ],
   "source": [
    "# create connecttion and cursor\n",
    "connection = functions_for_db.get_connection(host,user,password,db)\n",
    "cursor = connection.cursor()\n",
    "print('DB connected...')"
   ]
  },
  {
   "cell_type": "code",
   "execution_count": 4,
   "metadata": {},
   "outputs": [
    {
     "data": {
      "text/plain": [
       "['id',\n",
       " '사원구분',\n",
       " '고용형태',\n",
       " '직군',\n",
       " '직종',\n",
       " '최종학력',\n",
       " '성별구분',\n",
       " '재직구분',\n",
       " 'korean',\n",
       " 'pp_religion',\n",
       " 'pp_turnover',\n",
       " 'pp_ career_rel',\n",
       " 'pp_ career_etc',\n",
       " 'pp_ career_max',\n",
       " 'pp_ career_hm',\n",
       " 'pp_turnover_self',\n",
       " 'pp_turnover_other',\n",
       " 'pp_TOEIC',\n",
       " 'pp_TOEIC_SPEAKING',\n",
       " 'pp_OPIc',\n",
       " 'pp_Lang_etc',\n",
       " 'pp_lang_level',\n",
       " 'pp_relation_mother',\n",
       " 'pp_relation_mate',\n",
       " 'pp_relation_father',\n",
       " 'pp_relation_gd',\n",
       " 'pp_relation_gs',\n",
       " 'pp_relation_children',\n",
       " 'pp_relation_sister',\n",
       " 'pp_relation_ml',\n",
       " 'pp_relation_fl',\n",
       " 'pp_relation_gm',\n",
       " 'pp_relation_gf',\n",
       " 'pp_relation_brother',\n",
       " 'pp_relation_family',\n",
       " 'pp_appointment',\n",
       " 'pp_appointment_a',\n",
       " 'pp_appointment_b',\n",
       " 'pp_appointment_c',\n",
       " 'pp_appointment_d',\n",
       " 'pp_appointment_e',\n",
       " 'pp_appointment_f',\n",
       " 'pp_department_domain',\n",
       " 'pp_department_job',\n",
       " 'pp_address',\n",
       " 'pp_address_curr',\n",
       " 'pp_ certificate',\n",
       " 'pp_ certificate_rel',\n",
       " 'pp_ certificate_etc',\n",
       " 'pp_age_join',\n",
       " 'pp_club',\n",
       " 'pp_club_a',\n",
       " 'pp_club_b',\n",
       " 'pp_club_c',\n",
       " 'pp_club_d',\n",
       " 'pp_club_e',\n",
       " 'pp_club_f',\n",
       " 'pp_club_g',\n",
       " 'pp_club_h',\n",
       " 'pp_club_i',\n",
       " 'pp_club_j',\n",
       " 'pp_club_k',\n",
       " 'pp_longevity',\n",
       " 'pp_longevity_5y',\n",
       " 'pp_longevity_10y']"
      ]
     },
     "execution_count": 4,
     "metadata": {},
     "output_type": "execute_result"
    }
   ],
   "source": [
    "query_get_column = f\"\"\"show columns from MART\"\"\"\n",
    "cursor.execute(query_get_column)\n",
    "columns = cursor.fetchall()\n",
    "list_columns = []\n",
    "for column in columns:\n",
    "    list_columns.append(column[0])\n",
    "list_columns"
   ]
  },
  {
   "cell_type": "code",
   "execution_count": 5,
   "metadata": {},
   "outputs": [
    {
     "data": {
      "text/html": [
       "<div>\n",
       "<style scoped>\n",
       "    .dataframe tbody tr th:only-of-type {\n",
       "        vertical-align: middle;\n",
       "    }\n",
       "\n",
       "    .dataframe tbody tr th {\n",
       "        vertical-align: top;\n",
       "    }\n",
       "\n",
       "    .dataframe thead th {\n",
       "        text-align: right;\n",
       "    }\n",
       "</style>\n",
       "<table border=\"1\" class=\"dataframe\">\n",
       "  <thead>\n",
       "    <tr style=\"text-align: right;\">\n",
       "      <th></th>\n",
       "      <th>id</th>\n",
       "      <th>사원구분</th>\n",
       "      <th>고용형태</th>\n",
       "      <th>직군</th>\n",
       "      <th>직종</th>\n",
       "      <th>최종학력</th>\n",
       "      <th>성별구분</th>\n",
       "      <th>재직구분</th>\n",
       "      <th>korean</th>\n",
       "      <th>pp_religion</th>\n",
       "      <th>...</th>\n",
       "      <th>pp_club_e</th>\n",
       "      <th>pp_club_f</th>\n",
       "      <th>pp_club_g</th>\n",
       "      <th>pp_club_h</th>\n",
       "      <th>pp_club_i</th>\n",
       "      <th>pp_club_j</th>\n",
       "      <th>pp_club_k</th>\n",
       "      <th>pp_longevity</th>\n",
       "      <th>pp_longevity_5y</th>\n",
       "      <th>pp_longevity_10y</th>\n",
       "    </tr>\n",
       "  </thead>\n",
       "  <tbody>\n",
       "    <tr>\n",
       "      <th>0</th>\n",
       "      <td>1</td>\n",
       "      <td>연봉(직원)</td>\n",
       "      <td>상용직</td>\n",
       "      <td>임원</td>\n",
       "      <td>정규직</td>\n",
       "      <td>대학원졸</td>\n",
       "      <td>M</td>\n",
       "      <td>0</td>\n",
       "      <td>1</td>\n",
       "      <td>0</td>\n",
       "      <td>...</td>\n",
       "      <td>0</td>\n",
       "      <td>0</td>\n",
       "      <td>0</td>\n",
       "      <td>1</td>\n",
       "      <td>0</td>\n",
       "      <td>0</td>\n",
       "      <td>0</td>\n",
       "      <td>370</td>\n",
       "      <td>1</td>\n",
       "      <td>1</td>\n",
       "    </tr>\n",
       "    <tr>\n",
       "      <th>1</th>\n",
       "      <td>2</td>\n",
       "      <td>연봉(현장)</td>\n",
       "      <td>상용직</td>\n",
       "      <td>기술직</td>\n",
       "      <td>촉탁직</td>\n",
       "      <td>대졸</td>\n",
       "      <td>M</td>\n",
       "      <td>0</td>\n",
       "      <td>1</td>\n",
       "      <td>0</td>\n",
       "      <td>...</td>\n",
       "      <td>0</td>\n",
       "      <td>0</td>\n",
       "      <td>0</td>\n",
       "      <td>1</td>\n",
       "      <td>0</td>\n",
       "      <td>0</td>\n",
       "      <td>0</td>\n",
       "      <td>354</td>\n",
       "      <td>1</td>\n",
       "      <td>1</td>\n",
       "    </tr>\n",
       "    <tr>\n",
       "      <th>2</th>\n",
       "      <td>3</td>\n",
       "      <td>연봉(현장)</td>\n",
       "      <td>상용직</td>\n",
       "      <td>기술직</td>\n",
       "      <td>정규직</td>\n",
       "      <td>대졸</td>\n",
       "      <td>M</td>\n",
       "      <td>0</td>\n",
       "      <td>1</td>\n",
       "      <td>0</td>\n",
       "      <td>...</td>\n",
       "      <td>0</td>\n",
       "      <td>0</td>\n",
       "      <td>0</td>\n",
       "      <td>1</td>\n",
       "      <td>0</td>\n",
       "      <td>0</td>\n",
       "      <td>0</td>\n",
       "      <td>264</td>\n",
       "      <td>1</td>\n",
       "      <td>1</td>\n",
       "    </tr>\n",
       "    <tr>\n",
       "      <th>3</th>\n",
       "      <td>4</td>\n",
       "      <td>연봉(직원)</td>\n",
       "      <td>상용직</td>\n",
       "      <td>사무직</td>\n",
       "      <td>정규직</td>\n",
       "      <td>대졸</td>\n",
       "      <td>M</td>\n",
       "      <td>0</td>\n",
       "      <td>1</td>\n",
       "      <td>1</td>\n",
       "      <td>...</td>\n",
       "      <td>0</td>\n",
       "      <td>1</td>\n",
       "      <td>0</td>\n",
       "      <td>0</td>\n",
       "      <td>0</td>\n",
       "      <td>1</td>\n",
       "      <td>0</td>\n",
       "      <td>258</td>\n",
       "      <td>1</td>\n",
       "      <td>1</td>\n",
       "    </tr>\n",
       "    <tr>\n",
       "      <th>4</th>\n",
       "      <td>5</td>\n",
       "      <td>시급(현장)</td>\n",
       "      <td>상용직</td>\n",
       "      <td>사무직</td>\n",
       "      <td>정규직</td>\n",
       "      <td>대졸</td>\n",
       "      <td>M</td>\n",
       "      <td>0</td>\n",
       "      <td>1</td>\n",
       "      <td>0</td>\n",
       "      <td>...</td>\n",
       "      <td>0</td>\n",
       "      <td>0</td>\n",
       "      <td>0</td>\n",
       "      <td>0</td>\n",
       "      <td>0</td>\n",
       "      <td>0</td>\n",
       "      <td>0</td>\n",
       "      <td>211</td>\n",
       "      <td>1</td>\n",
       "      <td>1</td>\n",
       "    </tr>\n",
       "    <tr>\n",
       "      <th>...</th>\n",
       "      <td>...</td>\n",
       "      <td>...</td>\n",
       "      <td>...</td>\n",
       "      <td>...</td>\n",
       "      <td>...</td>\n",
       "      <td>...</td>\n",
       "      <td>...</td>\n",
       "      <td>...</td>\n",
       "      <td>...</td>\n",
       "      <td>...</td>\n",
       "      <td>...</td>\n",
       "      <td>...</td>\n",
       "      <td>...</td>\n",
       "      <td>...</td>\n",
       "      <td>...</td>\n",
       "      <td>...</td>\n",
       "      <td>...</td>\n",
       "      <td>...</td>\n",
       "      <td>...</td>\n",
       "      <td>...</td>\n",
       "      <td>...</td>\n",
       "    </tr>\n",
       "    <tr>\n",
       "      <th>1169</th>\n",
       "      <td>1489</td>\n",
       "      <td>일급</td>\n",
       "      <td>일용직</td>\n",
       "      <td>일용직</td>\n",
       "      <td>0</td>\n",
       "      <td>empty</td>\n",
       "      <td>M</td>\n",
       "      <td>0</td>\n",
       "      <td>1</td>\n",
       "      <td>0</td>\n",
       "      <td>...</td>\n",
       "      <td>0</td>\n",
       "      <td>0</td>\n",
       "      <td>0</td>\n",
       "      <td>1</td>\n",
       "      <td>0</td>\n",
       "      <td>0</td>\n",
       "      <td>0</td>\n",
       "      <td>0</td>\n",
       "      <td>0</td>\n",
       "      <td>0</td>\n",
       "    </tr>\n",
       "    <tr>\n",
       "      <th>1170</th>\n",
       "      <td>1490</td>\n",
       "      <td>일급</td>\n",
       "      <td>일용직</td>\n",
       "      <td>일용직</td>\n",
       "      <td>0</td>\n",
       "      <td>empty</td>\n",
       "      <td>M</td>\n",
       "      <td>0</td>\n",
       "      <td>1</td>\n",
       "      <td>0</td>\n",
       "      <td>...</td>\n",
       "      <td>0</td>\n",
       "      <td>0</td>\n",
       "      <td>0</td>\n",
       "      <td>1</td>\n",
       "      <td>0</td>\n",
       "      <td>0</td>\n",
       "      <td>0</td>\n",
       "      <td>0</td>\n",
       "      <td>0</td>\n",
       "      <td>0</td>\n",
       "    </tr>\n",
       "    <tr>\n",
       "      <th>1171</th>\n",
       "      <td>1491</td>\n",
       "      <td>일급</td>\n",
       "      <td>일용직</td>\n",
       "      <td>일용직</td>\n",
       "      <td>0</td>\n",
       "      <td>empty</td>\n",
       "      <td>M</td>\n",
       "      <td>0</td>\n",
       "      <td>1</td>\n",
       "      <td>0</td>\n",
       "      <td>...</td>\n",
       "      <td>0</td>\n",
       "      <td>0</td>\n",
       "      <td>0</td>\n",
       "      <td>1</td>\n",
       "      <td>0</td>\n",
       "      <td>0</td>\n",
       "      <td>0</td>\n",
       "      <td>0</td>\n",
       "      <td>0</td>\n",
       "      <td>0</td>\n",
       "    </tr>\n",
       "    <tr>\n",
       "      <th>1172</th>\n",
       "      <td>1492</td>\n",
       "      <td>일급</td>\n",
       "      <td>일용직</td>\n",
       "      <td>일용직</td>\n",
       "      <td>0</td>\n",
       "      <td>empty</td>\n",
       "      <td>M</td>\n",
       "      <td>0</td>\n",
       "      <td>1</td>\n",
       "      <td>0</td>\n",
       "      <td>...</td>\n",
       "      <td>0</td>\n",
       "      <td>0</td>\n",
       "      <td>0</td>\n",
       "      <td>1</td>\n",
       "      <td>0</td>\n",
       "      <td>0</td>\n",
       "      <td>0</td>\n",
       "      <td>0</td>\n",
       "      <td>0</td>\n",
       "      <td>0</td>\n",
       "    </tr>\n",
       "    <tr>\n",
       "      <th>1173</th>\n",
       "      <td>1493</td>\n",
       "      <td>일급</td>\n",
       "      <td>일용직</td>\n",
       "      <td>일용직</td>\n",
       "      <td>0</td>\n",
       "      <td>empty</td>\n",
       "      <td>M</td>\n",
       "      <td>0</td>\n",
       "      <td>1</td>\n",
       "      <td>0</td>\n",
       "      <td>...</td>\n",
       "      <td>0</td>\n",
       "      <td>0</td>\n",
       "      <td>0</td>\n",
       "      <td>1</td>\n",
       "      <td>0</td>\n",
       "      <td>0</td>\n",
       "      <td>0</td>\n",
       "      <td>0</td>\n",
       "      <td>0</td>\n",
       "      <td>0</td>\n",
       "    </tr>\n",
       "  </tbody>\n",
       "</table>\n",
       "<p>1174 rows × 65 columns</p>\n",
       "</div>"
      ],
      "text/plain": [
       "        id    사원구분 고용형태   직군   직종   최종학력 성별구분  재직구분  korean  pp_religion  ...  \\\n",
       "0        1  연봉(직원)  상용직   임원  정규직   대학원졸    M     0       1            0  ...   \n",
       "1        2  연봉(현장)  상용직  기술직  촉탁직     대졸    M     0       1            0  ...   \n",
       "2        3  연봉(현장)  상용직  기술직  정규직     대졸    M     0       1            0  ...   \n",
       "3        4  연봉(직원)  상용직  사무직  정규직     대졸    M     0       1            1  ...   \n",
       "4        5  시급(현장)  상용직  사무직  정규직     대졸    M     0       1            0  ...   \n",
       "...    ...     ...  ...  ...  ...    ...  ...   ...     ...          ...  ...   \n",
       "1169  1489      일급  일용직  일용직    0  empty    M     0       1            0  ...   \n",
       "1170  1490      일급  일용직  일용직    0  empty    M     0       1            0  ...   \n",
       "1171  1491      일급  일용직  일용직    0  empty    M     0       1            0  ...   \n",
       "1172  1492      일급  일용직  일용직    0  empty    M     0       1            0  ...   \n",
       "1173  1493      일급  일용직  일용직    0  empty    M     0       1            0  ...   \n",
       "\n",
       "      pp_club_e  pp_club_f  pp_club_g  pp_club_h  pp_club_i  pp_club_j  \\\n",
       "0             0          0          0          1          0          0   \n",
       "1             0          0          0          1          0          0   \n",
       "2             0          0          0          1          0          0   \n",
       "3             0          1          0          0          0          1   \n",
       "4             0          0          0          0          0          0   \n",
       "...         ...        ...        ...        ...        ...        ...   \n",
       "1169          0          0          0          1          0          0   \n",
       "1170          0          0          0          1          0          0   \n",
       "1171          0          0          0          1          0          0   \n",
       "1172          0          0          0          1          0          0   \n",
       "1173          0          0          0          1          0          0   \n",
       "\n",
       "      pp_club_k  pp_longevity  pp_longevity_5y  pp_longevity_10y  \n",
       "0             0           370                1                 1  \n",
       "1             0           354                1                 1  \n",
       "2             0           264                1                 1  \n",
       "3             0           258                1                 1  \n",
       "4             0           211                1                 1  \n",
       "...         ...           ...              ...               ...  \n",
       "1169          0             0                0                 0  \n",
       "1170          0             0                0                 0  \n",
       "1171          0             0                0                 0  \n",
       "1172          0             0                0                 0  \n",
       "1173          0             0                0                 0  \n",
       "\n",
       "[1174 rows x 65 columns]"
      ]
     },
     "execution_count": 5,
     "metadata": {},
     "output_type": "execute_result"
    }
   ],
   "source": [
    "query_get_data = f\"\"\"SELECT * FROM MART WHERE 재직구분 = 0\"\"\"\n",
    "cursor.execute(query_get_data)\n",
    "data = cursor.fetchall()\n",
    "df = pd.DataFrame(data)\n",
    "df.columns = list_columns\n",
    "# df.to_csv('data2.csv', encoding='euc-kr')\n",
    "df"
   ]
  },
  {
   "cell_type": "code",
   "execution_count": 9,
   "metadata": {},
   "outputs": [],
   "source": [
    "connection.close()"
   ]
  },
  {
   "cell_type": "code",
   "execution_count": null,
   "metadata": {},
   "outputs": [],
   "source": [
    "df.drop(['id','사원구분',\n",
    " '고용형태',\n",
    " '직군',\n",
    " '직종',\n",
    " '최종학력',\n",
    " '성별구분',\n",
    " '재직구분','pp_longevity','pp_longevity_5y'], axis='columns', inplace=True)\n",
    "df"
   ]
  },
  {
   "cell_type": "code",
   "execution_count": 11,
   "metadata": {},
   "outputs": [
    {
     "name": "stdout",
     "output_type": "stream",
     "text": [
      "Setup Succesfully Completed!\n"
     ]
    },
    {
     "data": {
      "text/html": [
       "<style  type=\"text/css\" >\n",
       "    #T_31299534_e221_11ea_b69d_a01d484884e6row10_col1 {\n",
       "            background-color:  lightgreen;\n",
       "        }</style><table id=\"T_31299534_e221_11ea_b69d_a01d484884e6\" ><thead>    <tr>        <th class=\"blank level0\" ></th>        <th class=\"col_heading level0 col0\" >Description</th>        <th class=\"col_heading level0 col1\" >Value</th>    </tr></thead><tbody>\n",
       "                <tr>\n",
       "                        <th id=\"T_31299534_e221_11ea_b69d_a01d484884e6level0_row0\" class=\"row_heading level0 row0\" >0</th>\n",
       "                        <td id=\"T_31299534_e221_11ea_b69d_a01d484884e6row0_col0\" class=\"data row0 col0\" >session_id </td>\n",
       "                        <td id=\"T_31299534_e221_11ea_b69d_a01d484884e6row0_col1\" class=\"data row0 col1\" >123</td>\n",
       "            </tr>\n",
       "            <tr>\n",
       "                        <th id=\"T_31299534_e221_11ea_b69d_a01d484884e6level0_row1\" class=\"row_heading level0 row1\" >1</th>\n",
       "                        <td id=\"T_31299534_e221_11ea_b69d_a01d484884e6row1_col0\" class=\"data row1 col0\" >Original Data </td>\n",
       "                        <td id=\"T_31299534_e221_11ea_b69d_a01d484884e6row1_col1\" class=\"data row1 col1\" >(1174, 65)</td>\n",
       "            </tr>\n",
       "            <tr>\n",
       "                        <th id=\"T_31299534_e221_11ea_b69d_a01d484884e6level0_row2\" class=\"row_heading level0 row2\" >2</th>\n",
       "                        <td id=\"T_31299534_e221_11ea_b69d_a01d484884e6row2_col0\" class=\"data row2 col0\" >Missing Values </td>\n",
       "                        <td id=\"T_31299534_e221_11ea_b69d_a01d484884e6row2_col1\" class=\"data row2 col1\" >False</td>\n",
       "            </tr>\n",
       "            <tr>\n",
       "                        <th id=\"T_31299534_e221_11ea_b69d_a01d484884e6level0_row3\" class=\"row_heading level0 row3\" >3</th>\n",
       "                        <td id=\"T_31299534_e221_11ea_b69d_a01d484884e6row3_col0\" class=\"data row3 col0\" >Numeric Features </td>\n",
       "                        <td id=\"T_31299534_e221_11ea_b69d_a01d484884e6row3_col1\" class=\"data row3 col1\" >6</td>\n",
       "            </tr>\n",
       "            <tr>\n",
       "                        <th id=\"T_31299534_e221_11ea_b69d_a01d484884e6level0_row4\" class=\"row_heading level0 row4\" >4</th>\n",
       "                        <td id=\"T_31299534_e221_11ea_b69d_a01d484884e6row4_col0\" class=\"data row4 col0\" >Categorical Features </td>\n",
       "                        <td id=\"T_31299534_e221_11ea_b69d_a01d484884e6row4_col1\" class=\"data row4 col1\" >59</td>\n",
       "            </tr>\n",
       "            <tr>\n",
       "                        <th id=\"T_31299534_e221_11ea_b69d_a01d484884e6level0_row5\" class=\"row_heading level0 row5\" >5</th>\n",
       "                        <td id=\"T_31299534_e221_11ea_b69d_a01d484884e6row5_col0\" class=\"data row5 col0\" >Ordinal Features </td>\n",
       "                        <td id=\"T_31299534_e221_11ea_b69d_a01d484884e6row5_col1\" class=\"data row5 col1\" >False</td>\n",
       "            </tr>\n",
       "            <tr>\n",
       "                        <th id=\"T_31299534_e221_11ea_b69d_a01d484884e6level0_row6\" class=\"row_heading level0 row6\" >6</th>\n",
       "                        <td id=\"T_31299534_e221_11ea_b69d_a01d484884e6row6_col0\" class=\"data row6 col0\" >High Cardinality Features </td>\n",
       "                        <td id=\"T_31299534_e221_11ea_b69d_a01d484884e6row6_col1\" class=\"data row6 col1\" >False</td>\n",
       "            </tr>\n",
       "            <tr>\n",
       "                        <th id=\"T_31299534_e221_11ea_b69d_a01d484884e6level0_row7\" class=\"row_heading level0 row7\" >7</th>\n",
       "                        <td id=\"T_31299534_e221_11ea_b69d_a01d484884e6row7_col0\" class=\"data row7 col0\" >Transformed Data </td>\n",
       "                        <td id=\"T_31299534_e221_11ea_b69d_a01d484884e6row7_col1\" class=\"data row7 col1\" >(1174, 296)</td>\n",
       "            </tr>\n",
       "            <tr>\n",
       "                        <th id=\"T_31299534_e221_11ea_b69d_a01d484884e6level0_row8\" class=\"row_heading level0 row8\" >8</th>\n",
       "                        <td id=\"T_31299534_e221_11ea_b69d_a01d484884e6row8_col0\" class=\"data row8 col0\" >Numeric Imputer </td>\n",
       "                        <td id=\"T_31299534_e221_11ea_b69d_a01d484884e6row8_col1\" class=\"data row8 col1\" >mean</td>\n",
       "            </tr>\n",
       "            <tr>\n",
       "                        <th id=\"T_31299534_e221_11ea_b69d_a01d484884e6level0_row9\" class=\"row_heading level0 row9\" >9</th>\n",
       "                        <td id=\"T_31299534_e221_11ea_b69d_a01d484884e6row9_col0\" class=\"data row9 col0\" >Categorical Imputer </td>\n",
       "                        <td id=\"T_31299534_e221_11ea_b69d_a01d484884e6row9_col1\" class=\"data row9 col1\" >constant</td>\n",
       "            </tr>\n",
       "            <tr>\n",
       "                        <th id=\"T_31299534_e221_11ea_b69d_a01d484884e6level0_row10\" class=\"row_heading level0 row10\" >10</th>\n",
       "                        <td id=\"T_31299534_e221_11ea_b69d_a01d484884e6row10_col0\" class=\"data row10 col0\" >Normalize </td>\n",
       "                        <td id=\"T_31299534_e221_11ea_b69d_a01d484884e6row10_col1\" class=\"data row10 col1\" >True</td>\n",
       "            </tr>\n",
       "            <tr>\n",
       "                        <th id=\"T_31299534_e221_11ea_b69d_a01d484884e6level0_row11\" class=\"row_heading level0 row11\" >11</th>\n",
       "                        <td id=\"T_31299534_e221_11ea_b69d_a01d484884e6row11_col0\" class=\"data row11 col0\" >Normalize Method </td>\n",
       "                        <td id=\"T_31299534_e221_11ea_b69d_a01d484884e6row11_col1\" class=\"data row11 col1\" >zscore</td>\n",
       "            </tr>\n",
       "            <tr>\n",
       "                        <th id=\"T_31299534_e221_11ea_b69d_a01d484884e6level0_row12\" class=\"row_heading level0 row12\" >12</th>\n",
       "                        <td id=\"T_31299534_e221_11ea_b69d_a01d484884e6row12_col0\" class=\"data row12 col0\" >Transformation </td>\n",
       "                        <td id=\"T_31299534_e221_11ea_b69d_a01d484884e6row12_col1\" class=\"data row12 col1\" >False</td>\n",
       "            </tr>\n",
       "            <tr>\n",
       "                        <th id=\"T_31299534_e221_11ea_b69d_a01d484884e6level0_row13\" class=\"row_heading level0 row13\" >13</th>\n",
       "                        <td id=\"T_31299534_e221_11ea_b69d_a01d484884e6row13_col0\" class=\"data row13 col0\" >Transformation Method </td>\n",
       "                        <td id=\"T_31299534_e221_11ea_b69d_a01d484884e6row13_col1\" class=\"data row13 col1\" >None</td>\n",
       "            </tr>\n",
       "            <tr>\n",
       "                        <th id=\"T_31299534_e221_11ea_b69d_a01d484884e6level0_row14\" class=\"row_heading level0 row14\" >14</th>\n",
       "                        <td id=\"T_31299534_e221_11ea_b69d_a01d484884e6row14_col0\" class=\"data row14 col0\" >PCA </td>\n",
       "                        <td id=\"T_31299534_e221_11ea_b69d_a01d484884e6row14_col1\" class=\"data row14 col1\" >False</td>\n",
       "            </tr>\n",
       "            <tr>\n",
       "                        <th id=\"T_31299534_e221_11ea_b69d_a01d484884e6level0_row15\" class=\"row_heading level0 row15\" >15</th>\n",
       "                        <td id=\"T_31299534_e221_11ea_b69d_a01d484884e6row15_col0\" class=\"data row15 col0\" >PCA Method </td>\n",
       "                        <td id=\"T_31299534_e221_11ea_b69d_a01d484884e6row15_col1\" class=\"data row15 col1\" >None</td>\n",
       "            </tr>\n",
       "            <tr>\n",
       "                        <th id=\"T_31299534_e221_11ea_b69d_a01d484884e6level0_row16\" class=\"row_heading level0 row16\" >16</th>\n",
       "                        <td id=\"T_31299534_e221_11ea_b69d_a01d484884e6row16_col0\" class=\"data row16 col0\" >PCA components </td>\n",
       "                        <td id=\"T_31299534_e221_11ea_b69d_a01d484884e6row16_col1\" class=\"data row16 col1\" >None</td>\n",
       "            </tr>\n",
       "            <tr>\n",
       "                        <th id=\"T_31299534_e221_11ea_b69d_a01d484884e6level0_row17\" class=\"row_heading level0 row17\" >17</th>\n",
       "                        <td id=\"T_31299534_e221_11ea_b69d_a01d484884e6row17_col0\" class=\"data row17 col0\" >Ignore Low Variance </td>\n",
       "                        <td id=\"T_31299534_e221_11ea_b69d_a01d484884e6row17_col1\" class=\"data row17 col1\" >False</td>\n",
       "            </tr>\n",
       "            <tr>\n",
       "                        <th id=\"T_31299534_e221_11ea_b69d_a01d484884e6level0_row18\" class=\"row_heading level0 row18\" >18</th>\n",
       "                        <td id=\"T_31299534_e221_11ea_b69d_a01d484884e6row18_col0\" class=\"data row18 col0\" >Combine Rare Levels </td>\n",
       "                        <td id=\"T_31299534_e221_11ea_b69d_a01d484884e6row18_col1\" class=\"data row18 col1\" >False</td>\n",
       "            </tr>\n",
       "            <tr>\n",
       "                        <th id=\"T_31299534_e221_11ea_b69d_a01d484884e6level0_row19\" class=\"row_heading level0 row19\" >19</th>\n",
       "                        <td id=\"T_31299534_e221_11ea_b69d_a01d484884e6row19_col0\" class=\"data row19 col0\" >Rare Level Threshold </td>\n",
       "                        <td id=\"T_31299534_e221_11ea_b69d_a01d484884e6row19_col1\" class=\"data row19 col1\" >None</td>\n",
       "            </tr>\n",
       "            <tr>\n",
       "                        <th id=\"T_31299534_e221_11ea_b69d_a01d484884e6level0_row20\" class=\"row_heading level0 row20\" >20</th>\n",
       "                        <td id=\"T_31299534_e221_11ea_b69d_a01d484884e6row20_col0\" class=\"data row20 col0\" >Numeric Binning </td>\n",
       "                        <td id=\"T_31299534_e221_11ea_b69d_a01d484884e6row20_col1\" class=\"data row20 col1\" >False</td>\n",
       "            </tr>\n",
       "            <tr>\n",
       "                        <th id=\"T_31299534_e221_11ea_b69d_a01d484884e6level0_row21\" class=\"row_heading level0 row21\" >21</th>\n",
       "                        <td id=\"T_31299534_e221_11ea_b69d_a01d484884e6row21_col0\" class=\"data row21 col0\" >Remove Multicollinearity </td>\n",
       "                        <td id=\"T_31299534_e221_11ea_b69d_a01d484884e6row21_col1\" class=\"data row21 col1\" >False</td>\n",
       "            </tr>\n",
       "            <tr>\n",
       "                        <th id=\"T_31299534_e221_11ea_b69d_a01d484884e6level0_row22\" class=\"row_heading level0 row22\" >22</th>\n",
       "                        <td id=\"T_31299534_e221_11ea_b69d_a01d484884e6row22_col0\" class=\"data row22 col0\" >Multicollinearity Threshold </td>\n",
       "                        <td id=\"T_31299534_e221_11ea_b69d_a01d484884e6row22_col1\" class=\"data row22 col1\" >None</td>\n",
       "            </tr>\n",
       "            <tr>\n",
       "                        <th id=\"T_31299534_e221_11ea_b69d_a01d484884e6level0_row23\" class=\"row_heading level0 row23\" >23</th>\n",
       "                        <td id=\"T_31299534_e221_11ea_b69d_a01d484884e6row23_col0\" class=\"data row23 col0\" >Group Features </td>\n",
       "                        <td id=\"T_31299534_e221_11ea_b69d_a01d484884e6row23_col1\" class=\"data row23 col1\" >False</td>\n",
       "            </tr>\n",
       "    </tbody></table>"
      ],
      "text/plain": [
       "<pandas.io.formats.style.Styler at 0x1a2a59de48>"
      ]
     },
     "metadata": {},
     "output_type": "display_data"
    }
   ],
   "source": [
    "exp_ano101 = setup(df, normalize = True, \n",
    "                   ignore_features = ['id'],\n",
    "                   session_id = 123)"
   ]
  },
  {
   "cell_type": "code",
   "execution_count": 12,
   "metadata": {},
   "outputs": [],
   "source": [
    "iforest = create_model('iforest')"
   ]
  },
  {
   "cell_type": "code",
   "execution_count": 13,
   "metadata": {},
   "outputs": [
    {
     "data": {
      "text/html": [
       "        <script type=\"text/javascript\">\n",
       "        window.PlotlyConfig = {MathJaxConfig: 'local'};\n",
       "        if (window.MathJax) {MathJax.Hub.Config({SVG: {font: \"STIX-Web\"}});}\n",
       "        if (typeof require !== 'undefined') {\n",
       "        require.undef(\"plotly\");\n",
       "        requirejs.config({\n",
       "            paths: {\n",
       "                'plotly': ['https://cdn.plot.ly/plotly-latest.min']\n",
       "            }\n",
       "        });\n",
       "        require(['plotly'], function(Plotly) {\n",
       "            window._Plotly = Plotly;\n",
       "        });\n",
       "        }\n",
       "        </script>\n",
       "        "
      ]
     },
     "metadata": {},
     "output_type": "display_data"
    },
    {
     "data": {
      "application/vnd.plotly.v1+json": {
       "config": {
        "plotlyServerURL": "https://plot.ly"
       },
       "data": [
        {
         "customdata": [
          [
           1
          ],
          [
           2
          ],
          [
           3
          ],
          [
           4
          ],
          [
           5
          ],
          [
           6
          ],
          [
           9
          ],
          [
           10
          ],
          [
           11
          ],
          [
           12
          ],
          [
           14
          ],
          [
           15
          ],
          [
           16
          ],
          [
           17
          ],
          [
           18
          ],
          [
           19
          ],
          [
           20
          ],
          [
           21
          ],
          [
           23
          ],
          [
           26
          ],
          [
           27
          ],
          [
           29
          ],
          [
           35
          ],
          [
           36
          ],
          [
           38
          ],
          [
           39
          ],
          [
           40
          ],
          [
           41
          ],
          [
           42
          ],
          [
           43
          ],
          [
           44
          ],
          [
           45
          ],
          [
           46
          ],
          [
           47
          ],
          [
           48
          ],
          [
           50
          ],
          [
           51
          ],
          [
           52
          ],
          [
           53
          ],
          [
           54
          ],
          [
           55
          ],
          [
           56
          ],
          [
           57
          ],
          [
           58
          ],
          [
           59
          ],
          [
           60
          ],
          [
           61
          ],
          [
           62
          ],
          [
           63
          ],
          [
           64
          ],
          [
           67
          ],
          [
           68
          ],
          [
           69
          ],
          [
           70
          ],
          [
           71
          ],
          [
           72
          ],
          [
           73
          ],
          [
           74
          ],
          [
           76
          ],
          [
           77
          ],
          [
           78
          ],
          [
           79
          ],
          [
           80
          ],
          [
           81
          ],
          [
           82
          ],
          [
           83
          ],
          [
           86
          ],
          [
           87
          ],
          [
           88
          ],
          [
           90
          ],
          [
           92
          ],
          [
           93
          ],
          [
           95
          ],
          [
           96
          ],
          [
           97
          ],
          [
           98
          ],
          [
           99
          ],
          [
           100
          ],
          [
           101
          ],
          [
           102
          ],
          [
           103
          ],
          [
           104
          ],
          [
           105
          ],
          [
           106
          ],
          [
           107
          ],
          [
           108
          ],
          [
           109
          ],
          [
           110
          ],
          [
           111
          ],
          [
           112
          ],
          [
           113
          ],
          [
           114
          ],
          [
           115
          ],
          [
           116
          ],
          [
           117
          ],
          [
           118
          ],
          [
           119
          ],
          [
           120
          ],
          [
           121
          ],
          [
           122
          ],
          [
           125
          ],
          [
           126
          ],
          [
           128
          ],
          [
           129
          ],
          [
           130
          ],
          [
           131
          ],
          [
           132
          ],
          [
           134
          ],
          [
           135
          ],
          [
           136
          ],
          [
           137
          ],
          [
           138
          ],
          [
           139
          ],
          [
           140
          ],
          [
           141
          ],
          [
           142
          ],
          [
           143
          ],
          [
           144
          ],
          [
           147
          ],
          [
           148
          ],
          [
           150
          ],
          [
           152
          ],
          [
           153
          ],
          [
           154
          ],
          [
           155
          ],
          [
           157
          ],
          [
           158
          ],
          [
           159
          ],
          [
           160
          ],
          [
           162
          ],
          [
           164
          ],
          [
           167
          ],
          [
           168
          ],
          [
           169
          ],
          [
           170
          ],
          [
           171
          ],
          [
           172
          ],
          [
           173
          ],
          [
           174
          ],
          [
           175
          ],
          [
           176
          ],
          [
           179
          ],
          [
           180
          ],
          [
           181
          ],
          [
           182
          ],
          [
           183
          ],
          [
           184
          ],
          [
           185
          ],
          [
           186
          ],
          [
           187
          ],
          [
           189
          ],
          [
           190
          ],
          [
           191
          ],
          [
           194
          ],
          [
           195
          ],
          [
           196
          ],
          [
           197
          ],
          [
           198
          ],
          [
           199
          ],
          [
           200
          ],
          [
           201
          ],
          [
           203
          ],
          [
           204
          ],
          [
           206
          ],
          [
           207
          ],
          [
           209
          ],
          [
           210
          ],
          [
           211
          ],
          [
           212
          ],
          [
           213
          ],
          [
           214
          ],
          [
           215
          ],
          [
           216
          ],
          [
           218
          ],
          [
           219
          ],
          [
           220
          ],
          [
           222
          ],
          [
           224
          ],
          [
           226
          ],
          [
           228
          ],
          [
           231
          ],
          [
           232
          ],
          [
           233
          ],
          [
           234
          ],
          [
           236
          ],
          [
           237
          ],
          [
           240
          ],
          [
           243
          ],
          [
           244
          ],
          [
           245
          ],
          [
           247
          ],
          [
           248
          ],
          [
           249
          ],
          [
           250
          ],
          [
           251
          ],
          [
           252
          ],
          [
           254
          ],
          [
           255
          ],
          [
           257
          ],
          [
           259
          ],
          [
           260
          ],
          [
           261
          ],
          [
           262
          ],
          [
           263
          ],
          [
           265
          ],
          [
           266
          ],
          [
           267
          ],
          [
           268
          ],
          [
           269
          ],
          [
           271
          ],
          [
           272
          ],
          [
           273
          ],
          [
           274
          ],
          [
           275
          ],
          [
           276
          ],
          [
           277
          ],
          [
           279
          ],
          [
           280
          ],
          [
           281
          ],
          [
           282
          ],
          [
           283
          ],
          [
           284
          ],
          [
           285
          ],
          [
           286
          ],
          [
           287
          ],
          [
           288
          ],
          [
           289
          ],
          [
           290
          ],
          [
           291
          ],
          [
           292
          ],
          [
           293
          ],
          [
           294
          ],
          [
           295
          ],
          [
           296
          ],
          [
           297
          ],
          [
           298
          ],
          [
           299
          ],
          [
           300
          ],
          [
           301
          ],
          [
           302
          ],
          [
           304
          ],
          [
           306
          ],
          [
           307
          ],
          [
           308
          ],
          [
           310
          ],
          [
           311
          ],
          [
           312
          ],
          [
           314
          ],
          [
           315
          ],
          [
           317
          ],
          [
           318
          ],
          [
           320
          ],
          [
           321
          ],
          [
           322
          ],
          [
           325
          ],
          [
           326
          ],
          [
           327
          ],
          [
           328
          ],
          [
           329
          ],
          [
           330
          ],
          [
           331
          ],
          [
           332
          ],
          [
           333
          ],
          [
           334
          ],
          [
           335
          ],
          [
           336
          ],
          [
           338
          ],
          [
           339
          ],
          [
           340
          ],
          [
           341
          ],
          [
           342
          ],
          [
           344
          ],
          [
           345
          ],
          [
           347
          ],
          [
           348
          ],
          [
           349
          ],
          [
           350
          ],
          [
           351
          ],
          [
           352
          ],
          [
           353
          ],
          [
           354
          ],
          [
           355
          ],
          [
           356
          ],
          [
           357
          ],
          [
           358
          ],
          [
           359
          ],
          [
           360
          ],
          [
           361
          ],
          [
           362
          ],
          [
           363
          ],
          [
           364
          ],
          [
           366
          ],
          [
           367
          ],
          [
           368
          ],
          [
           369
          ],
          [
           370
          ],
          [
           371
          ],
          [
           372
          ],
          [
           373
          ],
          [
           375
          ],
          [
           376
          ],
          [
           377
          ],
          [
           378
          ],
          [
           380
          ],
          [
           381
          ],
          [
           383
          ],
          [
           384
          ],
          [
           385
          ],
          [
           386
          ],
          [
           387
          ],
          [
           388
          ],
          [
           389
          ],
          [
           390
          ],
          [
           392
          ],
          [
           393
          ],
          [
           394
          ],
          [
           395
          ],
          [
           396
          ],
          [
           397
          ],
          [
           398
          ],
          [
           399
          ],
          [
           404
          ],
          [
           405
          ],
          [
           406
          ],
          [
           407
          ],
          [
           408
          ],
          [
           409
          ],
          [
           410
          ],
          [
           411
          ],
          [
           412
          ],
          [
           413
          ],
          [
           414
          ],
          [
           415
          ],
          [
           416
          ],
          [
           417
          ],
          [
           418
          ],
          [
           419
          ],
          [
           420
          ],
          [
           422
          ],
          [
           423
          ],
          [
           424
          ],
          [
           425
          ],
          [
           426
          ],
          [
           427
          ],
          [
           428
          ],
          [
           429
          ],
          [
           430
          ],
          [
           431
          ],
          [
           432
          ],
          [
           433
          ],
          [
           434
          ],
          [
           435
          ],
          [
           436
          ],
          [
           438
          ],
          [
           439
          ],
          [
           440
          ],
          [
           442
          ],
          [
           443
          ],
          [
           444
          ],
          [
           445
          ],
          [
           446
          ],
          [
           447
          ],
          [
           449
          ],
          [
           450
          ],
          [
           451
          ],
          [
           452
          ],
          [
           454
          ],
          [
           455
          ],
          [
           456
          ],
          [
           458
          ],
          [
           459
          ],
          [
           460
          ],
          [
           461
          ],
          [
           462
          ],
          [
           463
          ],
          [
           464
          ],
          [
           465
          ],
          [
           468
          ],
          [
           469
          ],
          [
           470
          ],
          [
           471
          ],
          [
           472
          ],
          [
           473
          ],
          [
           474
          ],
          [
           475
          ],
          [
           476
          ],
          [
           477
          ],
          [
           478
          ],
          [
           479
          ],
          [
           480
          ],
          [
           481
          ],
          [
           482
          ],
          [
           483
          ],
          [
           484
          ],
          [
           485
          ],
          [
           486
          ],
          [
           489
          ],
          [
           490
          ],
          [
           491
          ],
          [
           492
          ],
          [
           494
          ],
          [
           495
          ],
          [
           497
          ],
          [
           498
          ],
          [
           499
          ],
          [
           500
          ],
          [
           503
          ],
          [
           504
          ],
          [
           506
          ],
          [
           508
          ],
          [
           509
          ],
          [
           511
          ],
          [
           512
          ],
          [
           513
          ],
          [
           517
          ],
          [
           518
          ],
          [
           519
          ],
          [
           520
          ],
          [
           522
          ],
          [
           523
          ],
          [
           524
          ],
          [
           525
          ],
          [
           526
          ],
          [
           528
          ],
          [
           529
          ],
          [
           530
          ],
          [
           531
          ],
          [
           532
          ],
          [
           533
          ],
          [
           534
          ],
          [
           535
          ],
          [
           536
          ],
          [
           537
          ],
          [
           538
          ],
          [
           539
          ],
          [
           541
          ],
          [
           542
          ],
          [
           545
          ],
          [
           546
          ],
          [
           547
          ],
          [
           548
          ],
          [
           549
          ],
          [
           550
          ],
          [
           551
          ],
          [
           552
          ],
          [
           553
          ],
          [
           554
          ],
          [
           555
          ],
          [
           556
          ],
          [
           557
          ],
          [
           558
          ],
          [
           559
          ],
          [
           560
          ],
          [
           561
          ],
          [
           563
          ],
          [
           564
          ],
          [
           565
          ],
          [
           566
          ],
          [
           567
          ],
          [
           569
          ],
          [
           570
          ],
          [
           573
          ],
          [
           574
          ],
          [
           575
          ],
          [
           576
          ],
          [
           578
          ],
          [
           580
          ],
          [
           581
          ],
          [
           582
          ],
          [
           584
          ],
          [
           585
          ],
          [
           587
          ],
          [
           588
          ],
          [
           589
          ],
          [
           590
          ],
          [
           592
          ],
          [
           593
          ],
          [
           597
          ],
          [
           600
          ],
          [
           601
          ],
          [
           602
          ],
          [
           604
          ],
          [
           605
          ],
          [
           610
          ],
          [
           613
          ],
          [
           615
          ],
          [
           617
          ],
          [
           618
          ],
          [
           621
          ],
          [
           622
          ],
          [
           624
          ],
          [
           625
          ],
          [
           626
          ],
          [
           627
          ],
          [
           628
          ],
          [
           629
          ],
          [
           630
          ],
          [
           631
          ],
          [
           633
          ],
          [
           634
          ],
          [
           635
          ],
          [
           636
          ],
          [
           637
          ],
          [
           640
          ],
          [
           642
          ],
          [
           643
          ],
          [
           644
          ],
          [
           645
          ],
          [
           647
          ],
          [
           648
          ],
          [
           650
          ],
          [
           651
          ],
          [
           653
          ],
          [
           654
          ],
          [
           655
          ],
          [
           656
          ],
          [
           657
          ],
          [
           658
          ],
          [
           659
          ],
          [
           662
          ],
          [
           663
          ],
          [
           664
          ],
          [
           665
          ],
          [
           666
          ],
          [
           667
          ],
          [
           668
          ],
          [
           670
          ],
          [
           671
          ],
          [
           672
          ],
          [
           673
          ],
          [
           674
          ],
          [
           675
          ],
          [
           676
          ],
          [
           680
          ],
          [
           682
          ],
          [
           683
          ],
          [
           684
          ],
          [
           685
          ],
          [
           687
          ],
          [
           688
          ],
          [
           689
          ],
          [
           692
          ],
          [
           693
          ],
          [
           694
          ],
          [
           695
          ],
          [
           696
          ],
          [
           697
          ],
          [
           698
          ],
          [
           699
          ],
          [
           700
          ],
          [
           701
          ],
          [
           703
          ],
          [
           704
          ],
          [
           705
          ],
          [
           706
          ],
          [
           707
          ],
          [
           708
          ],
          [
           709
          ],
          [
           710
          ],
          [
           712
          ],
          [
           713
          ],
          [
           714
          ],
          [
           715
          ],
          [
           716
          ],
          [
           719
          ],
          [
           720
          ],
          [
           722
          ],
          [
           723
          ],
          [
           724
          ],
          [
           725
          ],
          [
           726
          ],
          [
           727
          ],
          [
           728
          ],
          [
           730
          ],
          [
           731
          ],
          [
           732
          ],
          [
           734
          ],
          [
           736
          ],
          [
           737
          ],
          [
           740
          ],
          [
           741
          ],
          [
           743
          ],
          [
           744
          ],
          [
           745
          ],
          [
           749
          ],
          [
           751
          ],
          [
           754
          ],
          [
           755
          ],
          [
           756
          ],
          [
           758
          ],
          [
           759
          ],
          [
           763
          ],
          [
           764
          ],
          [
           765
          ],
          [
           766
          ],
          [
           767
          ],
          [
           770
          ],
          [
           771
          ],
          [
           772
          ],
          [
           773
          ],
          [
           774
          ],
          [
           775
          ],
          [
           776
          ],
          [
           777
          ],
          [
           778
          ],
          [
           780
          ],
          [
           781
          ],
          [
           783
          ],
          [
           784
          ],
          [
           786
          ],
          [
           789
          ],
          [
           790
          ],
          [
           792
          ],
          [
           793
          ],
          [
           794
          ],
          [
           796
          ],
          [
           797
          ],
          [
           798
          ],
          [
           801
          ],
          [
           804
          ],
          [
           807
          ],
          [
           808
          ],
          [
           809
          ],
          [
           810
          ],
          [
           812
          ],
          [
           813
          ],
          [
           814
          ],
          [
           815
          ],
          [
           816
          ],
          [
           817
          ],
          [
           818
          ],
          [
           819
          ],
          [
           820
          ],
          [
           821
          ],
          [
           822
          ],
          [
           823
          ],
          [
           824
          ],
          [
           825
          ],
          [
           826
          ],
          [
           827
          ],
          [
           828
          ],
          [
           829
          ],
          [
           830
          ],
          [
           831
          ],
          [
           832
          ],
          [
           833
          ],
          [
           834
          ],
          [
           835
          ],
          [
           836
          ],
          [
           837
          ],
          [
           838
          ],
          [
           839
          ],
          [
           840
          ],
          [
           841
          ],
          [
           842
          ],
          [
           843
          ],
          [
           844
          ],
          [
           846
          ],
          [
           847
          ],
          [
           848
          ],
          [
           849
          ],
          [
           850
          ],
          [
           851
          ],
          [
           852
          ],
          [
           854
          ],
          [
           855
          ],
          [
           856
          ],
          [
           857
          ],
          [
           858
          ],
          [
           859
          ],
          [
           862
          ],
          [
           863
          ],
          [
           864
          ],
          [
           865
          ],
          [
           866
          ],
          [
           867
          ],
          [
           868
          ],
          [
           869
          ],
          [
           870
          ],
          [
           871
          ],
          [
           872
          ],
          [
           873
          ],
          [
           874
          ],
          [
           876
          ],
          [
           877
          ],
          [
           878
          ],
          [
           879
          ],
          [
           880
          ],
          [
           881
          ],
          [
           882
          ],
          [
           883
          ],
          [
           884
          ],
          [
           885
          ],
          [
           886
          ],
          [
           887
          ],
          [
           889
          ],
          [
           890
          ],
          [
           891
          ],
          [
           892
          ],
          [
           893
          ],
          [
           894
          ],
          [
           897
          ],
          [
           898
          ],
          [
           899
          ],
          [
           900
          ],
          [
           901
          ],
          [
           904
          ],
          [
           908
          ],
          [
           909
          ],
          [
           910
          ],
          [
           911
          ],
          [
           913
          ],
          [
           914
          ],
          [
           916
          ],
          [
           917
          ],
          [
           918
          ],
          [
           919
          ],
          [
           920
          ],
          [
           921
          ],
          [
           924
          ],
          [
           925
          ],
          [
           926
          ],
          [
           927
          ],
          [
           928
          ],
          [
           929
          ],
          [
           930
          ],
          [
           931
          ],
          [
           932
          ],
          [
           933
          ],
          [
           934
          ],
          [
           935
          ],
          [
           936
          ],
          [
           937
          ],
          [
           938
          ],
          [
           939
          ],
          [
           940
          ],
          [
           942
          ],
          [
           944
          ],
          [
           945
          ],
          [
           946
          ],
          [
           947
          ],
          [
           948
          ],
          [
           950
          ],
          [
           952
          ],
          [
           953
          ],
          [
           955
          ],
          [
           956
          ],
          [
           957
          ],
          [
           963
          ],
          [
           964
          ],
          [
           965
          ],
          [
           966
          ],
          [
           967
          ],
          [
           968
          ],
          [
           969
          ],
          [
           970
          ],
          [
           971
          ],
          [
           972
          ],
          [
           973
          ],
          [
           974
          ],
          [
           976
          ],
          [
           977
          ],
          [
           978
          ],
          [
           979
          ],
          [
           980
          ],
          [
           982
          ],
          [
           983
          ],
          [
           984
          ],
          [
           986
          ],
          [
           987
          ],
          [
           988
          ],
          [
           989
          ],
          [
           990
          ],
          [
           992
          ],
          [
           993
          ],
          [
           994
          ],
          [
           996
          ],
          [
           997
          ],
          [
           999
          ],
          [
           1000
          ],
          [
           1001
          ],
          [
           1002
          ],
          [
           1003
          ],
          [
           1005
          ],
          [
           1006
          ],
          [
           1007
          ],
          [
           1008
          ],
          [
           1010
          ],
          [
           1011
          ],
          [
           1012
          ],
          [
           1013
          ],
          [
           1015
          ],
          [
           1016
          ],
          [
           1017
          ],
          [
           1018
          ],
          [
           1019
          ],
          [
           1020
          ],
          [
           1021
          ],
          [
           1023
          ],
          [
           1024
          ],
          [
           1025
          ],
          [
           1026
          ],
          [
           1027
          ],
          [
           1029
          ],
          [
           1030
          ],
          [
           1032
          ],
          [
           1033
          ],
          [
           1034
          ],
          [
           1035
          ],
          [
           1036
          ],
          [
           1037
          ],
          [
           1038
          ],
          [
           1039
          ],
          [
           1041
          ],
          [
           1042
          ],
          [
           1043
          ],
          [
           1045
          ],
          [
           1046
          ],
          [
           1047
          ],
          [
           1048
          ],
          [
           1049
          ],
          [
           1050
          ],
          [
           1051
          ],
          [
           1052
          ],
          [
           1053
          ],
          [
           1054
          ],
          [
           1055
          ],
          [
           1056
          ],
          [
           1057
          ],
          [
           1058
          ],
          [
           1059
          ],
          [
           1060
          ],
          [
           1062
          ],
          [
           1066
          ],
          [
           1067
          ],
          [
           1069
          ],
          [
           1070
          ],
          [
           1071
          ],
          [
           1072
          ],
          [
           1073
          ],
          [
           1074
          ],
          [
           1075
          ],
          [
           1076
          ],
          [
           1078
          ],
          [
           1079
          ],
          [
           1080
          ],
          [
           1082
          ],
          [
           1084
          ],
          [
           1087
          ],
          [
           1088
          ],
          [
           1089
          ],
          [
           1090
          ],
          [
           1091
          ],
          [
           1092
          ],
          [
           1093
          ],
          [
           1094
          ],
          [
           1095
          ],
          [
           1096
          ],
          [
           1097
          ],
          [
           1098
          ],
          [
           1099
          ],
          [
           1100
          ],
          [
           1101
          ],
          [
           1102
          ],
          [
           1103
          ],
          [
           1104
          ],
          [
           1105
          ],
          [
           1108
          ],
          [
           1110
          ],
          [
           1111
          ],
          [
           1112
          ],
          [
           1113
          ],
          [
           1114
          ],
          [
           1115
          ],
          [
           1116
          ],
          [
           1117
          ],
          [
           1119
          ],
          [
           1120
          ],
          [
           1121
          ],
          [
           1122
          ],
          [
           1123
          ],
          [
           1124
          ],
          [
           1125
          ],
          [
           1126
          ],
          [
           1127
          ],
          [
           1129
          ],
          [
           1130
          ],
          [
           1131
          ],
          [
           1132
          ],
          [
           1133
          ],
          [
           1134
          ],
          [
           1135
          ],
          [
           1136
          ],
          [
           1138
          ],
          [
           1139
          ],
          [
           1141
          ],
          [
           1142
          ],
          [
           1143
          ],
          [
           1144
          ],
          [
           1145
          ],
          [
           1146
          ],
          [
           1147
          ],
          [
           1148
          ],
          [
           1149
          ],
          [
           1150
          ],
          [
           1153
          ],
          [
           1154
          ],
          [
           1155
          ],
          [
           1156
          ],
          [
           1157
          ],
          [
           1158
          ],
          [
           1159
          ],
          [
           1160
          ],
          [
           1161
          ],
          [
           1162
          ],
          [
           1163
          ],
          [
           1164
          ],
          [
           1165
          ],
          [
           1166
          ],
          [
           1167
          ],
          [
           1168
          ],
          [
           1169
          ],
          [
           1170
          ],
          [
           1171
          ],
          [
           1173
          ],
          [
           1175
          ],
          [
           1177
          ],
          [
           1178
          ],
          [
           1179
          ],
          [
           1180
          ],
          [
           1181
          ],
          [
           1182
          ],
          [
           1183
          ],
          [
           1185
          ],
          [
           1186
          ],
          [
           1187
          ],
          [
           1189
          ],
          [
           1190
          ],
          [
           1191
          ],
          [
           1192
          ],
          [
           1193
          ],
          [
           1194
          ],
          [
           1195
          ],
          [
           1196
          ],
          [
           1197
          ],
          [
           1198
          ],
          [
           1199
          ],
          [
           1200
          ],
          [
           1201
          ],
          [
           1202
          ],
          [
           1203
          ],
          [
           1204
          ],
          [
           1205
          ],
          [
           1206
          ],
          [
           1207
          ],
          [
           1208
          ],
          [
           1209
          ],
          [
           1211
          ],
          [
           1212
          ],
          [
           1213
          ],
          [
           1214
          ],
          [
           1215
          ],
          [
           1216
          ],
          [
           1217
          ],
          [
           1218
          ],
          [
           1219
          ],
          [
           1220
          ],
          [
           1221
          ],
          [
           1222
          ],
          [
           1223
          ],
          [
           1224
          ],
          [
           1225
          ],
          [
           1226
          ],
          [
           1228
          ],
          [
           1229
          ],
          [
           1230
          ],
          [
           1231
          ],
          [
           1232
          ],
          [
           1233
          ],
          [
           1234
          ],
          [
           1235
          ],
          [
           1236
          ],
          [
           1238
          ],
          [
           1239
          ],
          [
           1240
          ],
          [
           1241
          ],
          [
           1242
          ],
          [
           1243
          ],
          [
           1244
          ],
          [
           1247
          ],
          [
           1249
          ],
          [
           1250
          ],
          [
           1251
          ],
          [
           1252
          ],
          [
           1253
          ],
          [
           1254
          ],
          [
           1255
          ],
          [
           1256
          ],
          [
           1257
          ],
          [
           1258
          ],
          [
           1259
          ],
          [
           1260
          ],
          [
           1261
          ],
          [
           1262
          ],
          [
           1263
          ],
          [
           1264
          ],
          [
           1265
          ],
          [
           1266
          ],
          [
           1267
          ],
          [
           1268
          ],
          [
           1269
          ],
          [
           1270
          ],
          [
           1271
          ],
          [
           1272
          ],
          [
           1273
          ],
          [
           1275
          ],
          [
           1278
          ],
          [
           1279
          ],
          [
           1280
          ],
          [
           1281
          ],
          [
           1282
          ],
          [
           1286
          ],
          [
           1287
          ],
          [
           1288
          ],
          [
           1289
          ],
          [
           1290
          ],
          [
           1291
          ],
          [
           1292
          ],
          [
           1293
          ],
          [
           1294
          ],
          [
           1299
          ],
          [
           1300
          ],
          [
           1301
          ],
          [
           1302
          ],
          [
           1303
          ],
          [
           1304
          ],
          [
           1308
          ],
          [
           1311
          ],
          [
           1314
          ],
          [
           1315
          ],
          [
           1317
          ],
          [
           1319
          ],
          [
           1322
          ],
          [
           1328
          ],
          [
           1329
          ],
          [
           1331
          ],
          [
           1333
          ],
          [
           1334
          ],
          [
           1336
          ],
          [
           1341
          ],
          [
           1342
          ],
          [
           1343
          ],
          [
           1347
          ],
          [
           1349
          ],
          [
           1353
          ],
          [
           1354
          ],
          [
           1356
          ],
          [
           1363
          ],
          [
           1364
          ],
          [
           1365
          ],
          [
           1366
          ],
          [
           1368
          ],
          [
           1369
          ],
          [
           1370
          ],
          [
           1371
          ],
          [
           1372
          ],
          [
           1373
          ],
          [
           1374
          ],
          [
           1376
          ],
          [
           1377
          ],
          [
           1378
          ],
          [
           1379
          ],
          [
           1380
          ],
          [
           1381
          ],
          [
           1382
          ],
          [
           1383
          ],
          [
           1385
          ],
          [
           1388
          ],
          [
           1392
          ],
          [
           1393
          ],
          [
           1394
          ],
          [
           1395
          ],
          [
           1397
          ],
          [
           1400
          ],
          [
           1404
          ],
          [
           1405
          ],
          [
           1406
          ],
          [
           1407
          ],
          [
           1408
          ],
          [
           1409
          ],
          [
           1410
          ],
          [
           1411
          ],
          [
           1412
          ],
          [
           1413
          ],
          [
           1414
          ],
          [
           1415
          ],
          [
           1416
          ],
          [
           1417
          ],
          [
           1418
          ],
          [
           1419
          ],
          [
           1420
          ],
          [
           1421
          ],
          [
           1422
          ],
          [
           1423
          ],
          [
           1424
          ],
          [
           1425
          ],
          [
           1426
          ],
          [
           1427
          ],
          [
           1428
          ],
          [
           1429
          ],
          [
           1430
          ],
          [
           1431
          ],
          [
           1432
          ],
          [
           1433
          ],
          [
           1434
          ],
          [
           1435
          ],
          [
           1436
          ],
          [
           1437
          ],
          [
           1438
          ],
          [
           1439
          ],
          [
           1440
          ],
          [
           1441
          ],
          [
           1442
          ],
          [
           1443
          ],
          [
           1444
          ],
          [
           1445
          ],
          [
           1446
          ],
          [
           1447
          ],
          [
           1448
          ],
          [
           1449
          ],
          [
           1450
          ],
          [
           1451
          ],
          [
           1452
          ],
          [
           1453
          ],
          [
           1454
          ],
          [
           1455
          ],
          [
           1456
          ],
          [
           1457
          ],
          [
           1458
          ],
          [
           1459
          ],
          [
           1460
          ],
          [
           1461
          ],
          [
           1462
          ],
          [
           1463
          ],
          [
           1464
          ],
          [
           1465
          ],
          [
           1466
          ],
          [
           1467
          ],
          [
           1468
          ],
          [
           1469
          ],
          [
           1470
          ],
          [
           1471
          ],
          [
           1472
          ],
          [
           1473
          ],
          [
           1474
          ],
          [
           1475
          ],
          [
           1476
          ],
          [
           1477
          ],
          [
           1478
          ],
          [
           1479
          ],
          [
           1480
          ],
          [
           1481
          ],
          [
           1482
          ],
          [
           1483
          ],
          [
           1484
          ],
          [
           1485
          ],
          [
           1486
          ],
          [
           1487
          ],
          [
           1488
          ],
          [
           1489
          ],
          [
           1490
          ],
          [
           1491
          ],
          [
           1492
          ],
          [
           1493
          ]
         ],
         "hovertemplate": "0=%{x}<br>1=%{y}<br>2=%{z}<br>Feature=%{customdata[0]}<br>Label=%{marker.color}<extra></extra>",
         "legendgroup": "",
         "marker": {
          "color": [
           1,
           0,
           0,
           0,
           0,
           1,
           0,
           0,
           0,
           0,
           0,
           1,
           0,
           0,
           0,
           1,
           0,
           1,
           0,
           1,
           0,
           0,
           0,
           1,
           0,
           0,
           0,
           0,
           0,
           0,
           0,
           0,
           0,
           0,
           0,
           0,
           0,
           0,
           0,
           0,
           0,
           0,
           0,
           0,
           0,
           0,
           1,
           0,
           0,
           0,
           0,
           1,
           0,
           0,
           0,
           0,
           0,
           0,
           0,
           0,
           0,
           1,
           0,
           0,
           0,
           0,
           0,
           0,
           0,
           1,
           0,
           0,
           0,
           0,
           0,
           0,
           0,
           0,
           1,
           0,
           0,
           0,
           0,
           0,
           0,
           0,
           0,
           0,
           0,
           0,
           0,
           0,
           0,
           1,
           0,
           1,
           0,
           0,
           0,
           0,
           0,
           1,
           0,
           0,
           0,
           0,
           0,
           0,
           0,
           1,
           0,
           0,
           0,
           0,
           1,
           1,
           0,
           0,
           0,
           0,
           0,
           0,
           0,
           0,
           0,
           0,
           0,
           0,
           0,
           1,
           0,
           0,
           0,
           0,
           0,
           0,
           0,
           1,
           0,
           0,
           0,
           0,
           0,
           1,
           0,
           1,
           0,
           0,
           0,
           0,
           0,
           0,
           1,
           0,
           1,
           0,
           0,
           0,
           1,
           0,
           0,
           0,
           1,
           0,
           0,
           0,
           0,
           0,
           0,
           0,
           0,
           0,
           0,
           0,
           0,
           0,
           0,
           0,
           0,
           0,
           0,
           0,
           0,
           0,
           0,
           0,
           0,
           0,
           0,
           0,
           0,
           0,
           0,
           0,
           0,
           0,
           0,
           0,
           0,
           0,
           0,
           0,
           1,
           0,
           0,
           0,
           0,
           0,
           0,
           0,
           0,
           0,
           0,
           0,
           0,
           0,
           0,
           0,
           0,
           0,
           0,
           0,
           0,
           0,
           0,
           0,
           0,
           0,
           0,
           0,
           0,
           0,
           0,
           0,
           0,
           1,
           0,
           0,
           0,
           0,
           0,
           0,
           0,
           0,
           0,
           0,
           0,
           0,
           0,
           0,
           0,
           0,
           0,
           0,
           0,
           0,
           0,
           0,
           0,
           0,
           0,
           0,
           0,
           0,
           0,
           0,
           0,
           0,
           0,
           0,
           0,
           0,
           0,
           0,
           0,
           0,
           0,
           1,
           1,
           0,
           0,
           0,
           0,
           0,
           0,
           0,
           0,
           0,
           0,
           0,
           0,
           0,
           1,
           0,
           0,
           0,
           0,
           0,
           0,
           0,
           1,
           0,
           0,
           0,
           0,
           0,
           0,
           0,
           0,
           0,
           0,
           0,
           0,
           0,
           0,
           0,
           0,
           0,
           0,
           0,
           0,
           0,
           0,
           1,
           0,
           0,
           0,
           0,
           1,
           0,
           0,
           0,
           0,
           0,
           0,
           0,
           0,
           0,
           0,
           0,
           0,
           0,
           0,
           0,
           0,
           0,
           0,
           0,
           1,
           0,
           0,
           0,
           0,
           0,
           0,
           0,
           0,
           0,
           0,
           0,
           0,
           0,
           0,
           0,
           0,
           0,
           0,
           0,
           0,
           0,
           0,
           0,
           0,
           0,
           0,
           0,
           0,
           0,
           0,
           0,
           0,
           0,
           0,
           0,
           0,
           0,
           1,
           0,
           0,
           0,
           0,
           0,
           0,
           0,
           0,
           0,
           0,
           0,
           0,
           0,
           0,
           0,
           0,
           0,
           0,
           0,
           1,
           1,
           0,
           0,
           0,
           0,
           1,
           0,
           0,
           0,
           0,
           0,
           0,
           0,
           0,
           1,
           0,
           0,
           0,
           0,
           0,
           0,
           0,
           0,
           0,
           0,
           0,
           0,
           0,
           0,
           0,
           1,
           0,
           0,
           0,
           0,
           0,
           0,
           1,
           0,
           0,
           0,
           0,
           0,
           1,
           0,
           0,
           0,
           0,
           0,
           0,
           0,
           0,
           0,
           0,
           0,
           0,
           0,
           0,
           0,
           0,
           0,
           0,
           0,
           0,
           0,
           0,
           0,
           0,
           0,
           0,
           0,
           0,
           0,
           0,
           0,
           0,
           0,
           0,
           1,
           0,
           0,
           0,
           0,
           0,
           0,
           0,
           0,
           0,
           0,
           0,
           0,
           0,
           0,
           0,
           0,
           0,
           0,
           0,
           0,
           0,
           0,
           0,
           0,
           0,
           0,
           0,
           0,
           0,
           0,
           1,
           0,
           0,
           0,
           0,
           0,
           0,
           0,
           0,
           0,
           0,
           0,
           0,
           0,
           0,
           0,
           0,
           1,
           1,
           0,
           0,
           1,
           0,
           1,
           1,
           0,
           0,
           0,
           0,
           0,
           0,
           0,
           0,
           0,
           0,
           0,
           0,
           0,
           0,
           0,
           0,
           0,
           0,
           0,
           0,
           0,
           0,
           0,
           1,
           0,
           0,
           0,
           0,
           0,
           0,
           0,
           0,
           0,
           0,
           0,
           0,
           0,
           0,
           0,
           0,
           0,
           0,
           1,
           0,
           0,
           1,
           0,
           0,
           0,
           0,
           0,
           0,
           0,
           0,
           0,
           0,
           0,
           0,
           0,
           0,
           0,
           0,
           0,
           0,
           0,
           0,
           0,
           0,
           0,
           0,
           1,
           0,
           0,
           0,
           0,
           0,
           0,
           0,
           0,
           0,
           0,
           0,
           0,
           0,
           0,
           0,
           0,
           0,
           0,
           0,
           0,
           0,
           0,
           0,
           0,
           0,
           0,
           0,
           0,
           0,
           0,
           0,
           0,
           0,
           0,
           1,
           0,
           0,
           0,
           1,
           0,
           0,
           0,
           0,
           0,
           0,
           0,
           0,
           0,
           0,
           0,
           0,
           0,
           0,
           0,
           0,
           0,
           0,
           0,
           0,
           0,
           0,
           0,
           0,
           0,
           0,
           0,
           0,
           0,
           0,
           0,
           0,
           0,
           0,
           0,
           0,
           0,
           0,
           0,
           0,
           0,
           0,
           0,
           0,
           0,
           0,
           0,
           0,
           0,
           0,
           0,
           0,
           0,
           0,
           0,
           0,
           0,
           0,
           0,
           0,
           0,
           0,
           0,
           0,
           0,
           0,
           0,
           0,
           0,
           0,
           0,
           0,
           0,
           0,
           0,
           0,
           0,
           0,
           0,
           0,
           0,
           1,
           0,
           0,
           0,
           0,
           0,
           0,
           0,
           0,
           0,
           0,
           0,
           0,
           0,
           0,
           0,
           0,
           0,
           0,
           0,
           0,
           0,
           0,
           0,
           0,
           0,
           0,
           0,
           0,
           0,
           0,
           0,
           0,
           0,
           0,
           0,
           0,
           0,
           0,
           0,
           0,
           0,
           0,
           0,
           0,
           0,
           0,
           0,
           0,
           0,
           0,
           0,
           0,
           0,
           0,
           0,
           0,
           0,
           0,
           0,
           0,
           0,
           0,
           0,
           0,
           0,
           0,
           0,
           0,
           0,
           0,
           0,
           0,
           0,
           0,
           0,
           0,
           0,
           0,
           0,
           0,
           0,
           0,
           0,
           0,
           0,
           0,
           0,
           0,
           0,
           0,
           0,
           0,
           0,
           0,
           1,
           0,
           0,
           0,
           0,
           0,
           0,
           0,
           0,
           0,
           0,
           0,
           0,
           0,
           0,
           0,
           0,
           0,
           0,
           0,
           0,
           0,
           0,
           0,
           0,
           0,
           0,
           0,
           0,
           0,
           0,
           0,
           0,
           0,
           0,
           0,
           0,
           0,
           0,
           0,
           0,
           0,
           0,
           0,
           0,
           0,
           0,
           0,
           0,
           0,
           0,
           0,
           0,
           0,
           0,
           0,
           0,
           0,
           0,
           0,
           0,
           0,
           0,
           0,
           0,
           0,
           0,
           0,
           0,
           0,
           0,
           0,
           0,
           0,
           0,
           0,
           0,
           0,
           0,
           0,
           0,
           0,
           0,
           0,
           0,
           0,
           0,
           0,
           0,
           0,
           0,
           0,
           0,
           0,
           0,
           0,
           0,
           0,
           0,
           0,
           0,
           0,
           0,
           0,
           0,
           0,
           0,
           0,
           0,
           0,
           0,
           0,
           0,
           0,
           0,
           0,
           0,
           0,
           0,
           0,
           0,
           0,
           0,
           0,
           0,
           0,
           0,
           0,
           0,
           0,
           0,
           0,
           0,
           0,
           0,
           0,
           0,
           0,
           0,
           0,
           0,
           0,
           0,
           0,
           0,
           0,
           0,
           0,
           0,
           0,
           0,
           0,
           0,
           0,
           0,
           0,
           0,
           0,
           0,
           0,
           0,
           0,
           0,
           0,
           0,
           0,
           0,
           0,
           0,
           0,
           0,
           0,
           0,
           0,
           0,
           0,
           0,
           0,
           0,
           0,
           0,
           0,
           0,
           0,
           0,
           0,
           0,
           0,
           0,
           0,
           0,
           0,
           0,
           0,
           0,
           0,
           0,
           0,
           0,
           0,
           0,
           0,
           0,
           0,
           0,
           0,
           0,
           0,
           0,
           0,
           0,
           0,
           0,
           0,
           0,
           0,
           0,
           0,
           0,
           0,
           0,
           0,
           0,
           0,
           0,
           0,
           0,
           0,
           0,
           0,
           0,
           1,
           0,
           0,
           0,
           0,
           0,
           0,
           0,
           0,
           0,
           0,
           0,
           0,
           0,
           0,
           0,
           0,
           0,
           0,
           0,
           0,
           0,
           0,
           0,
           0,
           0,
           0,
           0,
           0,
           0,
           0,
           0,
           0,
           0,
           0,
           0,
           0,
           0,
           0,
           0,
           0,
           0,
           0,
           0,
           0,
           0,
           0,
           0,
           0,
           0,
           0,
           0,
           0,
           0,
           0,
           0,
           0,
           0,
           0,
           0,
           0,
           0,
           0,
           0,
           0,
           0,
           0,
           0,
           0,
           0,
           0,
           0,
           0,
           0,
           0,
           0,
           0,
           0,
           0,
           0,
           0,
           0,
           0,
           0,
           0,
           0,
           0,
           0,
           0,
           0,
           0,
           0,
           0,
           0,
           0,
           0,
           0,
           0,
           0,
           0,
           0,
           0,
           0,
           0,
           0,
           0,
           0,
           0,
           0,
           0,
           0,
           0,
           0,
           0,
           0,
           0
          ],
          "coloraxis": "coloraxis",
          "opacity": 0.7,
          "symbol": "circle"
         },
         "mode": "markers",
         "name": "",
         "scene": "scene",
         "showlegend": false,
         "type": "scatter3d",
         "x": [
          21.69889259338379,
          20.72995376586914,
          19.83941078186035,
          20.40146255493164,
          19.831369400024414,
          19.658071517944336,
          20.9326229095459,
          18.251449584960938,
          15.78896427154541,
          16.25640869140625,
          -10.102438926696777,
          17.333473205566406,
          -8.626041412353516,
          17.479806900024414,
          -9.406725883483887,
          13.034743309020996,
          16.827075958251953,
          18.812002182006836,
          -9.38669490814209,
          18.81144905090332,
          16.246437072753906,
          -8.33240032196045,
          16.099599838256836,
          18.31251335144043,
          -9.963672637939453,
          12.625102043151855,
          17.643814086914062,
          -11.494255065917969,
          -9.381745338439941,
          -12.798579216003418,
          -11.249436378479004,
          -11.915071487426758,
          -9.56569766998291,
          10.568819999694824,
          -15.169923782348633,
          -13.904151916503906,
          15.870339393615723,
          13.167723655700684,
          -12.320716857910156,
          14.384719848632812,
          16.535709381103516,
          -7.063872337341309,
          15.798069953918457,
          -8.19296932220459,
          -6.156899929046631,
          5.5754804611206055,
          17.320724487304688,
          -17.39167594909668,
          15.698925018310547,
          15.081006050109863,
          -14.267051696777344,
          -2.43849778175354,
          -12.96618366241455,
          -8.436616897583008,
          9.662622451782227,
          9.245131492614746,
          -14.26388931274414,
          -14.10495376586914,
          -11.604090690612793,
          -7.18865442276001,
          -7.090270042419434,
          -9.878791809082031,
          -9.585803985595703,
          -10.957113265991211,
          16.679698944091797,
          -4.466261386871338,
          -6.544936180114746,
          -9.027544021606445,
          -10.236164093017578,
          9.9854154586792,
          16.145526885986328,
          -7.761159420013428,
          -14.24864387512207,
          -13.122905731201172,
          -9.253053665161133,
          -16.068923950195312,
          -11.602323532104492,
          -13.470602035522461,
          11.11674976348877,
          1.3927934169769287,
          -10.208198547363281,
          -8.51591682434082,
          11.87828540802002,
          -9.715537071228027,
          17.726802825927734,
          16.588577270507812,
          -10.936326026916504,
          -10.028599739074707,
          11.349186897277832,
          -8.1749267578125,
          -11.683929443359375,
          -8.615498542785645,
          -3.8240270614624023,
          11.183390617370605,
          -6.606835842132568,
          -10.680438995361328,
          -6.046743869781494,
          -15.013642311096191,
          -7.273642063140869,
          -11.346198081970215,
          0.9286375045776367,
          -5.047058582305908,
          -7.228857517242432,
          -15.333664894104004,
          -11.100135803222656,
          -12.688324928283691,
          -7.271768569946289,
          -10.272429466247559,
          15.434508323669434,
          10.752609252929688,
          -10.948382377624512,
          -11.15383243560791,
          -10.434673309326172,
          -8.545221328735352,
          -4.144495487213135,
          12.776959419250488,
          -10.173583984375,
          -12.475442886352539,
          -2.577218770980835,
          7.112576961517334,
          -12.03945255279541,
          -9.705788612365723,
          -0.8743553757667542,
          -12.29910659790039,
          -9.972789764404297,
          -16.335311889648438,
          -5.858866214752197,
          -8.533198356628418,
          -7.994296550750732,
          -12.540972709655762,
          -5.108410358428955,
          -10.808971405029297,
          9.872955322265625,
          -7.160678386688232,
          -5.908174514770508,
          14.544028282165527,
          -7.839407444000244,
          15.465120315551758,
          13.806843757629395,
          -10.76623249053955,
          -5.29957914352417,
          -17.60797691345215,
          -10.07043170928955,
          11.000389099121094,
          -5.444150447845459,
          -2.1175777912139893,
          -7.181153297424316,
          -13.538870811462402,
          -9.949856758117676,
          -5.893852233886719,
          8.666487693786621,
          14.008743286132812,
          16.478511810302734,
          -6.3767781257629395,
          14.163466453552246,
          -7.256167411804199,
          -16.065357208251953,
          -7.795440196990967,
          6.918458938598633,
          9.702143669128418,
          1.3650988340377808,
          -8.557937622070312,
          9.913286209106445,
          -5.128165245056152,
          -6.90731143951416,
          -5.109028339385986,
          -6.778998851776123,
          -13.004685401916504,
          -7.298343658447266,
          -4.808266639709473,
          -8.390318870544434,
          -7.887200832366943,
          4.916381359100342,
          -0.960014820098877,
          11.641765594482422,
          -6.642292022705078,
          -9.38661003112793,
          14.491066932678223,
          -13.434538841247559,
          -0.39683717489242554,
          11.805102348327637,
          -5.453261852264404,
          -17.357553482055664,
          15.337040901184082,
          -8.219507217407227,
          3.264242649078369,
          8.2067289352417,
          -6.711666584014893,
          -12.838356971740723,
          -15.436529159545898,
          -7.003288269042969,
          7.4020466804504395,
          8.494976043701172,
          5.463028907775879,
          -4.233874797821045,
          -5.047945022583008,
          -13.378812789916992,
          -10.954336166381836,
          -10.750397682189941,
          -10.048115730285645,
          -8.612762451171875,
          2.3933422565460205,
          0.8721781373023987,
          -6.0128397941589355,
          14.284645080566406,
          -11.076406478881836,
          -10.387248992919922,
          -12.814925193786621,
          -8.517715454101562,
          -12.859586715698242,
          14.944734573364258,
          -10.229294776916504,
          -5.537604331970215,
          -9.406110763549805,
          -11.034321784973145,
          -9.984050750732422,
          13.056111335754395,
          11.238663673400879,
          -6.620370864868164,
          10.246211051940918,
          16.82360076904297,
          1.3730586767196655,
          10.937956809997559,
          -7.738725662231445,
          -12.203978538513184,
          -4.201958656311035,
          11.101690292358398,
          -14.785375595092773,
          10.997441291809082,
          -11.125,
          -6.096505641937256,
          -5.688694477081299,
          2.655792713165283,
          3.910304307937622,
          -11.64007568359375,
          4.441107273101807,
          -8.172663688659668,
          11.915276527404785,
          -9.72781753540039,
          -0.4342409372329712,
          -6.40593957901001,
          -14.560444831848145,
          4.826512813568115,
          -9.077658653259277,
          6.337135314941406,
          -16.24872398376465,
          -12.941018104553223,
          -12.106497764587402,
          -14.334957122802734,
          -6.030909538269043,
          -3.293412446975708,
          -9.98673152923584,
          -12.177459716796875,
          -0.7941974401473999,
          -8.63642692565918,
          -1.851377010345459,
          -7.870675563812256,
          -16.89169692993164,
          5.883371353149414,
          -11.42758560180664,
          -4.058437347412109,
          14.680720329284668,
          -10.103170394897461,
          -15.86355972290039,
          -12.835737228393555,
          -2.881636142730713,
          -3.4981536865234375,
          -11.598058700561523,
          -10.034710884094238,
          12.926462173461914,
          -12.66209888458252,
          7.904582500457764,
          -5.658149242401123,
          -11.941224098205566,
          11.6216459274292,
          8.572526931762695,
          -10.237119674682617,
          5.907453536987305,
          4.892153739929199,
          -5.194125652313232,
          -10.38040828704834,
          10.850183486938477,
          10.093230247497559,
          -12.001262664794922,
          -3.4405570030212402,
          1.7544198036193848,
          -15.597437858581543,
          -6.156422138214111,
          -6.982473850250244,
          -4.127748966217041,
          -12.096969604492188,
          -8.59076976776123,
          0.37765103578567505,
          15.538525581359863,
          -11.742237091064453,
          -0.4648953080177307,
          -2.7229928970336914,
          12.96940803527832,
          0.9907733798027039,
          -9.78402328491211,
          17.030542373657227,
          15.608948707580566,
          8.056624412536621,
          -4.938616752624512,
          -11.501239776611328,
          -13.721317291259766,
          14.83348274230957,
          -2.18290638923645,
          -12.015568733215332,
          12.981472969055176,
          -0.5948147773742676,
          1.5887852907180786,
          10.738442420959473,
          -3.344329595565796,
          -8.064083099365234,
          1.6261447668075562,
          -4.9929280281066895,
          14.043318748474121,
          -7.561750888824463,
          12.488497734069824,
          -8.706084251403809,
          -11.069550514221191,
          -10.390929222106934,
          1.2170921564102173,
          -9.96167278289795,
          -6.003103733062744,
          11.041017532348633,
          -5.258961200714111,
          11.838842391967773,
          -10.720331192016602,
          -9.028058052062988,
          -9.03532886505127,
          1.9323973655700684,
          10.250645637512207,
          -9.271156311035156,
          -10.958394050598145,
          -8.978231430053711,
          11.099373817443848,
          3.4865033626556396,
          1.6450539827346802,
          3.871811866760254,
          -8.822701454162598,
          0.1773252785205841,
          -9.922798156738281,
          -8.868292808532715,
          -8.89296817779541,
          -9.829206466674805,
          -12.374839782714844,
          10.217901229858398,
          -13.227795600891113,
          -10.598804473876953,
          -5.303898811340332,
          -7.645438194274902,
          13.476073265075684,
          -8.85103988647461,
          -8.713310241699219,
          2.5804331302642822,
          2.969295024871826,
          -5.996865749359131,
          -3.8352298736572266,
          -10.921552658081055,
          -10.307592391967773,
          -4.232778549194336,
          -14.097766876220703,
          -9.168701171875,
          -6.414116382598877,
          8.956140518188477,
          -10.261343002319336,
          -0.5512229800224304,
          5.241287708282471,
          -9.42756462097168,
          -5.5899248123168945,
          6.549713611602783,
          -7.7925920486450195,
          -11.481399536132812,
          0.08956579864025116,
          3.5540554523468018,
          -11.241291999816895,
          -6.4987874031066895,
          -2.9566586017608643,
          3.418144702911377,
          11.405207633972168,
          5.647704124450684,
          3.5095112323760986,
          -10.371325492858887,
          8.498503684997559,
          9.15653133392334,
          7.253469467163086,
          -9.903111457824707,
          9.643442153930664,
          13.628501892089844,
          -11.088123321533203,
          -2.1206347942352295,
          -2.2536022663116455,
          8.379966735839844,
          -5.683323383331299,
          -2.3704278469085693,
          7.190360069274902,
          3.725109815597534,
          7.360850811004639,
          -10.982177734375,
          1.1355966329574585,
          5.812803745269775,
          5.451767444610596,
          0.046530455350875854,
          -3.6270647048950195,
          7.2115254402160645,
          6.460400104522705,
          -9.92860221862793,
          -1.242484211921692,
          -5.575271129608154,
          -2.200985908508301,
          9.068366050720215,
          -11.00296401977539,
          -3.771000623703003,
          0.8939836621284485,
          10.956707000732422,
          0.9296186566352844,
          -2.6080446243286133,
          -13.1563081741333,
          -6.6637654304504395,
          1.7443653345108032,
          8.164284706115723,
          -0.03629044443368912,
          -2.182675838470459,
          6.285417079925537,
          0.4912998378276825,
          3.615255832672119,
          0.48915189504623413,
          0.16447889804840088,
          -1.803510308265686,
          9.453083992004395,
          16.0539493560791,
          -3.3518049716949463,
          4.206355571746826,
          13.755329132080078,
          -1.678892731666565,
          6.184001922607422,
          2.342583417892456,
          7.3656816482543945,
          5.682509422302246,
          0.5914337635040283,
          -2.4616191387176514,
          0.819686233997345,
          17.275238037109375,
          1.994825005531311,
          11.061626434326172,
          3.272292375564575,
          -1.5063612461090088,
          8.35786247253418,
          5.702648162841797,
          -1.224761724472046,
          -0.48554348945617676,
          0.7416899800300598,
          -6.662623882293701,
          7.536167621612549,
          -2.019935131072998,
          10.31016731262207,
          6.336092472076416,
          8.065186500549316,
          0.48626458644866943,
          5.381927967071533,
          9.339417457580566,
          -1.3927448987960815,
          2.970752239227295,
          6.424021244049072,
          10.88591480255127,
          9.343226432800293,
          -1.7099899053573608,
          3.4553041458129883,
          8.815006256103516,
          6.467624187469482,
          2.8325576782226562,
          0.4005383551120758,
          10.044002532958984,
          6.708654880523682,
          5.79807710647583,
          8.872983932495117,
          -11.610869407653809,
          0.7107188105583191,
          -10.49258041381836,
          -0.9859172701835632,
          11.404563903808594,
          0.5106832981109619,
          8.740577697753906,
          10.634053230285645,
          -3.298668146133423,
          10.589414596557617,
          10.321465492248535,
          9.893499374389648,
          5.045133113861084,
          5.857391834259033,
          4.465093612670898,
          14.597801208496094,
          13.941923141479492,
          5.098258972167969,
          10.46626091003418,
          5.135341167449951,
          6.0052809715271,
          8.449776649475098,
          6.109447002410889,
          9.105666160583496,
          6.352183818817139,
          11.623818397521973,
          9.845088005065918,
          7.9074625968933105,
          8.58822250366211,
          0.25825491547584534,
          6.508708477020264,
          0.4277534782886505,
          3.5184381008148193,
          9.981518745422363,
          -5.426374435424805,
          12.808606147766113,
          -3.030014753341675,
          -0.24605274200439453,
          4.593308448791504,
          -7.3244757652282715,
          2.089714288711548,
          7.432854652404785,
          -2.4288041591644287,
          -0.10029331594705582,
          3.373300790786743,
          1.0308024883270264,
          -8.618027687072754,
          7.429478645324707,
          1.603536605834961,
          2.858110189437866,
          3.6865780353546143,
          9.786734580993652,
          9.048449516296387,
          1.398672103881836,
          5.251509666442871,
          7.087986469268799,
          -5.834280490875244,
          -7.06972599029541,
          5.381963729858398,
          5.861014366149902,
          -12.50208568572998,
          3.575294017791748,
          3.4787991046905518,
          -1.754431962966919,
          -1.043750286102295,
          -1.1778836250305176,
          -1.8131376504898071,
          -1.7680176496505737,
          8.597206115722656,
          -3.136624574661255,
          0.4767364263534546,
          3.571584463119507,
          -10.672616958618164,
          3.352959156036377,
          9.293283462524414,
          5.979880332946777,
          8.684733390808105,
          7.187221050262451,
          6.619492530822754,
          2.155623435974121,
          1.7213081121444702,
          10.079134941101074,
          -0.3399840295314789,
          7.0566277503967285,
          7.872951507568359,
          2.0599443912506104,
          5.0065412521362305,
          7.965061187744141,
          7.416562080383301,
          1.8440356254577637,
          5.242952823638916,
          -2.212908983230591,
          13.694172859191895,
          -2.1946043968200684,
          1.0520107746124268,
          2.407827854156494,
          7.335435390472412,
          1.6961238384246826,
          11.320084571838379,
          3.7586982250213623,
          4.2663493156433105,
          -4.858607769012451,
          6.406599521636963,
          10.260013580322266,
          6.282659530639648,
          -9.842375755310059,
          14.851971626281738,
          0.17597468197345734,
          11.953028678894043,
          -1.661676287651062,
          7.374919891357422,
          6.729948043823242,
          -4.380553245544434,
          -1.0067063570022583,
          -1.1615893840789795,
          -2.0839524269104004,
          -6.526648998260498,
          -12.128055572509766,
          -7.679865837097168,
          -7.822345733642578,
          -2.1438193321228027,
          -4.8279547691345215,
          -2.9874441623687744,
          -11.535061836242676,
          -6.4923930168151855,
          -6.05933952331543,
          -5.308238983154297,
          0.6042464375495911,
          6.655664920806885,
          6.401709079742432,
          6.308783054351807,
          -2.064840316772461,
          -0.8163042068481445,
          -4.70359468460083,
          3.389342784881592,
          -2.175821304321289,
          -0.7707203030586243,
          -4.480674743652344,
          -7.493228912353516,
          -4.614325046539307,
          -8.177814483642578,
          -2.4698293209075928,
          5.753708839416504,
          4.686839580535889,
          4.428380489349365,
          -1.4552632570266724,
          6.390228748321533,
          -0.6898566484451294,
          -6.3133931159973145,
          -8.67906379699707,
          -7.921337604522705,
          -8.698759078979492,
          -7.771420478820801,
          -5.85888671875,
          -10.736886024475098,
          -2.6603260040283203,
          -7.817128658294678,
          -9.135444641113281,
          -0.8469426035881042,
          -0.04563828930258751,
          3.8392841815948486,
          0.8073684573173523,
          2.723862409591675,
          1.6977925300598145,
          7.549468517303467,
          1.907033085823059,
          4.753132343292236,
          9.212970733642578,
          0.1866498589515686,
          -6.414475440979004,
          -10.261000633239746,
          -5.3305182456970215,
          -9.593433380126953,
          -9.004536628723145,
          -3.996070146560669,
          -5.650741100311279,
          -1.4782675504684448,
          6.3000617027282715,
          -7.962002754211426,
          0.9323682188987732,
          -2.5743257999420166,
          -4.377233982086182,
          10.64810562133789,
          -3.8340423107147217,
          -3.229752779006958,
          -1.8114498853683472,
          2.8562259674072266,
          0.3530808687210083,
          1.1320302486419678,
          3.667513370513916,
          -0.8106949925422668,
          3.899735689163208,
          4.358786106109619,
          2.3124330043792725,
          5.906106948852539,
          6.630065441131592,
          3.267514944076538,
          -8.24938678741455,
          -1.1941789388656616,
          -7.636875629425049,
          -5.197940349578857,
          4.305899143218994,
          12.48809814453125,
          -0.6956311464309692,
          -8.569255828857422,
          -13.428683280944824,
          -1.4070279598236084,
          5.651886463165283,
          -1.70502507686615,
          -5.750728130340576,
          -4.073060989379883,
          -6.2015509605407715,
          7.2496113777160645,
          6.1116533279418945,
          5.456696033477783,
          0.08162599802017212,
          5.755921840667725,
          4.609889984130859,
          1.576626181602478,
          -11.374283790588379,
          8.463973045349121,
          -11.257569313049316,
          -4.20198917388916,
          4.4606170654296875,
          -1.3322569131851196,
          9.170610427856445,
          7.444709777832031,
          10.563653945922852,
          -2.9026758670806885,
          10.498865127563477,
          -2.4612622261047363,
          -3.233039140701294,
          3.5639808177948,
          -6.420999050140381,
          5.806532382965088,
          4.563902854919434,
          5.544378757476807,
          -1.9291565418243408,
          6.9155192375183105,
          0.3283472955226898,
          13.320608139038086,
          6.53040885925293,
          -2.4695885181427,
          6.196356296539307,
          5.911825656890869,
          1.9693009853363037,
          5.562112331390381,
          4.672213077545166,
          7.101068019866943,
          6.1357102394104,
          10.922584533691406,
          6.049562454223633,
          0.9966599941253662,
          -4.627585411071777,
          -9.490303993225098,
          7.413630485534668,
          6.553180694580078,
          2.331923723220825,
          5.764884948730469,
          0.01773722656071186,
          -1.3490612506866455,
          1.9788936376571655,
          -0.32209697365760803,
          -1.6423569917678833,
          -1.5333662033081055,
          6.844301223754883,
          -11.561299324035645,
          -0.40335866808891296,
          -4.534710884094238,
          -1.8035317659378052,
          -2.077556610107422,
          -7.7256879806518555,
          -10.663839340209961,
          -2.4813220500946045,
          7.690185070037842,
          12.91257381439209,
          5.28655481338501,
          -4.433815002441406,
          -6.2835283279418945,
          -12.177708625793457,
          -1.0950583219528198,
          -7.2209858894348145,
          -10.964929580688477,
          -4.170625686645508,
          -5.670897006988525,
          -3.296503782272339,
          -4.128279685974121,
          -4.010994911193848,
          -3.557908296585083,
          -1.3113778829574585,
          3.0740959644317627,
          2.2212557792663574,
          13.609505653381348,
          1.1353191137313843,
          -2.231388568878174,
          -7.825294017791748,
          2.325976610183716,
          -4.396083354949951,
          -8.646705627441406,
          -3.067689895629883,
          2.1476831436157227,
          -0.7067004442214966,
          -12.401183128356934,
          -3.0758795738220215,
          -4.651677131652832,
          2.665590286254883,
          -0.24246631562709808,
          -4.680722713470459,
          -10.61865234375,
          6.886282444000244,
          7.9572343826293945,
          -5.098526477813721,
          4.4644951820373535,
          2.293184518814087,
          11.336149215698242,
          6.653963088989258,
          -7.11870813369751,
          -3.794804573059082,
          0.40114426612854004,
          0.8844001889228821,
          -4.992537021636963,
          -3.0976524353027344,
          -0.9604992270469666,
          4.118201732635498,
          0.3115392029285431,
          -3.666334390640259,
          -3.5971076488494873,
          1.2799274921417236,
          13.591151237487793,
          2.476635694503784,
          -2.799626588821411,
          -2.482386589050293,
          -0.4001297056674957,
          1.2074023485183716,
          8.304914474487305,
          -5.073451995849609,
          4.034127235412598,
          -4.231791019439697,
          2.238100290298462,
          7.068774223327637,
          0.9608389735221863,
          3.901594638824463,
          11.680787086486816,
          -4.974999904632568,
          -0.9845667481422424,
          3.0567245483398438,
          5.184139728546143,
          -0.0190893542021513,
          0.19406871497631073,
          3.1757726669311523,
          1.794866919517517,
          1.6991337537765503,
          11.556977272033691,
          7.833187580108643,
          -1.8803303241729736,
          -2.8434436321258545,
          -4.858562469482422,
          -2.540829658508301,
          10.695417404174805,
          8.614452362060547,
          -7.079159736633301,
          -7.373383045196533,
          10.683531761169434,
          7.602208137512207,
          5.416626930236816,
          2.461082696914673,
          -11.90464973449707,
          -0.29245468974113464,
          -6.308910369873047,
          -6.461062431335449,
          2.5186519622802734,
          3.525625228881836,
          10.482091903686523,
          -4.282550811767578,
          -7.04079008102417,
          1.5495489835739136,
          1.633517861366272,
          3.156952142715454,
          2.1178202629089355,
          6.2733073234558105,
          8.99382209777832,
          -6.415791988372803,
          5.398749828338623,
          2.2001631259918213,
          3.512673854827881,
          4.768979549407959,
          4.435231685638428,
          -9.806641578674316,
          8.941927909851074,
          -0.3633832633495331,
          -11.336396217346191,
          3.647153377532959,
          -3.205627918243408,
          1.3805994987487793,
          2.876371145248413,
          0.49015218019485474,
          2.9819438457489014,
          1.9183119535446167,
          7.51439905166626,
          0.6538704037666321,
          7.9505085945129395,
          2.123307466506958,
          7.547463893890381,
          6.1603593826293945,
          -3.548309087753296,
          4.2213850021362305,
          8.442693710327148,
          7.027313232421875,
          7.049392223358154,
          5.648143768310547,
          7.480794429779053,
          8.15860366821289,
          1.2447973489761353,
          8.796577453613281,
          -1.0469332933425903,
          2.0738890171051025,
          2.836803913116455,
          -13.051301956176758,
          11.726550102233887,
          -11.633378982543945,
          2.7057178020477295,
          8.254711151123047,
          7.60584020614624,
          0.25261956453323364,
          8.24517822265625,
          6.841067790985107,
          7.784584999084473,
          8.709118843078613,
          -0.9655335545539856,
          -5.217476844787598,
          1.7390122413635254,
          2.856431245803833,
          -5.113633632659912,
          1.912523865699768,
          1.379206895828247,
          2.680156946182251,
          9.761138916015625,
          -0.674292802810669,
          3.4507224559783936,
          2.8976898193359375,
          4.822598934173584,
          5.0981621742248535,
          0.06706902384757996,
          0.6697421669960022,
          -15.80771255493164,
          -1.9067364931106567,
          5.567820072174072,
          13.069847106933594,
          3.431765079498291,
          5.78178071975708,
          4.725921630859375,
          7.284870624542236,
          5.201400279998779,
          7.619231224060059,
          5.795994281768799,
          -1.6207376718521118,
          5.724515438079834,
          9.372802734375,
          0.29910317063331604,
          -1.9022384881973267,
          3.740556478500366,
          2.1789729595184326,
          6.262705326080322,
          6.5545973777771,
          3.922529697418213,
          2.1277430057525635,
          1.5322366952896118,
          10.46194839477539,
          8.685306549072266,
          0.4504222869873047,
          6.036149978637695,
          4.219210624694824,
          3.2890262603759766,
          4.1917643547058105,
          6.668510913848877,
          5.263784885406494,
          -10.72976303100586,
          5.981575965881348,
          3.4708380699157715,
          -10.58082103729248,
          5.095380783081055,
          6.68379545211792,
          4.377779006958008,
          8.886815071105957,
          -1.2385318279266357,
          16.631343841552734,
          -0.31428036093711853,
          -5.062859535217285,
          11.278787612915039,
          -11.564006805419922,
          11.292831420898438,
          2.4182169437408447,
          0.011653097346425056,
          -0.5669587254524231,
          1.3933558464050293,
          16.24721336364746,
          8.417421340942383,
          0.9906993508338928,
          3.712716817855835,
          -3.4820406436920166,
          -5.25126838684082,
          -4.644381046295166,
          -5.77487850189209,
          -7.250426292419434,
          12.086943626403809,
          1.6719297170639038,
          1.5913796424865723,
          3.2964165210723877,
          1.7438074350357056,
          3.5100927352905273,
          0.6659508347511292,
          13.091882705688477,
          13.946782112121582,
          9.828569412231445,
          11.789678573608398,
          12.715094566345215,
          -0.3192630112171173,
          -1.0162078142166138,
          -0.4613339900970459,
          -11.809616088867188,
          9.494579315185547,
          13.0331449508667,
          1.232038140296936,
          3.147656202316284,
          1.318304419517517,
          1.4535149335861206,
          0.0717567726969719,
          1.5390547513961792,
          -1.7215065956115723,
          -2.236764430999756,
          2.876396417617798,
          2.8730099201202393,
          -7.278172016143799,
          0.3033681809902191,
          0.8928326964378357,
          -3.091186285018921,
          0.2832243740558624,
          -1.3597996234893799,
          11.770029067993164,
          10.847367286682129,
          7.726406574249268,
          2.182572841644287,
          5.606754779815674,
          3.9672441482543945,
          2.208280086517334,
          0.026313073933124542,
          3.2735180854797363,
          3.025721311569214,
          -1.0361011028289795,
          3.1178925037384033,
          8.929452896118164,
          3.437572956085205,
          -2.9166007041931152,
          12.424631118774414,
          -1.0866105556488037,
          -6.606029987335205,
          -5.690768718719482,
          -7.053142070770264,
          2.3651652336120605,
          10.958892822265625,
          -7.635120391845703,
          9.330268859863281,
          9.739782333374023,
          1.7447004318237305,
          7.40034818649292,
          8.118690490722656,
          8.552969932556152,
          -5.32775354385376,
          -9.494375228881836,
          -9.13558578491211,
          13.065613746643066,
          -4.013469219207764,
          5.661099433898926,
          9.340591430664062,
          -5.876471042633057,
          6.543094635009766,
          6.366848945617676,
          -10.230412483215332,
          -3.0884833335876465,
          -9.671748161315918,
          9.693102836608887,
          -4.322944641113281,
          -3.1886606216430664,
          -1.0382776260375977,
          -0.04077047109603882,
          0.926114022731781,
          -1.3770636320114136,
          1.1241759061813354,
          0.18695472180843353,
          -2.947929859161377,
          -10.545408248901367,
          -10.205723762512207,
          1.7118903398513794,
          -3.1014516353607178,
          -2.046053647994995,
          -2.5452165603637695,
          15.386034965515137,
          -3.771942377090454,
          7.752773284912109,
          17.176319122314453,
          -0.5212351679801941,
          5.680483341217041,
          5.911556720733643,
          -5.804995536804199,
          4.189235687255859,
          4.666032791137695,
          -4.016898155212402,
          -0.8205065727233887,
          -1.1815279722213745,
          -4.991976737976074,
          -7.006126403808594,
          -4.091575622558594,
          -4.189082622528076,
          -4.126460075378418,
          -2.5909175872802734,
          -5.328213691711426,
          -5.904388904571533,
          -3.441070079803467,
          -5.780939102172852,
          -2.3187737464904785,
          -5.076568126678467,
          -2.086413860321045,
          -6.202632904052734,
          -5.738838195800781,
          -2.7305896282196045,
          -7.168811321258545,
          -6.887663841247559,
          -4.496551513671875,
          -0.7071726322174072,
          -0.7453123331069946,
          -2.4598822593688965,
          -6.067427158355713,
          -3.29508900642395,
          -4.20723819732666,
          -2.5893537998199463,
          -1.6224064826965332,
          -2.811267375946045,
          -3.619171142578125,
          -4.687446594238281,
          -2.0725269317626953,
          2.1263084411621094,
          -1.9515379667282104,
          1.6340521574020386,
          -0.0975780040025711,
          -1.7367652654647827,
          -5.1507039070129395,
          -4.177114009857178,
          -0.8280202746391296,
          -0.972527027130127,
          -0.8553457856178284,
          -4.235872745513916,
          -2.1705501079559326,
          0.30152273178100586,
          1.3908770084381104,
          -2.0486364364624023,
          -2.774470329284668,
          -2.5983312129974365,
          1.799815058708191,
          -1.0143018960952759,
          -5.402297496795654,
          -4.156021595001221,
          -4.646698951721191,
          -2.1640377044677734,
          -2.1274032592773438,
          -0.5614479780197144,
          1.7743200063705444,
          -6.51161527633667,
          -3.7220609188079834,
          -0.2737007141113281,
          -5.977010250091553,
          -5.957850933074951,
          -4.347179889678955,
          0.8494238257408142,
          -2.822112798690796,
          -2.563668727874756,
          -2.5204904079437256,
          -4.160307884216309,
          0.25013113021850586,
          -4.530951023101807,
          -0.5566151142120361,
          -4.253951549530029,
          2.266964912414551,
          -0.18807291984558105,
          -1.183741807937622,
          -5.014834880828857,
          -4.161793231964111,
          -2.644752025604248,
          -1.2809715270996094,
          3.250336170196533,
          -3.792065143585205,
          1.2684688568115234,
          -1.2340153455734253,
          -2.657510757446289,
          -2.985427141189575,
          -5.190049648284912,
          -4.7319440841674805
         ],
         "y": [
          1.2479585409164429,
          1.2353330850601196,
          0.17809003591537476,
          -0.45507487654685974,
          -0.8367019295692444,
          1.047636866569519,
          -1.3896690607070923,
          -2.5372073650360107,
          1.4642109870910645,
          -0.16846780478954315,
          -0.985718309879303,
          3.6801116466522217,
          -1.3541945219039917,
          0.9345006346702576,
          0.17068766057491302,
          0.5575793981552124,
          -0.29775470495224,
          2.1515564918518066,
          1.1417181491851807,
          -2.5762667655944824,
          2.7863426208496094,
          15.717470169067383,
          1.446065068244934,
          9.41297721862793,
          -7.504417896270752,
          -3.4794938564300537,
          6.225223541259766,
          -8.972761154174805,
          15.451611518859863,
          16.065597534179688,
          19.394550323486328,
          16.322813034057617,
          16.10305404663086,
          -1.4432227611541748,
          -3.4042928218841553,
          11.973847389221191,
          3.8935446739196777,
          2.0122411251068115,
          17.420747756958008,
          0.6980291604995728,
          2.9302332401275635,
          4.139892578125,
          3.926112174987793,
          15.868613243103027,
          2.3147528171539307,
          5.286874294281006,
          2.812126636505127,
          -8.36838150024414,
          1.437098503112793,
          -0.929413378238678,
          15.054840087890625,
          -6.5743608474731445,
          4.2475175857543945,
          8.905288696289062,
          -4.230672836303711,
          -2.4976418018341064,
          -2.200432062149048,
          -2.597935199737549,
          15.83642578125,
          16.954833984375,
          8.60330581665039,
          -6.868241786956787,
          -6.503677845001221,
          -6.107977867126465,
          6.06754732131958,
          -0.6361690759658813,
          -6.498682022094727,
          3.371126890182495,
          -5.6723833084106445,
          -1.6191693544387817,
          4.790365219116211,
          -3.083641290664673,
          -8.66368293762207,
          -4.290879726409912,
          8.314308166503906,
          1.782538890838623,
          -6.74131441116333,
          -1.9181239604949951,
          2.8093602657318115,
          19.418190002441406,
          17.939027786254883,
          8.874292373657227,
          -8.785211563110352,
          14.337472915649414,
          8.144543647766113,
          -0.942164421081543,
          9.32149600982666,
          7.607436656951904,
          -5.588661193847656,
          -3.1771974563598633,
          -5.231032371520996,
          -9.1707181930542,
          -2.9858531951904297,
          8.089356422424316,
          6.670197010040283,
          -7.574095726013184,
          -8.736233711242676,
          -8.064196586608887,
          -0.24382483959197998,
          13.6326322555542,
          20.041961669921875,
          21.17349624633789,
          -7.864229679107666,
          -9.104957580566406,
          9.330948829650879,
          -5.889135837554932,
          1.4922778606414795,
          -5.873473167419434,
          0.8790367245674133,
          3.531085252761841,
          -8.913314819335938,
          -8.721442222595215,
          -8.103599548339844,
          13.411222457885742,
          -0.06159939244389534,
          11.050996780395508,
          1.025620460510254,
          -7.797814846038818,
          -6.810046195983887,
          -3.296567916870117,
          -2.006466865539551,
          1.5908719301223755,
          -8.47213077545166,
          12.008091926574707,
          -5.437860012054443,
          0.522674024105072,
          0.07796179503202438,
          -8.959728240966797,
          -0.6303907036781311,
          -5.597482681274414,
          -2.5667295455932617,
          11.626251220703125,
          -5.138477802276611,
          -5.03891658782959,
          -1.1110661029815674,
          11.114911079406738,
          5.2568583488464355,
          -10.893304824829102,
          -12.517712593078613,
          10.2520170211792,
          5.469329833984375,
          -6.480412483215332,
          1.1693490743637085,
          5.273609638214111,
          -5.601614952087402,
          9.182889938354492,
          13.691924095153809,
          -0.3456645905971527,
          10.458686828613281,
          10.418069839477539,
          -2.8383538722991943,
          7.894522190093994,
          11.579440116882324,
          9.13288688659668,
          -11.752337455749512,
          8.813675880432129,
          -9.239359855651855,
          -3.9181931018829346,
          -19.363922119140625,
          16.68534278869629,
          8.067920684814453,
          -2.7498843669891357,
          -16.378047943115234,
          18.746063232421875,
          -7.610553741455078,
          -3.5256450176239014,
          5.704222679138184,
          18.32957649230957,
          5.853315353393555,
          -5.283594131469727,
          -0.8939236402511597,
          1.5726088285446167,
          -9.16329288482666,
          9.30097484588623,
          9.965042114257812,
          10.057076454162598,
          -2.900874376296997,
          4.243448257446289,
          -4.348121643066406,
          -5.084081649780273,
          -7.357484817504883,
          -5.5544633865356445,
          -6.436595439910889,
          3.977644205093384,
          14.692728996276855,
          -6.804198265075684,
          9.873998641967773,
          -8.150673866271973,
          -2.6329267024993896,
          -8.114005088806152,
          1.473639965057373,
          -9.583426475524902,
          -3.1832425594329834,
          1.8972078561782837,
          -8.361526489257812,
          -11.777225494384766,
          -4.21059513092041,
          -7.109094619750977,
          -6.037537574768066,
          -6.603971481323242,
          6.805356979370117,
          6.5386786460876465,
          18.83453941345215,
          11.866815567016602,
          8.509211540222168,
          18.945470809936523,
          16.562097549438477,
          18.356393814086914,
          -9.061835289001465,
          19.427947998046875,
          0.8390806913375854,
          8.437443733215332,
          15.755663871765137,
          17.144166946411133,
          19.741567611694336,
          17.614192962646484,
          11.078140258789062,
          2.8102211952209473,
          -8.546161651611328,
          17.949743270874023,
          -5.124217987060547,
          21.157630920410156,
          14.964930534362793,
          -8.973430633544922,
          -9.989374160766602,
          -4.403146743774414,
          5.0320820808410645,
          -4.568295478820801,
          -11.430008888244629,
          18.48431968688965,
          13.747953414916992,
          15.019286155700684,
          -6.218418121337891,
          -17.15331268310547,
          4.5848612785339355,
          -12.186058044433594,
          9.892358779907227,
          -3.3200011253356934,
          3.7298805713653564,
          -9.133761405944824,
          13.736262321472168,
          -4.554384231567383,
          -20.52789878845215,
          -1.1321710348129272,
          -9.087888717651367,
          -7.283779621124268,
          -7.6550374031066895,
          -5.02280855178833,
          -3.596057653427124,
          -8.320679664611816,
          -4.529985427856445,
          -10.428459167480469,
          9.661758422851562,
          -4.71267032623291,
          -9.71155071258545,
          -8.66710090637207,
          16.90785026550293,
          -5.7942118644714355,
          -9.446270942687988,
          10.833263397216797,
          18.77882957458496,
          -10.739767074584961,
          6.0023603439331055,
          0.6724352836608887,
          -2.3645942211151123,
          -4.540441989898682,
          -9.892891883850098,
          15.412552833557129,
          14.425226211547852,
          6.19085693359375,
          4.903566360473633,
          -0.4441767930984497,
          -4.899485111236572,
          5.138841152191162,
          -4.9155659675598145,
          -1.0653685331344604,
          -0.05728999152779579,
          -18.712841033935547,
          -18.08926773071289,
          -3.268902063369751,
          21.13421058654785,
          -2.5991971492767334,
          -5.96197509765625,
          9.268362045288086,
          -4.453442096710205,
          -8.017443656921387,
          -10.758360862731934,
          -3.870574712753296,
          -8.761137962341309,
          -8.41707706451416,
          3.1140973567962646,
          -9.482178688049316,
          22.662092208862305,
          12.290753364562988,
          7.948246955871582,
          10.554586410522461,
          -6.337258815765381,
          5.022158145904541,
          21.85894775390625,
          11.050711631774902,
          8.487814903259277,
          14.080031394958496,
          -2.110337972640991,
          7.928170680999756,
          9.34689998626709,
          -4.556812286376953,
          10.453654289245605,
          9.841605186462402,
          16.47614288330078,
          9.609116554260254,
          16.33414077758789,
          23.777250289916992,
          -12.130191802978516,
          1.121483564376831,
          8.771188735961914,
          9.817170143127441,
          -1.6557179689407349,
          10.617033004760742,
          7.685827732086182,
          12.272221565246582,
          6.077479839324951,
          1.5013089179992676,
          6.464748382568359,
          -10.78220272064209,
          -11.954474449157715,
          11.081656455993652,
          -3.020372152328491,
          -2.0689828395843506,
          11.87749195098877,
          18.35486602783203,
          18.8228759765625,
          17.221506118774414,
          -6.137163162231445,
          -0.388674259185791,
          -0.6717191934585571,
          11.076481819152832,
          13.902511596679688,
          11.828311920166016,
          16.08420753479004,
          -5.7691192626953125,
          17.372344970703125,
          15.212946891784668,
          -7.083120346069336,
          16.25420570373535,
          13.742779731750488,
          13.449365615844727,
          13.513566017150879,
          12.358447074890137,
          5.817669868469238,
          -0.6738507747650146,
          -2.5003867149353027,
          7.271260738372803,
          17.180870056152344,
          2.5725350379943848,
          12.238378524780273,
          12.011394500732422,
          0.959320068359375,
          15.711759567260742,
          -9.61485481262207,
          -9.184002876281738,
          7.811652660369873,
          7.260067462921143,
          -16.15222930908203,
          -6.664556503295898,
          5.3479485511779785,
          -7.229188919067383,
          -7.01159143447876,
          1.1635326147079468,
          -1.2414953708648682,
          1.9441754817962646,
          -6.025330066680908,
          -9.119832038879395,
          -0.5704360008239746,
          11.867544174194336,
          12.7327299118042,
          12.234375,
          1.6958144903182983,
          -6.4457106590271,
          -16.81296157836914,
          -10.48535442352295,
          -16.869237899780273,
          -3.4381344318389893,
          -11.44145393371582,
          -9.462742805480957,
          -7.06040620803833,
          13.37012004852295,
          0.7065412402153015,
          -15.508078575134277,
          -12.981385231018066,
          -0.4030812978744507,
          8.320977210998535,
          6.31525993347168,
          0.0025520548224449158,
          -6.206676006317139,
          -1.080318570137024,
          4.262226104736328,
          0.3172866702079773,
          -3.108798027038574,
          -18.988208770751953,
          10.194083213806152,
          7.331264019012451,
          12.479137420654297,
          -2.4775454998016357,
          -13.616124153137207,
          -5.797367572784424,
          -9.105292320251465,
          -14.83221435546875,
          -15.646617889404297,
          -7.052821159362793,
          1.9320241212844849,
          5.661365985870361,
          17.857051849365234,
          -15.94057846069336,
          -12.329097747802734,
          0.9296356439590454,
          -9.75153923034668,
          -3.77343487739563,
          -7.471877574920654,
          0.26741448044776917,
          -15.754302024841309,
          -11.52220344543457,
          -14.023274421691895,
          -7.581946849822998,
          15.365303039550781,
          3.767728328704834,
          6.536351680755615,
          -10.307775497436523,
          -19.598243713378906,
          -2.877077579498291,
          -7.928971767425537,
          -0.5118565559387207,
          2.633819818496704,
          9.571812629699707,
          -5.625970840454102,
          17.233150482177734,
          14.908913612365723,
          5.581021785736084,
          -9.752504348754883,
          -11.896140098571777,
          -3.715400457382202,
          1.9282363653182983,
          1.6048753261566162,
          7.796484470367432,
          2.6346664428710938,
          4.714793682098389,
          1.0190619230270386,
          -5.320591449737549,
          8.719366073608398,
          -3.10372257232666,
          -3.332578182220459,
          11.086238861083984,
          1.3824588060379028,
          1.600977897644043,
          13.20023250579834,
          18.592220306396484,
          5.845287322998047,
          -1.749864101409912,
          -11.542847633361816,
          4.44828987121582,
          -4.735911846160889,
          -7.1411285400390625,
          -14.789793968200684,
          -2.5514638423919678,
          0.7989346385002136,
          4.175992012023926,
          2.220088243484497,
          -6.512674331665039,
          2.1290595531463623,
          5.550436496734619,
          5.8868489265441895,
          -4.343637466430664,
          -3.4850618839263916,
          0.007114947307854891,
          -5.824718952178955,
          11.412331581115723,
          8.864519119262695,
          12.44990348815918,
          -6.718905925750732,
          -8.296019554138184,
          -6.179920673370361,
          -10.163677215576172,
          -6.887530326843262,
          -9.815673828125,
          9.203328132629395,
          4.706264495849609,
          4.255484580993652,
          14.434098243713379,
          -0.2138824313879013,
          3.356685161590576,
          15.659284591674805,
          5.596406936645508,
          -15.485185623168945,
          -11.31115436553955,
          14.128365516662598,
          13.117948532104492,
          -2.3055973052978516,
          11.495330810546875,
          -8.503043174743652,
          -0.28088635206222534,
          3.5730140209198,
          -2.1108691692352295,
          4.3582587242126465,
          -0.5396609902381897,
          2.479210376739502,
          -3.666926622390747,
          0.7139223217964172,
          3.4555764198303223,
          10.749385833740234,
          -14.076028823852539,
          -3.99438738822937,
          -12.60433578491211,
          -4.524410724639893,
          14.137935638427734,
          -0.39404532313346863,
          -10.306642532348633,
          3.4285826683044434,
          -16.362751007080078,
          -12.467682838439941,
          -4.565485954284668,
          -3.540025234222412,
          13.12829875946045,
          12.125993728637695,
          5.896984100341797,
          9.662005424499512,
          -11.501801490783691,
          4.652670860290527,
          13.371158599853516,
          -3.0711755752563477,
          0.0198367889970541,
          11.855290412902832,
          8.929375648498535,
          0.20729975402355194,
          0.671406626701355,
          -6.325728416442871,
          -10.121363639831543,
          0.4332834780216217,
          -13.875308990478516,
          -16.02735710144043,
          -11.663871765136719,
          -19.377981185913086,
          -18.890239715576172,
          14.976897239685059,
          13.765932083129883,
          10.012991905212402,
          13.688212394714355,
          14.876045227050781,
          8.5374755859375,
          2.561880588531494,
          10.92773723602295,
          -4.149389266967773,
          -12.991825103759766,
          2.404315233230591,
          12.923140525817871,
          8.21861457824707,
          13.700146675109863,
          7.529350757598877,
          7.371426105499268,
          2.588914632797241,
          -1.4652031660079956,
          -11.457782745361328,
          12.70648193359375,
          4.729581832885742,
          -15.310846328735352,
          -0.6431735754013062,
          -17.07769775390625,
          3.7818214893341064,
          1.1428145170211792,
          15.604887008666992,
          7.672295570373535,
          1.844925880432129,
          16.370128631591797,
          10.331809043884277,
          18.034996032714844,
          14.951489448547363,
          4.206993579864502,
          7.87768030166626,
          6.056156635284424,
          -14.723190307617188,
          -7.304068088531494,
          -10.470678329467773,
          5.379573345184326,
          -11.842920303344727,
          -3.9078752994537354,
          -6.610698699951172,
          15.896368980407715,
          5.70426607131958,
          -11.77347469329834,
          -0.18113014101982117,
          10.486527442932129,
          6.191517353057861,
          -17.4887638092041,
          -17.471742630004883,
          -18.798736572265625,
          -20.411598205566406,
          -15.881946563720703,
          -13.46629524230957,
          -18.797914505004883,
          -11.660930633544922,
          -0.16155248880386353,
          -17.349809646606445,
          -13.712733268737793,
          -14.020797729492188,
          -15.661989212036133,
          -17.173625946044922,
          -15.142308235168457,
          2.505014657974243,
          13.09099006652832,
          15.33299732208252,
          -4.302945137023926,
          17.87843894958496,
          2.6767239570617676,
          -9.782527923583984,
          24.292879104614258,
          -20.46826171875,
          -14.598711967468262,
          -3.0168416500091553,
          6.716073513031006,
          15.289579391479492,
          -18.960256576538086,
          0.6458184719085693,
          -3.3385043144226074,
          -7.995599746704102,
          8.855358123779297,
          2.1907219886779785,
          -4.507396697998047,
          -0.8503178954124451,
          -12.102895736694336,
          -16.937583923339844,
          -15.535408020019531,
          -13.951473236083984,
          -15.995858192443848,
          -12.88267707824707,
          -10.220977783203125,
          -8.286688804626465,
          -15.117660522460938,
          -12.524913787841797,
          -0.38557809591293335,
          17.164274215698242,
          11.311684608459473,
          -3.971808671951294,
          12.990689277648926,
          -4.617401599884033,
          14.531094551086426,
          -3.3416271209716797,
          5.157925128936768,
          -0.5894335508346558,
          4.135075092315674,
          -16.89499282836914,
          -17.488418579101562,
          -12.234915733337402,
          -8.557961463928223,
          -17.705646514892578,
          -14.677654266357422,
          -15.832947731018066,
          -14.86594009399414,
          11.221793174743652,
          -13.628074645996094,
          1.7431681156158447,
          -11.296853065490723,
          -14.714533805847168,
          -7.108370780944824,
          0.03715219348669052,
          0.39583906531333923,
          -13.60150146484375,
          9.752246856689453,
          18.942108154296875,
          18.81443977355957,
          8.851995468139648,
          -15.327842712402344,
          5.791226387023926,
          -7.039739608764648,
          21.134517669677734,
          1.5486900806427002,
          0.279701828956604,
          -6.628236293792725,
          -4.5216965675354,
          -9.206236839294434,
          -14.96672534942627,
          0.7574238777160645,
          12.090764999389648,
          13.448515892028809,
          -2.0297343730926514,
          -19.64285659790039,
          -16.82178497314453,
          -12.827327728271484,
          16.41774559020996,
          -7.575555324554443,
          -10.902446746826172,
          -2.993140935897827,
          16.068626403808594,
          -11.971026420593262,
          -2.5459649562835693,
          -8.88035774230957,
          -16.45127296447754,
          9.837321281433105,
          -6.892635345458984,
          17.293842315673828,
          -1.545160174369812,
          -1.3973370790481567,
          -7.529220104217529,
          -13.035857200622559,
          6.764122009277344,
          3.997532606124878,
          7.512261867523193,
          -12.020174980163574,
          8.20809268951416,
          6.202032566070557,
          -5.8505730628967285,
          -12.134608268737793,
          -16.137784957885742,
          -7.8725666999816895,
          -3.669999837875366,
          13.109972953796387,
          -4.863725185394287,
          -9.95772647857666,
          -12.760947227478027,
          -7.275108814239502,
          -17.501840591430664,
          14.943596839904785,
          11.732070922851562,
          -12.581591606140137,
          -11.375001907348633,
          9.3304443359375,
          16.38626480102539,
          10.298700332641602,
          -0.11753285676240921,
          0.5364560484886169,
          -0.27889496088027954,
          -5.513505458831787,
          -2.9349522590637207,
          0.8815319538116455,
          -20.41712760925293,
          -8.221616744995117,
          2.6681089401245117,
          4.535493850708008,
          12.835814476013184,
          -11.839458465576172,
          -15.640719413757324,
          -12.873294830322266,
          2.2394585609436035,
          -10.729575157165527,
          1.8583406209945679,
          -7.385114669799805,
          -5.505283355712891,
          -2.8697495460510254,
          -2.071985960006714,
          -14.6099853515625,
          -17.730712890625,
          -13.682123184204102,
          -15.260490417480469,
          -16.892000198364258,
          -12.672203063964844,
          -6.794860363006592,
          -1.7740657329559326,
          -5.541682243347168,
          -16.158248901367188,
          -11.988977432250977,
          -13.808653831481934,
          17.402360916137695,
          -11.346111297607422,
          -13.56352424621582,
          -14.445812225341797,
          -14.380784034729004,
          -12.993632316589355,
          -12.175942420959473,
          -8.495647430419922,
          -6.029384613037109,
          -10.925858497619629,
          5.754458427429199,
          7.013388156890869,
          17.637784957885742,
          -8.678528785705566,
          -13.058810234069824,
          -17.76767921447754,
          -10.883360862731934,
          -13.842284202575684,
          -11.907499313354492,
          -2.4136013984680176,
          14.713359832763672,
          7.526524543762207,
          8.903053283691406,
          -7.492112636566162,
          -8.106996536254883,
          -10.561341285705566,
          -5.174477577209473,
          -14.538814544677734,
          -13.416093826293945,
          -1.1275146007537842,
          -4.024407386779785,
          -14.010885238647461,
          -2.4213333129882812,
          0.9588294625282288,
          -3.352280378341675,
          -13.714997291564941,
          -16.66164207458496,
          -8.048917770385742,
          -9.436342239379883,
          -7.956984519958496,
          9.25185775756836,
          13.109014511108398,
          17.326560974121094,
          8.709548950195312,
          -4.44685173034668,
          -13.541296005249023,
          -13.612168312072754,
          1.7197837829589844,
          17.97425079345703,
          -4.758273601531982,
          14.97862720489502,
          14.171184539794922,
          -21.211523056030273,
          -11.794490814208984,
          9.437240600585938,
          15.051163673400879,
          12.177630424499512,
          15.446741104125977,
          11.191003799438477,
          13.42525577545166,
          -2.1557106971740723,
          7.562465667724609,
          17.447818756103516,
          -9.927955627441406,
          -10.173760414123535,
          7.682765960693359,
          -2.832728385925293,
          14.130271911621094,
          9.383161544799805,
          21.125410079956055,
          9.76278305053711,
          11.395966529846191,
          18.070287704467773,
          -9.599252700805664,
          -11.193592071533203,
          12.418262481689453,
          -12.265442848205566,
          -8.58914852142334,
          12.293526649475098,
          0.4414839744567871,
          -9.75705623626709,
          -10.242269515991211,
          1.1480472087860107,
          -15.358393669128418,
          10.266669273376465,
          -3.893296480178833,
          -12.695704460144043,
          0.9254052042961121,
          17.078407287597656,
          -0.3324766755104065,
          3.5911612510681152,
          -3.7154011726379395,
          11.415404319763184,
          -20.422157287597656,
          -19.47675323486328,
          -10.760967254638672,
          3.281909942626953,
          3.9446232318878174,
          13.922444343566895,
          -8.170814514160156,
          14.76625919342041,
          17.234506607055664,
          -6.684962749481201,
          -7.933135509490967,
          -7.032785415649414,
          -6.636385440826416,
          8.791825294494629,
          -19.950029373168945,
          15.605612754821777,
          -3.396251916885376,
          -17.398502349853516,
          16.63275909423828,
          -14.12744426727295,
          12.29115104675293,
          -19.117191314697266,
          -9.24246597290039,
          22.791597366333008,
          0.20869016647338867,
          14.58286190032959,
          2.347593307495117,
          12.348681449890137,
          3.8721420764923096,
          10.378180503845215,
          12.764875411987305,
          -1.9818708896636963,
          -10.218524932861328,
          13.60987377166748,
          11.194635391235352,
          13.916838645935059,
          10.700955390930176,
          12.453594207763672,
          10.74869155883789,
          22.546777725219727,
          16.40338706970215,
          4.785506725311279,
          -10.56456470489502,
          -5.768459320068359,
          -16.439607620239258,
          12.256418228149414,
          11.111811637878418,
          16.590839385986328,
          14.734125137329102,
          9.320069313049316,
          17.03370475769043,
          14.815967559814453,
          9.368741035461426,
          -0.36838552355766296,
          -1.0281708240509033,
          -14.14881420135498,
          -15.174649238586426,
          -5.27341890335083,
          10.69897174835205,
          16.379125595092773,
          -18.578908920288086,
          18.016813278198242,
          11.061363220214844,
          -8.87969970703125,
          -21.675186157226562,
          -12.836413383483887,
          2.364265203475952,
          18.396400451660156,
          17.996484756469727,
          5.437380790710449,
          5.187911033630371,
          -2.468770742416382,
          12.28607177734375,
          -7.504003524780273,
          9.488758087158203,
          12.081775665283203,
          -4.078146457672119,
          18.210403442382812,
          -5.138114929199219,
          6.096893787384033,
          -3.429029941558838,
          -3.635313034057617,
          -2.718906879425049,
          -6.894107341766357,
          7.147891044616699,
          0.02857186831533909,
          4.373798370361328,
          10.71063232421875,
          9.7454833984375,
          4.662695407867432,
          16.45066261291504,
          -0.04701312258839607,
          0.5915892124176025,
          -6.4427900314331055,
          -2.2102766036987305,
          -0.5352391004562378,
          -12.528462409973145,
          16.145902633666992,
          18.43210220336914,
          15.860130310058594,
          13.561245918273926,
          13.122966766357422,
          -4.972354888916016,
          -18.152305603027344,
          -14.887657165527344,
          9.133659362792969,
          -13.717856407165527,
          -3.7701947689056396,
          -1.8627772331237793,
          16.21621322631836,
          -1.127600073814392,
          -5.607787609100342,
          13.823860168457031,
          -8.056815147399902,
          -3.942842483520508,
          2.055783271789551,
          -16.48114013671875,
          6.034482002258301,
          -10.066346168518066,
          -6.992168426513672,
          -8.014708518981934,
          -7.348393440246582,
          0.7822622656822205,
          14.292903900146484,
          9.332345008850098,
          -1.137457251548767,
          -9.73373794555664,
          15.74544620513916,
          -4.974268913269043,
          -4.918746471405029,
          -13.7843656539917,
          6.687415599822998,
          -18.778244018554688,
          -18.335954666137695,
          -4.875455856323242,
          -5.378177642822266,
          8.032220840454102,
          16.817941665649414,
          13.385882377624512,
          17.489578247070312,
          -12.547874450683594,
          -10.097930908203125,
          -10.362614631652832,
          -10.065037727355957,
          19.852737426757812,
          7.545961380004883,
          -9.517059326171875,
          -5.947633266448975,
          15.537745475769043,
          16.781444549560547,
          10.612201690673828,
          15.184566497802734,
          -4.747117042541504,
          16.00516700744629,
          18.421993255615234,
          18.01141357421875,
          -8.889866828918457,
          -6.32315731048584,
          -6.013822078704834,
          8.469864845275879,
          14.748302459716797,
          13.954143524169922,
          17.8317928314209,
          -15.415009498596191,
          7.779041290283203,
          14.948851585388184,
          16.970508575439453,
          7.248083114624023,
          20.783159255981445,
          -3.7455954551696777,
          11.932169914245605,
          15.56053352355957,
          15.31875991821289,
          -4.751147747039795,
          12.041499137878418,
          1.6103601455688477,
          1.3025615215301514,
          9.665609359741211,
          7.761250019073486,
          0.279875785112381,
          -2.1420531272888184,
          -6.63933801651001,
          -2.1262423992156982,
          -2.674945831298828,
          -4.501023292541504,
          23.304548263549805,
          13.712282180786133,
          -20.42778205871582,
          -5.174599647521973,
          -7.456082344055176,
          8.51300048828125,
          -5.873328685760498,
          1.2401994466781616,
          1.5798758268356323,
          8.445328712463379,
          -14.586124420166016,
          -18.59832763671875,
          15.769169807434082,
          -16.784526824951172,
          16.337114334106445,
          1.6849805116653442,
          -11.640889167785645,
          -2.8917338848114014,
          1.6608457565307617,
          -18.679903030395508,
          -15.478876113891602,
          7.925477504730225,
          6.856977462768555,
          -4.1072587966918945,
          -16.615144729614258,
          -14.110528945922852,
          -11.948616027832031,
          -11.310639381408691,
          -13.741142272949219,
          -12.644023895263672,
          -12.263104438781738,
          19.699386596679688,
          18.654325485229492,
          7.460988998413086,
          -11.16392993927002,
          -15.747886657714844,
          -15.863893508911133,
          19.555418014526367,
          14.149593353271484,
          17.244901657104492,
          13.414111137390137,
          -5.058367729187012,
          -14.932254791259766,
          -12.392831802368164,
          -9.026201248168945,
          -3.7325680255889893,
          -13.508699417114258,
          -16.31461524963379,
          -9.235346794128418,
          -10.899864196777344,
          -8.275590896606445,
          -7.834995746612549,
          -8.036211967468262,
          -6.096039772033691,
          -7.492498397827148,
          -8.71940803527832,
          -9.208306312561035,
          -8.8795166015625,
          -6.3368239402771,
          -10.89814567565918,
          -9.733131408691406,
          -6.637458801269531,
          -8.13472843170166,
          -9.811649322509766,
          -6.34459924697876,
          -7.338211536407471,
          -11.494067192077637,
          -7.951943397521973,
          -9.892385482788086,
          -5.823454856872559,
          -10.496561050415039,
          -8.394098281860352,
          -11.095346450805664,
          -9.607035636901855,
          -7.404615879058838,
          -10.990031242370605,
          -7.629051685333252,
          -9.455672264099121,
          -8.376041412353516,
          -9.446505546569824,
          -10.716513633728027,
          16.85882568359375,
          14.268697738647461,
          7.367800712585449,
          12.907696723937988,
          8.35468578338623,
          9.038735389709473,
          11.58515453338623,
          16.419635772705078,
          7.002970218658447,
          15.440194129943848,
          14.234089851379395,
          15.417054176330566,
          13.855862617492676,
          12.208426475524902,
          11.109452247619629,
          8.439656257629395,
          15.168998718261719,
          13.79055404663086,
          14.596091270446777,
          14.664813995361328,
          8.592385292053223,
          9.618474960327148,
          9.194475173950195,
          15.463897705078125,
          16.96010971069336,
          16.880905151367188,
          11.647001266479492,
          9.66064453125,
          11.13608169555664,
          8.378693580627441,
          10.183085441589355,
          11.037360191345215,
          -1.115779995918274,
          13.531229972839355,
          0.9384440779685974,
          1.5636825561523438,
          15.31424331665039,
          -0.0004996657371520996,
          12.099912643432617,
          14.68781566619873,
          16.213916778564453,
          -0.5515826344490051,
          12.372847557067871,
          15.184617042541504,
          9.681435585021973,
          9.94775390625,
          10.800724983215332,
          6.915825843811035,
          9.19733715057373,
          13.182149887084961,
          1.9520002603530884,
          13.131304740905762,
          7.256582260131836,
          8.15945053100586,
          2.265235662460327,
          -0.06419067084789276,
          1.185171365737915
         ],
         "z": [
          -13.124283790588379,
          -14.319915771484375,
          -14.63027286529541,
          -12.904857635498047,
          -12.049112319946289,
          -12.298757553100586,
          -10.382534980773926,
          -13.195551872253418,
          -12.388617515563965,
          -13.979705810546875,
          -7.071493148803711,
          -13.235241889953613,
          -6.880263805389404,
          -14.554092407226562,
          -7.312094211578369,
          -16.276708602905273,
          -10.467360496520996,
          -11.7444429397583,
          -7.497359752655029,
          -12.09411907196045,
          -14.502554893493652,
          -2.3139188289642334,
          -9.064458847045898,
          -7.8319878578186035,
          -4.749879837036133,
          -1.5356802940368652,
          -8.533478736877441,
          -1.390979290008545,
          0.2631755769252777,
          1.5544346570968628,
          2.51761794090271,
          -1.0328243970870972,
          2.3306021690368652,
          -16.86825942993164,
          1.7665196657180786,
          1.3971539735794067,
          -12.032816886901855,
          -9.656578063964844,
          1.4550719261169434,
          -12.05008602142334,
          -4.653475284576416,
          3.2077507972717285,
          -13.953292846679688,
          -1.395948886871338,
          -1.4262263774871826,
          -4.931826591491699,
          -8.022432327270508,
          -0.43073394894599915,
          -4.081051349639893,
          -3.1428120136260986,
          -0.24719396233558655,
          -6.054285049438477,
          -4.0386786460876465,
          1.1268047094345093,
          -17.75910758972168,
          -19.494117736816406,
          -5.316383361816406,
          -5.76312255859375,
          0.5918898582458496,
          -1.2883450984954834,
          -1.3018507957458496,
          -7.040213584899902,
          -1.5367614030838013,
          -2.624277114868164,
          -9.681609153747559,
          -0.0872364416718483,
          -6.027588844299316,
          -1.0350099802017212,
          -13.233349800109863,
          -20.440431594848633,
          -10.346075057983398,
          -4.668802261352539,
          4.252888202667236,
          1.2920951843261719,
          -2.5913450717926025,
          2.213973045349121,
          -10.422331809997559,
          0.1450454443693161,
          -12.31753158569336,
          -8.286026954650879,
          0.22155214846134186,
          -2.481799364089966,
          -4.8692169189453125,
          1.7272603511810303,
          -7.932559490203857,
          -9.987140655517578,
          -1.2259528636932373,
          -1.8731999397277832,
          -3.9195139408111572,
          -2.905872344970703,
          -2.752664089202881,
          2.44929575920105,
          -2.826918601989746,
          -10.713712692260742,
          -0.9023042917251587,
          -7.760715007781982,
          2.5154426097869873,
          2.6418099403381348,
          1.387797474861145,
          1.6563435792922974,
          -10.441679954528809,
          8.780675888061523,
          -7.595743656158447,
          2.3310956954956055,
          3.1300454139709473,
          -3.3563499450683594,
          -1.5085841417312622,
          1.8634939193725586,
          -3.7206311225891113,
          -11.838993072509766,
          -10.259588241577148,
          -0.013370377011597157,
          -4.023561954498291,
          0.5585929751396179,
          -6.311071395874023,
          -9.16567611694336,
          -3.2838685512542725,
          -11.8724946975708,
          0.4790197014808655,
          -20.658893585205078,
          -11.896596908569336,
          -0.6818265914916992,
          -6.864391803741455,
          0.9272435307502747,
          -12.881512641906738,
          1.5729082822799683,
          -4.318763732910156,
          1.8988044261932373,
          -1.8861515522003174,
          -8.458728790283203,
          -0.10400122404098511,
          3.9018967151641846,
          -17.851072311401367,
          -0.9549815654754639,
          -0.654640793800354,
          -8.060874938964844,
          6.004204750061035,
          -4.031445026397705,
          -5.033411026000977,
          0.7344346046447754,
          1.1845099925994873,
          -4.25288724899292,
          -2.1311357021331787,
          -13.197746276855469,
          0.43960604071617126,
          -15.571634292602539,
          -0.024277737364172935,
          -2.595118761062622,
          2.122189998626709,
          -0.21379509568214417,
          -16.07337760925293,
          -10.627758979797363,
          -9.850186347961426,
          1.2131134271621704,
          -4.91274881362915,
          1.3835314512252808,
          -2.162834882736206,
          -1.7563064098358154,
          -8.431482315063477,
          -5.852875709533691,
          -14.463763236999512,
          0.33333060145378113,
          -7.515531063079834,
          10.4340181350708,
          1.5530396699905396,
          1.0780094861984253,
          1.2853224277496338,
          0.8937467336654663,
          2.069344997406006,
          -1.981673240661621,
          0.1441241353750229,
          0.7031800150871277,
          -13.411087036132812,
          13.898880004882812,
          -8.579903602600098,
          7.131281852722168,
          -2.4033215045928955,
          -7.810267925262451,
          -7.941008567810059,
          -3.837906837463379,
          -5.02616548538208,
          2.5357141494750977,
          3.2864584922790527,
          -8.11884593963623,
          3.038163661956787,
          -15.019794464111328,
          -7.595649719238281,
          -7.479401588439941,
          1.6876949071884155,
          -1.8027898073196411,
          -0.46515172719955444,
          -14.78270435333252,
          -19.858718872070312,
          -8.31026840209961,
          0.10860873758792877,
          10.770387649536133,
          3.9868991374969482,
          4.891443729400635,
          6.131256580352783,
          2.029019355773926,
          5.113031387329102,
          4.4584221839904785,
          -10.876864433288574,
          7.3048882484436035,
          -11.300738334655762,
          6.8315629959106445,
          6.225362777709961,
          4.7427825927734375,
          7.978903770446777,
          6.720122814178467,
          -7.750260353088379,
          -4.243391513824463,
          10.060699462890625,
          3.6792185306549072,
          4.466597557067871,
          5.534206390380859,
          -13.446487426757812,
          4.525977611541748,
          12.951892852783203,
          -6.735869884490967,
          -2.1305975914001465,
          -8.136575698852539,
          -5.979442119598389,
          5.0747551918029785,
          5.496280193328857,
          -1.304701566696167,
          -7.128137588500977,
          -0.036426618695259094,
          -2.4649312496185303,
          3.703336477279663,
          8.724639892578125,
          9.59244155883789,
          16.120969772338867,
          -7.575015544891357,
          0.20085306465625763,
          -9.216453552246094,
          4.0359907150268555,
          -8.619195938110352,
          1.9747884273529053,
          -6.9793701171875,
          -8.036308288574219,
          4.264398574829102,
          -2.6352269649505615,
          0.28676384687423706,
          -15.334454536437988,
          2.427983283996582,
          1.1220799684524536,
          -1.9673866033554077,
          3.0158441066741943,
          -3.094435214996338,
          -1.00022292137146,
          1.6788684129714966,
          -0.26562562584877014,
          -3.7548577785491943,
          -7.072747230529785,
          0.15024080872535706,
          6.774889945983887,
          -3.980961561203003,
          -0.3546845316886902,
          8.53804874420166,
          10.113277435302734,
          -6.371582508087158,
          1.4111089706420898,
          -2.9935288429260254,
          2.461616277694702,
          -3.733792543411255,
          15.776272773742676,
          3.5700736045837402,
          8.127607345581055,
          -5.614009857177734,
          -2.0539159774780273,
          -10.698919296264648,
          3.5889952182769775,
          -1.1140564680099487,
          -0.9602766036987305,
          -12.468414306640625,
          1.3212937116622925,
          -9.170857429504395,
          -10.555251121520996,
          2.6325087547302246,
          5.31389856338501,
          -10.842896461486816,
          -5.310865879058838,
          6.591773986816406,
          1.4294549226760864,
          16.910884857177734,
          -3.1147491931915283,
          3.1580448150634766,
          4.508182525634766,
          15.042106628417969,
          2.858161687850952,
          6.567732334136963,
          -8.518820762634277,
          -8.133881568908691,
          8.088770866394043,
          13.245403289794922,
          14.919685363769531,
          -6.6540117263793945,
          -9.736659049987793,
          9.468626976013184,
          -4.6354899406433105,
          -5.126364231109619,
          -11.011088371276855,
          -8.117053031921387,
          8.474507331848145,
          6.293639659881592,
          -5.8135151863098145,
          -15.45666790008545,
          4.38686990737915,
          -2.962174415588379,
          -12.411050796508789,
          -7.537087440490723,
          -5.488473415374756,
          -9.851170539855957,
          5.522756099700928,
          -12.772047996520996,
          -12.736466407775879,
          -13.619659423828125,
          5.540293216705322,
          -3.159090995788574,
          3.3874783515930176,
          0.08510108292102814,
          -1.629327654838562,
          -7.208276748657227,
          3.2210192680358887,
          9.504781723022461,
          1.4939993619918823,
          -11.948302268981934,
          -13.947885513305664,
          7.623533248901367,
          5.323866367340088,
          5.5764875411987305,
          -14.356474876403809,
          -16.88475227355957,
          -1.5518914461135864,
          7.924675464630127,
          10.469533920288086,
          4.624138355255127,
          9.690078735351562,
          15.333003044128418,
          10.718297004699707,
          7.225667476654053,
          16.800609588623047,
          4.167754650115967,
          7.647024154663086,
          5.91825008392334,
          7.187379837036133,
          8.750650405883789,
          -16.9542293548584,
          3.0591771602630615,
          -1.6938825845718384,
          -7.433586120605469,
          3.9049038887023926,
          -7.358757495880127,
          7.142157077789307,
          10.249982833862305,
          8.053261756896973,
          11.728047370910645,
          13.088369369506836,
          13.626154899597168,
          5.143738269805908,
          4.838334560394287,
          -8.577250480651855,
          3.2889037132263184,
          -2.4878435134887695,
          -9.104382514953613,
          -6.366702079772949,
          1.8164018392562866,
          4.866076469421387,
          -11.040555000305176,
          4.080540657043457,
          12.7106294631958,
          5.3183183670043945,
          8.741225242614746,
          6.610532760620117,
          13.633282661437988,
          -11.467652320861816,
          2.9998724460601807,
          2.776811122894287,
          10.699256896972656,
          -9.147823333740234,
          4.39114236831665,
          0.7831898331642151,
          -14.156193733215332,
          11.848217010498047,
          -5.560836315155029,
          -17.08106231689453,
          -7.890068531036377,
          0.23133893311023712,
          -9.292370796203613,
          -6.276272773742676,
          1.796467661857605,
          -5.562637805938721,
          -17.23809242248535,
          -3.7171661853790283,
          -6.098740100860596,
          -10.825064659118652,
          -14.951083183288574,
          -10.7291841506958,
          -11.849376678466797,
          7.4562668800354,
          -15.111318588256836,
          -15.680774688720703,
          -0.38447949290275574,
          1.3270225524902344,
          -13.99635124206543,
          -10.548059463500977,
          -9.324612617492676,
          5.105062007904053,
          -5.379178047180176,
          -5.852233409881592,
          -8.989311218261719,
          -7.634315490722656,
          -4.389970302581787,
          -18.922409057617188,
          -14.277449607849121,
          -8.09642219543457,
          -15.853564262390137,
          -19.715600967407227,
          -5.883246898651123,
          -9.282748222351074,
          -7.0249714851379395,
          -6.818748474121094,
          -13.778897285461426,
          -15.340832710266113,
          -13.60143756866455,
          -13.653125762939453,
          -2.0673890113830566,
          -11.351301193237305,
          -19.282766342163086,
          14.141456604003906,
          -9.668521881103516,
          -5.299108505249023,
          0.6809753775596619,
          7.790449142456055,
          -9.228975296020508,
          -8.771391868591309,
          -5.056868076324463,
          -7.574370861053467,
          -0.43892279267311096,
          -10.21335506439209,
          -18.5821590423584,
          -8.818757057189941,
          4.014830589294434,
          -4.302844047546387,
          -0.545595109462738,
          0.833293616771698,
          -15.209450721740723,
          -0.2649542987346649,
          -6.999330520629883,
          -13.816814422607422,
          -21.518239974975586,
          -1.1026629209518433,
          -15.064276695251465,
          11.727859497070312,
          -11.155511856079102,
          -4.4949870109558105,
          -4.16651725769043,
          -4.582392692565918,
          -9.201539993286133,
          -12.020581245422363,
          0.9171884655952454,
          -10.680296897888184,
          -18.99848175048828,
          -6.512661933898926,
          -13.188286781311035,
          -6.270785808563232,
          -8.369909286499023,
          -10.487518310546875,
          -4.699093818664551,
          -14.039397239685059,
          -14.48133373260498,
          -11.60615062713623,
          -16.776960372924805,
          -4.319925308227539,
          -4.855123043060303,
          -5.566967487335205,
          -17.63365936279297,
          1.1962127685546875,
          -13.52389907836914,
          -10.42229175567627,
          -11.9944429397583,
          -4.905573844909668,
          10.37458324432373,
          10.758493423461914,
          -17.818090438842773,
          -12.05945873260498,
          -6.841363430023193,
          5.513731479644775,
          -10.62617015838623,
          1.4052737951278687,
          -2.1336681842803955,
          -14.606868743896484,
          -7.245440483093262,
          -5.9952521324157715,
          -6.9540300369262695,
          -6.967965602874756,
          -6.18544864654541,
          5.747356414794922,
          7.934229850769043,
          8.118020057678223,
          8.410202026367188,
          12.686178207397461,
          6.213193893432617,
          1.8459306955337524,
          13.50007152557373,
          5.548494338989258,
          9.7284574508667,
          -6.4077467918396,
          15.047513008117676,
          -8.938934326171875,
          -1.6077877283096313,
          -8.10278034210205,
          0.7283262610435486,
          3.9159626960754395,
          -19.18378257751465,
          -10.907902717590332,
          -3.565499782562256,
          14.644022941589355,
          -8.865697860717773,
          4.558056354522705,
          6.195772647857666,
          3.905156373977661,
          11.61104679107666,
          -4.3755998611450195,
          -8.908048629760742,
          11.983694076538086,
          14.392773628234863,
          11.063055992126465,
          3.87969708442688,
          4.504964828491211,
          12.957893371582031,
          11.420689582824707,
          -17.215614318847656,
          -9.827929496765137,
          -12.788841247558594,
          2.2917871475219727,
          -3.0726284980773926,
          -7.538248062133789,
          -9.150866508483887,
          -11.642901420593262,
          7.249232292175293,
          8.154452323913574,
          10.272516250610352,
          6.900991916656494,
          5.267341613769531,
          -15.443244934082031,
          -17.00212287902832,
          11.136625289916992,
          -5.1302595138549805,
          -0.08345680683851242,
          8.185280799865723,
          3.0859508514404297,
          5.286012649536133,
          4.55897331237793,
          5.092795372009277,
          4.449582576751709,
          7.268304347991943,
          13.145445823669434,
          -7.711873531341553,
          4.946839332580566,
          -3.4124274253845215,
          -4.776539325714111,
          -0.9915370345115662,
          -9.465537071228027,
          13.011923789978027,
          6.873086929321289,
          11.483561515808105,
          -5.545928001403809,
          5.608432292938232,
          -9.6373872756958,
          -8.479246139526367,
          -5.645115375518799,
          13.386626243591309,
          12.95630168914795,
          -10.180294036865234,
          -0.4468191862106323,
          6.833795547485352,
          -6.63393497467041,
          -3.9188168048858643,
          -8.532742500305176,
          -6.610613822937012,
          -4.609165191650391,
          -14.688796997070312,
          -6.742626190185547,
          -12.37218189239502,
          -1.840691089630127,
          -10.816163063049316,
          -8.40726089477539,
          -11.18970012664795,
          -11.120786666870117,
          -3.3818719387054443,
          -3.66402268409729,
          -2.526352882385254,
          -14.367244720458984,
          -0.10340416431427002,
          -5.804591655731201,
          -10.378546714782715,
          -18.161014556884766,
          -0.45917439460754395,
          -11.321537017822266,
          -9.41230583190918,
          -8.855764389038086,
          -11.590466499328613,
          -8.785228729248047,
          2.5965240001678467,
          -8.062066078186035,
          -6.4201741218566895,
          -1.3111193180084229,
          -11.104353904724121,
          -5.280855655670166,
          -13.859966278076172,
          -7.7119951248168945,
          0.1031780019402504,
          -10.771293640136719,
          -10.356897354125977,
          8.881393432617188,
          -5.927504539489746,
          -3.3517870903015137,
          -16.28097915649414,
          2.9979381561279297,
          -11.462169647216797,
          -13.317781448364258,
          -12.163942337036133,
          -5.270059585571289,
          -9.03390884399414,
          6.16213846206665,
          -12.789607048034668,
          -11.48886775970459,
          -10.10906982421875,
          -13.321208000183105,
          5.4054365158081055,
          5.796331882476807,
          -12.782093048095703,
          -13.982305526733398,
          -10.743247985839844,
          -12.051092147827148,
          8.707001686096191,
          11.944077491760254,
          10.098243713378906,
          11.345176696777344,
          9.491981506347656,
          -0.6274487376213074,
          9.977396011352539,
          -11.546961784362793,
          -7.31608247756958,
          -9.940166473388672,
          -9.515706062316895,
          -10.33087158203125,
          -9.629694938659668,
          -16.51874351501465,
          -10.532478332519531,
          8.895581245422363,
          -1.627356767654419,
          0.4060348570346832,
          1.7487870454788208,
          -15.03049373626709,
          -11.457701683044434,
          5.058196544647217,
          -10.707913398742676,
          3.5229382514953613,
          -19.781030654907227,
          -12.173880577087402,
          6.351645469665527,
          10.918288230895996,
          8.096213340759277,
          9.186626434326172,
          9.29752254486084,
          -2.511281967163086,
          -8.887653350830078,
          -7.543044567108154,
          -9.307733535766602,
          -6.846980571746826,
          -6.540447235107422,
          -5.659091472625732,
          14.226587295532227,
          -0.13165859878063202,
          -2.4915030002593994,
          2.813356637954712,
          -9.935059547424316,
          -6.435102462768555,
          -8.312169075012207,
          -1.3671159744262695,
          -7.983827590942383,
          -1.549791693687439,
          -5.87225341796875,
          13.202169418334961,
          6.9449872970581055,
          -21.216440200805664,
          -6.286320209503174,
          7.88276481628418,
          -9.701142311096191,
          -16.287673950195312,
          -10.29526424407959,
          -10.118925094604492,
          -0.8468442559242249,
          -2.0847063064575195,
          5.445440769195557,
          -7.166833877563477,
          3.7264063358306885,
          -10.140705108642578,
          2.632345676422119,
          9.935835838317871,
          10.971077919006348,
          9.085092544555664,
          10.059887886047363,
          -11.138545989990234,
          8.292996406555176,
          -8.75241756439209,
          0.6884953379631042,
          -10.983134269714355,
          12.927607536315918,
          -3.5009093284606934,
          -10.710197448730469,
          7.317849636077881,
          5.429843425750732,
          3.764089345932007,
          -8.573200225830078,
          -3.6800336837768555,
          -11.639283180236816,
          -2.4294395446777344,
          6.546428680419922,
          1.7095624208450317,
          2.1182398796081543,
          0.9623837471008301,
          9.801607131958008,
          8.981412887573242,
          8.51447582244873,
          -14.104055404663086,
          8.724431991577148,
          9.437886238098145,
          -7.625875473022461,
          -16.1691951751709,
          6.2545270919799805,
          6.671207427978516,
          -2.9051754474639893,
          4.617981910705566,
          -11.733240127563477,
          3.848980665206909,
          -5.8730082511901855,
          7.11198616027832,
          6.5030622482299805,
          -16.73299789428711,
          4.132631778717041,
          3.170123815536499,
          12.2684326171875,
          -2.7314693927764893,
          -1.4702554941177368,
          -10.406214714050293,
          -9.67636775970459,
          -9.455824851989746,
          -6.049703121185303,
          2.551403522491455,
          0.17762720584869385,
          12.120650291442871,
          -0.8559956550598145,
          7.6117658615112305,
          -5.14054012298584,
          6.503864288330078,
          -7.540181636810303,
          -6.952082633972168,
          1.3913021087646484,
          1.2548140287399292,
          -7.928685188293457,
          -2.7164292335510254,
          8.199637413024902,
          7.785895347595215,
          6.3329691886901855,
          -3.2188851833343506,
          -0.033077847212553024,
          -7.008577823638916,
          -11.691756248474121,
          -5.14178466796875,
          -6.887735366821289,
          -16.847759246826172,
          0.10905320942401886,
          -7.90324592590332,
          -9.51083755493164,
          -2.4201552867889404,
          -6.8228840827941895,
          3.8659658432006836,
          7.314693450927734,
          7.9362359046936035,
          -18.646228790283203,
          -14.155973434448242,
          -3.6949450969696045,
          -7.668424129486084,
          -10.276813507080078,
          0.524217963218689,
          3.4891343116760254,
          -10.730512619018555,
          -5.198820114135742,
          12.801335334777832,
          3.514868974685669,
          -7.726439952850342,
          6.208816051483154,
          6.391279220581055,
          7.009833335876465,
          -9.416057586669922,
          -11.36083698272705,
          -11.042049407958984,
          -7.323374271392822,
          -18.488758087158203,
          10.076277732849121,
          1.501220703125,
          -0.9219443798065186,
          -5.545899868011475,
          -15.218868255615234,
          -6.600778579711914,
          -6.003988265991211,
          0.2864837944507599,
          -17.3817081451416,
          -3.6885576248168945,
          5.503809928894043,
          -11.460796356201172,
          -6.450076103210449,
          10.239593505859375,
          5.206938743591309,
          11.833155632019043,
          1.1906530857086182,
          -8.897989273071289,
          7.768754482269287,
          9.184418678283691,
          -4.101478099822998,
          14.326059341430664,
          6.076505661010742,
          8.305391311645508,
          -10.929511070251465,
          7.501336574554443,
          8.654041290283203,
          -7.953176975250244,
          5.461397171020508,
          8.279029846191406,
          -10.33853816986084,
          -3.9877750873565674,
          -16.245704650878906,
          -6.377837181091309,
          -2.973566770553589,
          9.076461791992188,
          9.095894813537598,
          -5.7007598876953125,
          0.7892819046974182,
          -11.895622253417969,
          12.192566871643066,
          4.9159064292907715,
          -20.528806686401367,
          3.464144229888916,
          -12.605158805847168,
          -6.17944860458374,
          -8.139752388000488,
          -1.3357336521148682,
          -2.451434850692749,
          -3.6680004596710205,
          4.9246134757995605,
          7.525332927703857,
          9.031136512756348,
          5.231024265289307,
          3.6857402324676514,
          -8.135187149047852,
          -9.373785018920898,
          -1.9408701658248901,
          4.0839433670043945,
          5.0077667236328125,
          5.2624287605285645,
          -8.805697441101074,
          1.8976342678070068,
          -2.257061719894409,
          -7.918931007385254,
          -5.859297275543213,
          -1.4176642894744873,
          -0.9290875196456909,
          5.1202712059021,
          -1.7792024612426758,
          8.108559608459473,
          -7.322765350341797,
          6.394320964813232,
          0.2805638313293457,
          9.591605186462402,
          2.4936625957489014,
          10.715457916259766,
          3.601252794265747,
          4.191926956176758,
          -20.88144874572754,
          3.9279444217681885,
          7.642940521240234,
          6.160640239715576,
          3.9036037921905518,
          2.518404245376587,
          4.298810005187988,
          1.6494637727737427,
          -6.834837436676025,
          2.768782138824463,
          -12.534016609191895,
          7.298559665679932,
          -13.316742897033691,
          -6.374423503875732,
          -3.7512502670288086,
          -2.2446556091308594,
          0.008068428374826908,
          -4.6483917236328125,
          -4.258734703063965,
          -5.656569480895996,
          1.4789105653762817,
          6.690772533416748,
          13.927593231201172,
          0.3044726550579071,
          -4.548086166381836,
          -4.9393391609191895,
          -11.663363456726074,
          -9.713412284851074,
          -8.468770027160645,
          -1.46279776096344,
          -4.075703144073486,
          -11.775275230407715,
          9.171231269836426,
          -1.709928274154663,
          -14.995684623718262,
          -11.81270980834961,
          5.256958961486816,
          5.383025169372559,
          1.021950364112854,
          -11.402511596679688,
          4.391768455505371,
          -7.529238224029541,
          -0.6855798363685608,
          -4.364120006561279,
          1.8050310611724854,
          16.390106201171875,
          2.956113815307617,
          14.362573623657227,
          -9.552799224853516,
          8.48226547241211,
          14.057254791259766,
          11.727863311767578,
          12.355857849121094,
          9.614556312561035,
          -8.393136024475098,
          -14.321523666381836,
          9.940633773803711,
          9.516860008239746,
          13.177048683166504,
          -11.478239059448242,
          -16.093896865844727,
          -16.85175895690918,
          12.8718843460083,
          12.364265441894531,
          5.923214435577393,
          -17.58548927307129,
          -10.751031875610352,
          1.6452823877334595,
          1.1019238233566284,
          1.2588180303573608,
          2.5187039375305176,
          14.761077880859375,
          0.0774933397769928,
          0.3074095547199249,
          -9.39443302154541,
          4.48069429397583,
          -9.360713958740234,
          12.70307731628418,
          0.6358672976493835,
          8.841079711914062,
          3.4184396266937256,
          -3.7136707305908203,
          5.8749613761901855,
          -21.32880973815918,
          -1.6766443252563477,
          -6.838654518127441,
          -1.1144839525222778,
          -15.642529487609863,
          6.665775299072266,
          7.215468406677246,
          5.308228969573975,
          -15.71668529510498,
          -3.0876786708831787,
          -11.296834945678711,
          -15.314752578735352,
          -17.29926300048828,
          5.87775182723999,
          14.881875038146973,
          14.492612838745117,
          -2.9494102001190186,
          -4.56580924987793,
          2.916442394256592,
          1.6973800659179688,
          11.405925750732422,
          11.66926383972168,
          -2.733736515045166,
          9.812089920043945,
          -3.6265790462493896,
          -4.685703277587891,
          7.782320976257324,
          8.8186674118042,
          8.61677074432373,
          11.518380165100098,
          10.106494903564453,
          -5.4067702293396,
          2.4588115215301514,
          3.403201103210449,
          -1.5873550176620483,
          8.607440948486328,
          8.402339935302734,
          6.195043563842773,
          12.890800476074219,
          5.373892784118652,
          7.953766822814941,
          9.91635513305664,
          12.79983139038086,
          11.911867141723633,
          13.369867324829102,
          7.004836082458496,
          4.776468753814697,
          7.2034735679626465,
          -7.444582462310791,
          -1.9100831747055054,
          -7.553040027618408,
          -4.347228050231934,
          -9.731345176696777,
          2.3172829151153564,
          -7.484794616699219,
          -6.814054489135742,
          0.26307156682014465,
          2.858372688293457,
          6.855034828186035,
          12.916900634765625,
          9.042061805725098,
          8.15170955657959,
          0.7091193199157715,
          0.655795693397522,
          -0.37718960642814636,
          9.4811429977417,
          11.675915718078613,
          11.923386573791504,
          10.781283378601074,
          10.262239456176758,
          13.736299514770508,
          -8.921637535095215,
          -2.183825969696045,
          -2.3729183673858643,
          4.980843544006348,
          9.410423278808594,
          -4.851727485656738,
          0.6939952969551086,
          -0.9258320927619934,
          -0.47260597348213196,
          5.730216979980469,
          -6.439170837402344,
          -2.493175745010376,
          -1.0257712602615356,
          -3.338355302810669,
          -9.36273193359375,
          -1.8051702976226807,
          -1.3653792142868042,
          -0.3275761306285858,
          -0.6880658864974976,
          0.0007246492896229029,
          10.085930824279785,
          11.38180160522461,
          -16.29692268371582,
          4.758127689361572,
          9.774444580078125,
          10.1311616897583,
          9.924768447875977,
          9.37224292755127,
          10.808184623718262,
          9.504026412963867,
          8.67482852935791,
          14.496417045593262,
          8.97170352935791,
          9.847046852111816,
          12.334062576293945,
          12.241253852844238,
          10.676859855651855,
          14.581411361694336,
          -7.765804767608643,
          6.420562744140625,
          -1.7156850099563599,
          -1.7277164459228516,
          6.27883768081665,
          7.529018402099609,
          -11.148233413696289,
          5.508934020996094,
          7.654929161071777,
          1.6458286046981812,
          23.405759811401367,
          24.83550262451172,
          24.171709060668945,
          22.94891929626465,
          23.320592880249023,
          22.92404556274414,
          21.503040313720703,
          19.691776275634766,
          25.23362159729004,
          21.635478973388672,
          23.910593032836914,
          24.590293884277344,
          23.784143447875977,
          22.404220581054688,
          24.814205169677734,
          23.39156723022461,
          21.907194137573242,
          20.065937042236328,
          22.90291976928711,
          21.322437286376953,
          22.10923194885254,
          20.77821159362793,
          22.51673126220703,
          22.316614151000977,
          21.10169792175293,
          20.03558921813965,
          24.107982635498047,
          19.767913818359375,
          20.6213436126709,
          20.875356674194336,
          22.467021942138672,
          21.457372665405273,
          22.25828742980957,
          22.749189376831055,
          23.554922103881836,
          21.43193244934082,
          24.652545928955078,
          23.63050079345703,
          21.282377243041992,
          23.2216854095459,
          21.89263343811035,
          22.826698303222656,
          22.410032272338867,
          24.9047908782959,
          20.57887840270996,
          22.48739242553711,
          23.693302154541016,
          23.331138610839844,
          22.88416862487793,
          23.465866088867188,
          20.871623992919922,
          21.807964324951172,
          20.94804573059082,
          23.108295440673828,
          23.084625244140625,
          21.63232421875,
          19.97046661376953,
          20.89604949951172,
          21.833436965942383,
          21.7362003326416,
          21.380142211914062,
          23.726377487182617,
          21.89701271057129,
          23.120677947998047,
          21.20209503173828,
          21.613752365112305,
          22.710662841796875,
          23.14539337158203,
          22.038467407226562,
          21.779508590698242,
          21.345064163208008,
          22.068130493164062,
          22.01968002319336,
          20.28272247314453,
          22.903905868530273,
          23.10244369506836,
          24.91068458557129,
          22.989261627197266,
          24.416606903076172,
          21.966463088989258,
          23.264310836791992,
          24.59270668029785,
          21.630321502685547,
          22.277938842773438,
          21.162185668945312,
          24.503597259521484,
          24.487268447875977,
          23.31007194519043,
          22.124652862548828,
          23.74005889892578
         ]
        }
       ],
       "layout": {
        "coloraxis": {
         "colorbar": {
          "title": {
           "text": "Label"
          }
         },
         "colorscale": [
          [
           0,
           "#0d0887"
          ],
          [
           0.1111111111111111,
           "#46039f"
          ],
          [
           0.2222222222222222,
           "#7201a8"
          ],
          [
           0.3333333333333333,
           "#9c179e"
          ],
          [
           0.4444444444444444,
           "#bd3786"
          ],
          [
           0.5555555555555556,
           "#d8576b"
          ],
          [
           0.6666666666666666,
           "#ed7953"
          ],
          [
           0.7777777777777778,
           "#fb9f3a"
          ],
          [
           0.8888888888888888,
           "#fdca26"
          ],
          [
           1,
           "#f0f921"
          ]
         ]
        },
        "height": 800,
        "legend": {
         "tracegroupgap": 0
        },
        "scene": {
         "domain": {
          "x": [
           0,
           1
          ],
          "y": [
           0,
           1
          ]
         },
         "xaxis": {
          "title": {
           "text": "0"
          }
         },
         "yaxis": {
          "title": {
           "text": "1"
          }
         },
         "zaxis": {
          "title": {
           "text": "2"
          }
         }
        },
        "template": {
         "data": {
          "bar": [
           {
            "error_x": {
             "color": "#2a3f5f"
            },
            "error_y": {
             "color": "#2a3f5f"
            },
            "marker": {
             "line": {
              "color": "#E5ECF6",
              "width": 0.5
             }
            },
            "type": "bar"
           }
          ],
          "barpolar": [
           {
            "marker": {
             "line": {
              "color": "#E5ECF6",
              "width": 0.5
             }
            },
            "type": "barpolar"
           }
          ],
          "carpet": [
           {
            "aaxis": {
             "endlinecolor": "#2a3f5f",
             "gridcolor": "white",
             "linecolor": "white",
             "minorgridcolor": "white",
             "startlinecolor": "#2a3f5f"
            },
            "baxis": {
             "endlinecolor": "#2a3f5f",
             "gridcolor": "white",
             "linecolor": "white",
             "minorgridcolor": "white",
             "startlinecolor": "#2a3f5f"
            },
            "type": "carpet"
           }
          ],
          "choropleth": [
           {
            "colorbar": {
             "outlinewidth": 0,
             "ticks": ""
            },
            "type": "choropleth"
           }
          ],
          "contour": [
           {
            "colorbar": {
             "outlinewidth": 0,
             "ticks": ""
            },
            "colorscale": [
             [
              0,
              "#0d0887"
             ],
             [
              0.1111111111111111,
              "#46039f"
             ],
             [
              0.2222222222222222,
              "#7201a8"
             ],
             [
              0.3333333333333333,
              "#9c179e"
             ],
             [
              0.4444444444444444,
              "#bd3786"
             ],
             [
              0.5555555555555556,
              "#d8576b"
             ],
             [
              0.6666666666666666,
              "#ed7953"
             ],
             [
              0.7777777777777778,
              "#fb9f3a"
             ],
             [
              0.8888888888888888,
              "#fdca26"
             ],
             [
              1,
              "#f0f921"
             ]
            ],
            "type": "contour"
           }
          ],
          "contourcarpet": [
           {
            "colorbar": {
             "outlinewidth": 0,
             "ticks": ""
            },
            "type": "contourcarpet"
           }
          ],
          "heatmap": [
           {
            "colorbar": {
             "outlinewidth": 0,
             "ticks": ""
            },
            "colorscale": [
             [
              0,
              "#0d0887"
             ],
             [
              0.1111111111111111,
              "#46039f"
             ],
             [
              0.2222222222222222,
              "#7201a8"
             ],
             [
              0.3333333333333333,
              "#9c179e"
             ],
             [
              0.4444444444444444,
              "#bd3786"
             ],
             [
              0.5555555555555556,
              "#d8576b"
             ],
             [
              0.6666666666666666,
              "#ed7953"
             ],
             [
              0.7777777777777778,
              "#fb9f3a"
             ],
             [
              0.8888888888888888,
              "#fdca26"
             ],
             [
              1,
              "#f0f921"
             ]
            ],
            "type": "heatmap"
           }
          ],
          "heatmapgl": [
           {
            "colorbar": {
             "outlinewidth": 0,
             "ticks": ""
            },
            "colorscale": [
             [
              0,
              "#0d0887"
             ],
             [
              0.1111111111111111,
              "#46039f"
             ],
             [
              0.2222222222222222,
              "#7201a8"
             ],
             [
              0.3333333333333333,
              "#9c179e"
             ],
             [
              0.4444444444444444,
              "#bd3786"
             ],
             [
              0.5555555555555556,
              "#d8576b"
             ],
             [
              0.6666666666666666,
              "#ed7953"
             ],
             [
              0.7777777777777778,
              "#fb9f3a"
             ],
             [
              0.8888888888888888,
              "#fdca26"
             ],
             [
              1,
              "#f0f921"
             ]
            ],
            "type": "heatmapgl"
           }
          ],
          "histogram": [
           {
            "marker": {
             "colorbar": {
              "outlinewidth": 0,
              "ticks": ""
             }
            },
            "type": "histogram"
           }
          ],
          "histogram2d": [
           {
            "colorbar": {
             "outlinewidth": 0,
             "ticks": ""
            },
            "colorscale": [
             [
              0,
              "#0d0887"
             ],
             [
              0.1111111111111111,
              "#46039f"
             ],
             [
              0.2222222222222222,
              "#7201a8"
             ],
             [
              0.3333333333333333,
              "#9c179e"
             ],
             [
              0.4444444444444444,
              "#bd3786"
             ],
             [
              0.5555555555555556,
              "#d8576b"
             ],
             [
              0.6666666666666666,
              "#ed7953"
             ],
             [
              0.7777777777777778,
              "#fb9f3a"
             ],
             [
              0.8888888888888888,
              "#fdca26"
             ],
             [
              1,
              "#f0f921"
             ]
            ],
            "type": "histogram2d"
           }
          ],
          "histogram2dcontour": [
           {
            "colorbar": {
             "outlinewidth": 0,
             "ticks": ""
            },
            "colorscale": [
             [
              0,
              "#0d0887"
             ],
             [
              0.1111111111111111,
              "#46039f"
             ],
             [
              0.2222222222222222,
              "#7201a8"
             ],
             [
              0.3333333333333333,
              "#9c179e"
             ],
             [
              0.4444444444444444,
              "#bd3786"
             ],
             [
              0.5555555555555556,
              "#d8576b"
             ],
             [
              0.6666666666666666,
              "#ed7953"
             ],
             [
              0.7777777777777778,
              "#fb9f3a"
             ],
             [
              0.8888888888888888,
              "#fdca26"
             ],
             [
              1,
              "#f0f921"
             ]
            ],
            "type": "histogram2dcontour"
           }
          ],
          "mesh3d": [
           {
            "colorbar": {
             "outlinewidth": 0,
             "ticks": ""
            },
            "type": "mesh3d"
           }
          ],
          "parcoords": [
           {
            "line": {
             "colorbar": {
              "outlinewidth": 0,
              "ticks": ""
             }
            },
            "type": "parcoords"
           }
          ],
          "pie": [
           {
            "automargin": true,
            "type": "pie"
           }
          ],
          "scatter": [
           {
            "marker": {
             "colorbar": {
              "outlinewidth": 0,
              "ticks": ""
             }
            },
            "type": "scatter"
           }
          ],
          "scatter3d": [
           {
            "line": {
             "colorbar": {
              "outlinewidth": 0,
              "ticks": ""
             }
            },
            "marker": {
             "colorbar": {
              "outlinewidth": 0,
              "ticks": ""
             }
            },
            "type": "scatter3d"
           }
          ],
          "scattercarpet": [
           {
            "marker": {
             "colorbar": {
              "outlinewidth": 0,
              "ticks": ""
             }
            },
            "type": "scattercarpet"
           }
          ],
          "scattergeo": [
           {
            "marker": {
             "colorbar": {
              "outlinewidth": 0,
              "ticks": ""
             }
            },
            "type": "scattergeo"
           }
          ],
          "scattergl": [
           {
            "marker": {
             "colorbar": {
              "outlinewidth": 0,
              "ticks": ""
             }
            },
            "type": "scattergl"
           }
          ],
          "scattermapbox": [
           {
            "marker": {
             "colorbar": {
              "outlinewidth": 0,
              "ticks": ""
             }
            },
            "type": "scattermapbox"
           }
          ],
          "scatterpolar": [
           {
            "marker": {
             "colorbar": {
              "outlinewidth": 0,
              "ticks": ""
             }
            },
            "type": "scatterpolar"
           }
          ],
          "scatterpolargl": [
           {
            "marker": {
             "colorbar": {
              "outlinewidth": 0,
              "ticks": ""
             }
            },
            "type": "scatterpolargl"
           }
          ],
          "scatterternary": [
           {
            "marker": {
             "colorbar": {
              "outlinewidth": 0,
              "ticks": ""
             }
            },
            "type": "scatterternary"
           }
          ],
          "surface": [
           {
            "colorbar": {
             "outlinewidth": 0,
             "ticks": ""
            },
            "colorscale": [
             [
              0,
              "#0d0887"
             ],
             [
              0.1111111111111111,
              "#46039f"
             ],
             [
              0.2222222222222222,
              "#7201a8"
             ],
             [
              0.3333333333333333,
              "#9c179e"
             ],
             [
              0.4444444444444444,
              "#bd3786"
             ],
             [
              0.5555555555555556,
              "#d8576b"
             ],
             [
              0.6666666666666666,
              "#ed7953"
             ],
             [
              0.7777777777777778,
              "#fb9f3a"
             ],
             [
              0.8888888888888888,
              "#fdca26"
             ],
             [
              1,
              "#f0f921"
             ]
            ],
            "type": "surface"
           }
          ],
          "table": [
           {
            "cells": {
             "fill": {
              "color": "#EBF0F8"
             },
             "line": {
              "color": "white"
             }
            },
            "header": {
             "fill": {
              "color": "#C8D4E3"
             },
             "line": {
              "color": "white"
             }
            },
            "type": "table"
           }
          ]
         },
         "layout": {
          "annotationdefaults": {
           "arrowcolor": "#2a3f5f",
           "arrowhead": 0,
           "arrowwidth": 1
          },
          "coloraxis": {
           "colorbar": {
            "outlinewidth": 0,
            "ticks": ""
           }
          },
          "colorscale": {
           "diverging": [
            [
             0,
             "#8e0152"
            ],
            [
             0.1,
             "#c51b7d"
            ],
            [
             0.2,
             "#de77ae"
            ],
            [
             0.3,
             "#f1b6da"
            ],
            [
             0.4,
             "#fde0ef"
            ],
            [
             0.5,
             "#f7f7f7"
            ],
            [
             0.6,
             "#e6f5d0"
            ],
            [
             0.7,
             "#b8e186"
            ],
            [
             0.8,
             "#7fbc41"
            ],
            [
             0.9,
             "#4d9221"
            ],
            [
             1,
             "#276419"
            ]
           ],
           "sequential": [
            [
             0,
             "#0d0887"
            ],
            [
             0.1111111111111111,
             "#46039f"
            ],
            [
             0.2222222222222222,
             "#7201a8"
            ],
            [
             0.3333333333333333,
             "#9c179e"
            ],
            [
             0.4444444444444444,
             "#bd3786"
            ],
            [
             0.5555555555555556,
             "#d8576b"
            ],
            [
             0.6666666666666666,
             "#ed7953"
            ],
            [
             0.7777777777777778,
             "#fb9f3a"
            ],
            [
             0.8888888888888888,
             "#fdca26"
            ],
            [
             1,
             "#f0f921"
            ]
           ],
           "sequentialminus": [
            [
             0,
             "#0d0887"
            ],
            [
             0.1111111111111111,
             "#46039f"
            ],
            [
             0.2222222222222222,
             "#7201a8"
            ],
            [
             0.3333333333333333,
             "#9c179e"
            ],
            [
             0.4444444444444444,
             "#bd3786"
            ],
            [
             0.5555555555555556,
             "#d8576b"
            ],
            [
             0.6666666666666666,
             "#ed7953"
            ],
            [
             0.7777777777777778,
             "#fb9f3a"
            ],
            [
             0.8888888888888888,
             "#fdca26"
            ],
            [
             1,
             "#f0f921"
            ]
           ]
          },
          "colorway": [
           "#636efa",
           "#EF553B",
           "#00cc96",
           "#ab63fa",
           "#FFA15A",
           "#19d3f3",
           "#FF6692",
           "#B6E880",
           "#FF97FF",
           "#FECB52"
          ],
          "font": {
           "color": "#2a3f5f"
          },
          "geo": {
           "bgcolor": "white",
           "lakecolor": "white",
           "landcolor": "#E5ECF6",
           "showlakes": true,
           "showland": true,
           "subunitcolor": "white"
          },
          "hoverlabel": {
           "align": "left"
          },
          "hovermode": "closest",
          "mapbox": {
           "style": "light"
          },
          "paper_bgcolor": "white",
          "plot_bgcolor": "#E5ECF6",
          "polar": {
           "angularaxis": {
            "gridcolor": "white",
            "linecolor": "white",
            "ticks": ""
           },
           "bgcolor": "#E5ECF6",
           "radialaxis": {
            "gridcolor": "white",
            "linecolor": "white",
            "ticks": ""
           }
          },
          "scene": {
           "xaxis": {
            "backgroundcolor": "#E5ECF6",
            "gridcolor": "white",
            "gridwidth": 2,
            "linecolor": "white",
            "showbackground": true,
            "ticks": "",
            "zerolinecolor": "white"
           },
           "yaxis": {
            "backgroundcolor": "#E5ECF6",
            "gridcolor": "white",
            "gridwidth": 2,
            "linecolor": "white",
            "showbackground": true,
            "ticks": "",
            "zerolinecolor": "white"
           },
           "zaxis": {
            "backgroundcolor": "#E5ECF6",
            "gridcolor": "white",
            "gridwidth": 2,
            "linecolor": "white",
            "showbackground": true,
            "ticks": "",
            "zerolinecolor": "white"
           }
          },
          "shapedefaults": {
           "line": {
            "color": "#2a3f5f"
           }
          },
          "ternary": {
           "aaxis": {
            "gridcolor": "white",
            "linecolor": "white",
            "ticks": ""
           },
           "baxis": {
            "gridcolor": "white",
            "linecolor": "white",
            "ticks": ""
           },
           "bgcolor": "#E5ECF6",
           "caxis": {
            "gridcolor": "white",
            "linecolor": "white",
            "ticks": ""
           }
          },
          "title": {
           "x": 0.05
          },
          "xaxis": {
           "automargin": true,
           "gridcolor": "white",
           "linecolor": "white",
           "ticks": "",
           "title": {
            "standoff": 15
           },
           "zerolinecolor": "white",
           "zerolinewidth": 2
          },
          "yaxis": {
           "automargin": true,
           "gridcolor": "white",
           "linecolor": "white",
           "ticks": "",
           "title": {
            "standoff": 15
           },
           "zerolinecolor": "white",
           "zerolinewidth": 2
          }
         }
        },
        "title": {
         "text": "3d TSNE Plot for Outliers"
        },
        "width": 900
       }
      },
      "text/html": [
       "<div>\n",
       "        \n",
       "        \n",
       "            <div id=\"745f41ae-a9eb-453f-a431-f6377776a613\" class=\"plotly-graph-div\" style=\"height:800px; width:900px;\"></div>\n",
       "            <script type=\"text/javascript\">\n",
       "                require([\"plotly\"], function(Plotly) {\n",
       "                    window.PLOTLYENV=window.PLOTLYENV || {};\n",
       "                    \n",
       "                if (document.getElementById(\"745f41ae-a9eb-453f-a431-f6377776a613\")) {\n",
       "                    Plotly.newPlot(\n",
       "                        '745f41ae-a9eb-453f-a431-f6377776a613',\n",
       "                        [{\"customdata\": [[1], [2], [3], [4], [5], [6], [9], [10], [11], [12], [14], [15], [16], [17], [18], [19], [20], [21], [23], [26], [27], [29], [35], [36], [38], [39], [40], [41], [42], [43], [44], [45], [46], [47], [48], [50], [51], [52], [53], [54], [55], [56], [57], [58], [59], [60], [61], [62], [63], [64], [67], [68], [69], [70], [71], [72], [73], [74], [76], [77], [78], [79], [80], [81], [82], [83], [86], [87], [88], [90], [92], [93], [95], [96], [97], [98], [99], [100], [101], [102], [103], [104], [105], [106], [107], [108], [109], [110], [111], [112], [113], [114], [115], [116], [117], [118], [119], [120], [121], [122], [125], [126], [128], [129], [130], [131], [132], [134], [135], [136], [137], [138], [139], [140], [141], [142], [143], [144], [147], [148], [150], [152], [153], [154], [155], [157], [158], [159], [160], [162], [164], [167], [168], [169], [170], [171], [172], [173], [174], [175], [176], [179], [180], [181], [182], [183], [184], [185], [186], [187], [189], [190], [191], [194], [195], [196], [197], [198], [199], [200], [201], [203], [204], [206], [207], [209], [210], [211], [212], [213], [214], [215], [216], [218], [219], [220], [222], [224], [226], [228], [231], [232], [233], [234], [236], [237], [240], [243], [244], [245], [247], [248], [249], [250], [251], [252], [254], [255], [257], [259], [260], [261], [262], [263], [265], [266], [267], [268], [269], [271], [272], [273], [274], [275], [276], [277], [279], [280], [281], [282], [283], [284], [285], [286], [287], [288], [289], [290], [291], [292], [293], [294], [295], [296], [297], [298], [299], [300], [301], [302], [304], [306], [307], [308], [310], [311], [312], [314], [315], [317], [318], [320], [321], [322], [325], [326], [327], [328], [329], [330], [331], [332], [333], [334], [335], [336], [338], [339], [340], [341], [342], [344], [345], [347], [348], [349], [350], [351], [352], [353], [354], [355], [356], [357], [358], [359], [360], [361], [362], [363], [364], [366], [367], [368], [369], [370], [371], [372], [373], [375], [376], [377], [378], [380], [381], [383], [384], [385], [386], [387], [388], [389], [390], [392], [393], [394], [395], [396], [397], [398], [399], [404], [405], [406], [407], [408], [409], [410], [411], [412], [413], [414], [415], [416], [417], [418], [419], [420], [422], [423], [424], [425], [426], [427], [428], [429], [430], [431], [432], [433], [434], [435], [436], [438], [439], [440], [442], [443], [444], [445], [446], [447], [449], [450], [451], [452], [454], [455], [456], [458], [459], [460], [461], [462], [463], [464], [465], [468], [469], [470], [471], [472], [473], [474], [475], [476], [477], [478], [479], [480], [481], [482], [483], [484], [485], [486], [489], [490], [491], [492], [494], [495], [497], [498], [499], [500], [503], [504], [506], [508], [509], [511], [512], [513], [517], [518], [519], [520], [522], [523], [524], [525], [526], [528], [529], [530], [531], [532], [533], [534], [535], [536], [537], [538], [539], [541], [542], [545], [546], [547], [548], [549], [550], [551], [552], [553], [554], [555], [556], [557], [558], [559], [560], [561], [563], [564], [565], [566], [567], [569], [570], [573], [574], [575], [576], [578], [580], [581], [582], [584], [585], [587], [588], [589], [590], [592], [593], [597], [600], [601], [602], [604], [605], [610], [613], [615], [617], [618], [621], [622], [624], [625], [626], [627], [628], [629], [630], [631], [633], [634], [635], [636], [637], [640], [642], [643], [644], [645], [647], [648], [650], [651], [653], [654], [655], [656], [657], [658], [659], [662], [663], [664], [665], [666], [667], [668], [670], [671], [672], [673], [674], [675], [676], [680], [682], [683], [684], [685], [687], [688], [689], [692], [693], [694], [695], [696], [697], [698], [699], [700], [701], [703], [704], [705], [706], [707], [708], [709], [710], [712], [713], [714], [715], [716], [719], [720], [722], [723], [724], [725], [726], [727], [728], [730], [731], [732], [734], [736], [737], [740], [741], [743], [744], [745], [749], [751], [754], [755], [756], [758], [759], [763], [764], [765], [766], [767], [770], [771], [772], [773], [774], [775], [776], [777], [778], [780], [781], [783], [784], [786], [789], [790], [792], [793], [794], [796], [797], [798], [801], [804], [807], [808], [809], [810], [812], [813], [814], [815], [816], [817], [818], [819], [820], [821], [822], [823], [824], [825], [826], [827], [828], [829], [830], [831], [832], [833], [834], [835], [836], [837], [838], [839], [840], [841], [842], [843], [844], [846], [847], [848], [849], [850], [851], [852], [854], [855], [856], [857], [858], [859], [862], [863], [864], [865], [866], [867], [868], [869], [870], [871], [872], [873], [874], [876], [877], [878], [879], [880], [881], [882], [883], [884], [885], [886], [887], [889], [890], [891], [892], [893], [894], [897], [898], [899], [900], [901], [904], [908], [909], [910], [911], [913], [914], [916], [917], [918], [919], [920], [921], [924], [925], [926], [927], [928], [929], [930], [931], [932], [933], [934], [935], [936], [937], [938], [939], [940], [942], [944], [945], [946], [947], [948], [950], [952], [953], [955], [956], [957], [963], [964], [965], [966], [967], [968], [969], [970], [971], [972], [973], [974], [976], [977], [978], [979], [980], [982], [983], [984], [986], [987], [988], [989], [990], [992], [993], [994], [996], [997], [999], [1000], [1001], [1002], [1003], [1005], [1006], [1007], [1008], [1010], [1011], [1012], [1013], [1015], [1016], [1017], [1018], [1019], [1020], [1021], [1023], [1024], [1025], [1026], [1027], [1029], [1030], [1032], [1033], [1034], [1035], [1036], [1037], [1038], [1039], [1041], [1042], [1043], [1045], [1046], [1047], [1048], [1049], [1050], [1051], [1052], [1053], [1054], [1055], [1056], [1057], [1058], [1059], [1060], [1062], [1066], [1067], [1069], [1070], [1071], [1072], [1073], [1074], [1075], [1076], [1078], [1079], [1080], [1082], [1084], [1087], [1088], [1089], [1090], [1091], [1092], [1093], [1094], [1095], [1096], [1097], [1098], [1099], [1100], [1101], [1102], [1103], [1104], [1105], [1108], [1110], [1111], [1112], [1113], [1114], [1115], [1116], [1117], [1119], [1120], [1121], [1122], [1123], [1124], [1125], [1126], [1127], [1129], [1130], [1131], [1132], [1133], [1134], [1135], [1136], [1138], [1139], [1141], [1142], [1143], [1144], [1145], [1146], [1147], [1148], [1149], [1150], [1153], [1154], [1155], [1156], [1157], [1158], [1159], [1160], [1161], [1162], [1163], [1164], [1165], [1166], [1167], [1168], [1169], [1170], [1171], [1173], [1175], [1177], [1178], [1179], [1180], [1181], [1182], [1183], [1185], [1186], [1187], [1189], [1190], [1191], [1192], [1193], [1194], [1195], [1196], [1197], [1198], [1199], [1200], [1201], [1202], [1203], [1204], [1205], [1206], [1207], [1208], [1209], [1211], [1212], [1213], [1214], [1215], [1216], [1217], [1218], [1219], [1220], [1221], [1222], [1223], [1224], [1225], [1226], [1228], [1229], [1230], [1231], [1232], [1233], [1234], [1235], [1236], [1238], [1239], [1240], [1241], [1242], [1243], [1244], [1247], [1249], [1250], [1251], [1252], [1253], [1254], [1255], [1256], [1257], [1258], [1259], [1260], [1261], [1262], [1263], [1264], [1265], [1266], [1267], [1268], [1269], [1270], [1271], [1272], [1273], [1275], [1278], [1279], [1280], [1281], [1282], [1286], [1287], [1288], [1289], [1290], [1291], [1292], [1293], [1294], [1299], [1300], [1301], [1302], [1303], [1304], [1308], [1311], [1314], [1315], [1317], [1319], [1322], [1328], [1329], [1331], [1333], [1334], [1336], [1341], [1342], [1343], [1347], [1349], [1353], [1354], [1356], [1363], [1364], [1365], [1366], [1368], [1369], [1370], [1371], [1372], [1373], [1374], [1376], [1377], [1378], [1379], [1380], [1381], [1382], [1383], [1385], [1388], [1392], [1393], [1394], [1395], [1397], [1400], [1404], [1405], [1406], [1407], [1408], [1409], [1410], [1411], [1412], [1413], [1414], [1415], [1416], [1417], [1418], [1419], [1420], [1421], [1422], [1423], [1424], [1425], [1426], [1427], [1428], [1429], [1430], [1431], [1432], [1433], [1434], [1435], [1436], [1437], [1438], [1439], [1440], [1441], [1442], [1443], [1444], [1445], [1446], [1447], [1448], [1449], [1450], [1451], [1452], [1453], [1454], [1455], [1456], [1457], [1458], [1459], [1460], [1461], [1462], [1463], [1464], [1465], [1466], [1467], [1468], [1469], [1470], [1471], [1472], [1473], [1474], [1475], [1476], [1477], [1478], [1479], [1480], [1481], [1482], [1483], [1484], [1485], [1486], [1487], [1488], [1489], [1490], [1491], [1492], [1493]], \"hovertemplate\": \"0=%{x}<br>1=%{y}<br>2=%{z}<br>Feature=%{customdata[0]}<br>Label=%{marker.color}<extra></extra>\", \"legendgroup\": \"\", \"marker\": {\"color\": [1, 0, 0, 0, 0, 1, 0, 0, 0, 0, 0, 1, 0, 0, 0, 1, 0, 1, 0, 1, 0, 0, 0, 1, 0, 0, 0, 0, 0, 0, 0, 0, 0, 0, 0, 0, 0, 0, 0, 0, 0, 0, 0, 0, 0, 0, 1, 0, 0, 0, 0, 1, 0, 0, 0, 0, 0, 0, 0, 0, 0, 1, 0, 0, 0, 0, 0, 0, 0, 1, 0, 0, 0, 0, 0, 0, 0, 0, 1, 0, 0, 0, 0, 0, 0, 0, 0, 0, 0, 0, 0, 0, 0, 1, 0, 1, 0, 0, 0, 0, 0, 1, 0, 0, 0, 0, 0, 0, 0, 1, 0, 0, 0, 0, 1, 1, 0, 0, 0, 0, 0, 0, 0, 0, 0, 0, 0, 0, 0, 1, 0, 0, 0, 0, 0, 0, 0, 1, 0, 0, 0, 0, 0, 1, 0, 1, 0, 0, 0, 0, 0, 0, 1, 0, 1, 0, 0, 0, 1, 0, 0, 0, 1, 0, 0, 0, 0, 0, 0, 0, 0, 0, 0, 0, 0, 0, 0, 0, 0, 0, 0, 0, 0, 0, 0, 0, 0, 0, 0, 0, 0, 0, 0, 0, 0, 0, 0, 0, 0, 0, 0, 0, 1, 0, 0, 0, 0, 0, 0, 0, 0, 0, 0, 0, 0, 0, 0, 0, 0, 0, 0, 0, 0, 0, 0, 0, 0, 0, 0, 0, 0, 0, 0, 0, 0, 1, 0, 0, 0, 0, 0, 0, 0, 0, 0, 0, 0, 0, 0, 0, 0, 0, 0, 0, 0, 0, 0, 0, 0, 0, 0, 0, 0, 0, 0, 0, 0, 0, 0, 0, 0, 0, 0, 0, 0, 0, 0, 1, 1, 0, 0, 0, 0, 0, 0, 0, 0, 0, 0, 0, 0, 0, 1, 0, 0, 0, 0, 0, 0, 0, 1, 0, 0, 0, 0, 0, 0, 0, 0, 0, 0, 0, 0, 0, 0, 0, 0, 0, 0, 0, 0, 0, 0, 1, 0, 0, 0, 0, 1, 0, 0, 0, 0, 0, 0, 0, 0, 0, 0, 0, 0, 0, 0, 0, 0, 0, 0, 0, 1, 0, 0, 0, 0, 0, 0, 0, 0, 0, 0, 0, 0, 0, 0, 0, 0, 0, 0, 0, 0, 0, 0, 0, 0, 0, 0, 0, 0, 0, 0, 0, 0, 0, 0, 0, 0, 0, 1, 0, 0, 0, 0, 0, 0, 0, 0, 0, 0, 0, 0, 0, 0, 0, 0, 0, 0, 0, 1, 1, 0, 0, 0, 0, 1, 0, 0, 0, 0, 0, 0, 0, 0, 1, 0, 0, 0, 0, 0, 0, 0, 0, 0, 0, 0, 0, 0, 0, 0, 1, 0, 0, 0, 0, 0, 0, 1, 0, 0, 0, 0, 0, 1, 0, 0, 0, 0, 0, 0, 0, 0, 0, 0, 0, 0, 0, 0, 0, 0, 0, 0, 0, 0, 0, 0, 0, 0, 0, 0, 0, 0, 0, 0, 0, 0, 0, 0, 1, 0, 0, 0, 0, 0, 0, 0, 0, 0, 0, 0, 0, 0, 0, 0, 0, 0, 0, 0, 0, 0, 0, 0, 0, 0, 0, 0, 0, 0, 0, 1, 0, 0, 0, 0, 0, 0, 0, 0, 0, 0, 0, 0, 0, 0, 0, 0, 1, 1, 0, 0, 1, 0, 1, 1, 0, 0, 0, 0, 0, 0, 0, 0, 0, 0, 0, 0, 0, 0, 0, 0, 0, 0, 0, 0, 0, 0, 0, 1, 0, 0, 0, 0, 0, 0, 0, 0, 0, 0, 0, 0, 0, 0, 0, 0, 0, 0, 1, 0, 0, 1, 0, 0, 0, 0, 0, 0, 0, 0, 0, 0, 0, 0, 0, 0, 0, 0, 0, 0, 0, 0, 0, 0, 0, 0, 1, 0, 0, 0, 0, 0, 0, 0, 0, 0, 0, 0, 0, 0, 0, 0, 0, 0, 0, 0, 0, 0, 0, 0, 0, 0, 0, 0, 0, 0, 0, 0, 0, 0, 0, 1, 0, 0, 0, 1, 0, 0, 0, 0, 0, 0, 0, 0, 0, 0, 0, 0, 0, 0, 0, 0, 0, 0, 0, 0, 0, 0, 0, 0, 0, 0, 0, 0, 0, 0, 0, 0, 0, 0, 0, 0, 0, 0, 0, 0, 0, 0, 0, 0, 0, 0, 0, 0, 0, 0, 0, 0, 0, 0, 0, 0, 0, 0, 0, 0, 0, 0, 0, 0, 0, 0, 0, 0, 0, 0, 0, 0, 0, 0, 0, 0, 0, 0, 0, 0, 0, 1, 0, 0, 0, 0, 0, 0, 0, 0, 0, 0, 0, 0, 0, 0, 0, 0, 0, 0, 0, 0, 0, 0, 0, 0, 0, 0, 0, 0, 0, 0, 0, 0, 0, 0, 0, 0, 0, 0, 0, 0, 0, 0, 0, 0, 0, 0, 0, 0, 0, 0, 0, 0, 0, 0, 0, 0, 0, 0, 0, 0, 0, 0, 0, 0, 0, 0, 0, 0, 0, 0, 0, 0, 0, 0, 0, 0, 0, 0, 0, 0, 0, 0, 0, 0, 0, 0, 0, 0, 0, 0, 0, 0, 0, 0, 1, 0, 0, 0, 0, 0, 0, 0, 0, 0, 0, 0, 0, 0, 0, 0, 0, 0, 0, 0, 0, 0, 0, 0, 0, 0, 0, 0, 0, 0, 0, 0, 0, 0, 0, 0, 0, 0, 0, 0, 0, 0, 0, 0, 0, 0, 0, 0, 0, 0, 0, 0, 0, 0, 0, 0, 0, 0, 0, 0, 0, 0, 0, 0, 0, 0, 0, 0, 0, 0, 0, 0, 0, 0, 0, 0, 0, 0, 0, 0, 0, 0, 0, 0, 0, 0, 0, 0, 0, 0, 0, 0, 0, 0, 0, 0, 0, 0, 0, 0, 0, 0, 0, 0, 0, 0, 0, 0, 0, 0, 0, 0, 0, 0, 0, 0, 0, 0, 0, 0, 0, 0, 0, 0, 0, 0, 0, 0, 0, 0, 0, 0, 0, 0, 0, 0, 0, 0, 0, 0, 0, 0, 0, 0, 0, 0, 0, 0, 0, 0, 0, 0, 0, 0, 0, 0, 0, 0, 0, 0, 0, 0, 0, 0, 0, 0, 0, 0, 0, 0, 0, 0, 0, 0, 0, 0, 0, 0, 0, 0, 0, 0, 0, 0, 0, 0, 0, 0, 0, 0, 0, 0, 0, 0, 0, 0, 0, 0, 0, 0, 0, 0, 0, 0, 0, 0, 0, 0, 0, 0, 0, 0, 0, 0, 0, 0, 0, 0, 0, 0, 0, 0, 0, 0, 0, 0, 0, 0, 0, 0, 0, 1, 0, 0, 0, 0, 0, 0, 0, 0, 0, 0, 0, 0, 0, 0, 0, 0, 0, 0, 0, 0, 0, 0, 0, 0, 0, 0, 0, 0, 0, 0, 0, 0, 0, 0, 0, 0, 0, 0, 0, 0, 0, 0, 0, 0, 0, 0, 0, 0, 0, 0, 0, 0, 0, 0, 0, 0, 0, 0, 0, 0, 0, 0, 0, 0, 0, 0, 0, 0, 0, 0, 0, 0, 0, 0, 0, 0, 0, 0, 0, 0, 0, 0, 0, 0, 0, 0, 0, 0, 0, 0, 0, 0, 0, 0, 0, 0, 0, 0, 0, 0, 0, 0, 0, 0, 0, 0, 0, 0, 0, 0, 0, 0, 0, 0, 0], \"coloraxis\": \"coloraxis\", \"opacity\": 0.7, \"symbol\": \"circle\"}, \"mode\": \"markers\", \"name\": \"\", \"scene\": \"scene\", \"showlegend\": false, \"type\": \"scatter3d\", \"x\": [21.69889259338379, 20.72995376586914, 19.83941078186035, 20.40146255493164, 19.831369400024414, 19.658071517944336, 20.9326229095459, 18.251449584960938, 15.78896427154541, 16.25640869140625, -10.102438926696777, 17.333473205566406, -8.626041412353516, 17.479806900024414, -9.406725883483887, 13.034743309020996, 16.827075958251953, 18.812002182006836, -9.38669490814209, 18.81144905090332, 16.246437072753906, -8.33240032196045, 16.099599838256836, 18.31251335144043, -9.963672637939453, 12.625102043151855, 17.643814086914062, -11.494255065917969, -9.381745338439941, -12.798579216003418, -11.249436378479004, -11.915071487426758, -9.56569766998291, 10.568819999694824, -15.169923782348633, -13.904151916503906, 15.870339393615723, 13.167723655700684, -12.320716857910156, 14.384719848632812, 16.535709381103516, -7.063872337341309, 15.798069953918457, -8.19296932220459, -6.156899929046631, 5.5754804611206055, 17.320724487304688, -17.39167594909668, 15.698925018310547, 15.081006050109863, -14.267051696777344, -2.43849778175354, -12.96618366241455, -8.436616897583008, 9.662622451782227, 9.245131492614746, -14.26388931274414, -14.10495376586914, -11.604090690612793, -7.18865442276001, -7.090270042419434, -9.878791809082031, -9.585803985595703, -10.957113265991211, 16.679698944091797, -4.466261386871338, -6.544936180114746, -9.027544021606445, -10.236164093017578, 9.9854154586792, 16.145526885986328, -7.761159420013428, -14.24864387512207, -13.122905731201172, -9.253053665161133, -16.068923950195312, -11.602323532104492, -13.470602035522461, 11.11674976348877, 1.3927934169769287, -10.208198547363281, -8.51591682434082, 11.87828540802002, -9.715537071228027, 17.726802825927734, 16.588577270507812, -10.936326026916504, -10.028599739074707, 11.349186897277832, -8.1749267578125, -11.683929443359375, -8.615498542785645, -3.8240270614624023, 11.183390617370605, -6.606835842132568, -10.680438995361328, -6.046743869781494, -15.013642311096191, -7.273642063140869, -11.346198081970215, 0.9286375045776367, -5.047058582305908, -7.228857517242432, -15.333664894104004, -11.100135803222656, -12.688324928283691, -7.271768569946289, -10.272429466247559, 15.434508323669434, 10.752609252929688, -10.948382377624512, -11.15383243560791, -10.434673309326172, -8.545221328735352, -4.144495487213135, 12.776959419250488, -10.173583984375, -12.475442886352539, -2.577218770980835, 7.112576961517334, -12.03945255279541, -9.705788612365723, -0.8743553757667542, -12.29910659790039, -9.972789764404297, -16.335311889648438, -5.858866214752197, -8.533198356628418, -7.994296550750732, -12.540972709655762, -5.108410358428955, -10.808971405029297, 9.872955322265625, -7.160678386688232, -5.908174514770508, 14.544028282165527, -7.839407444000244, 15.465120315551758, 13.806843757629395, -10.76623249053955, -5.29957914352417, -17.60797691345215, -10.07043170928955, 11.000389099121094, -5.444150447845459, -2.1175777912139893, -7.181153297424316, -13.538870811462402, -9.949856758117676, -5.893852233886719, 8.666487693786621, 14.008743286132812, 16.478511810302734, -6.3767781257629395, 14.163466453552246, -7.256167411804199, -16.065357208251953, -7.795440196990967, 6.918458938598633, 9.702143669128418, 1.3650988340377808, -8.557937622070312, 9.913286209106445, -5.128165245056152, -6.90731143951416, -5.109028339385986, -6.778998851776123, -13.004685401916504, -7.298343658447266, -4.808266639709473, -8.390318870544434, -7.887200832366943, 4.916381359100342, -0.960014820098877, 11.641765594482422, -6.642292022705078, -9.38661003112793, 14.491066932678223, -13.434538841247559, -0.39683717489242554, 11.805102348327637, -5.453261852264404, -17.357553482055664, 15.337040901184082, -8.219507217407227, 3.264242649078369, 8.2067289352417, -6.711666584014893, -12.838356971740723, -15.436529159545898, -7.003288269042969, 7.4020466804504395, 8.494976043701172, 5.463028907775879, -4.233874797821045, -5.047945022583008, -13.378812789916992, -10.954336166381836, -10.750397682189941, -10.048115730285645, -8.612762451171875, 2.3933422565460205, 0.8721781373023987, -6.0128397941589355, 14.284645080566406, -11.076406478881836, -10.387248992919922, -12.814925193786621, -8.517715454101562, -12.859586715698242, 14.944734573364258, -10.229294776916504, -5.537604331970215, -9.406110763549805, -11.034321784973145, -9.984050750732422, 13.056111335754395, 11.238663673400879, -6.620370864868164, 10.246211051940918, 16.82360076904297, 1.3730586767196655, 10.937956809997559, -7.738725662231445, -12.203978538513184, -4.201958656311035, 11.101690292358398, -14.785375595092773, 10.997441291809082, -11.125, -6.096505641937256, -5.688694477081299, 2.655792713165283, 3.910304307937622, -11.64007568359375, 4.441107273101807, -8.172663688659668, 11.915276527404785, -9.72781753540039, -0.4342409372329712, -6.40593957901001, -14.560444831848145, 4.826512813568115, -9.077658653259277, 6.337135314941406, -16.24872398376465, -12.941018104553223, -12.106497764587402, -14.334957122802734, -6.030909538269043, -3.293412446975708, -9.98673152923584, -12.177459716796875, -0.7941974401473999, -8.63642692565918, -1.851377010345459, -7.870675563812256, -16.89169692993164, 5.883371353149414, -11.42758560180664, -4.058437347412109, 14.680720329284668, -10.103170394897461, -15.86355972290039, -12.835737228393555, -2.881636142730713, -3.4981536865234375, -11.598058700561523, -10.034710884094238, 12.926462173461914, -12.66209888458252, 7.904582500457764, -5.658149242401123, -11.941224098205566, 11.6216459274292, 8.572526931762695, -10.237119674682617, 5.907453536987305, 4.892153739929199, -5.194125652313232, -10.38040828704834, 10.850183486938477, 10.093230247497559, -12.001262664794922, -3.4405570030212402, 1.7544198036193848, -15.597437858581543, -6.156422138214111, -6.982473850250244, -4.127748966217041, -12.096969604492188, -8.59076976776123, 0.37765103578567505, 15.538525581359863, -11.742237091064453, -0.4648953080177307, -2.7229928970336914, 12.96940803527832, 0.9907733798027039, -9.78402328491211, 17.030542373657227, 15.608948707580566, 8.056624412536621, -4.938616752624512, -11.501239776611328, -13.721317291259766, 14.83348274230957, -2.18290638923645, -12.015568733215332, 12.981472969055176, -0.5948147773742676, 1.5887852907180786, 10.738442420959473, -3.344329595565796, -8.064083099365234, 1.6261447668075562, -4.9929280281066895, 14.043318748474121, -7.561750888824463, 12.488497734069824, -8.706084251403809, -11.069550514221191, -10.390929222106934, 1.2170921564102173, -9.96167278289795, -6.003103733062744, 11.041017532348633, -5.258961200714111, 11.838842391967773, -10.720331192016602, -9.028058052062988, -9.03532886505127, 1.9323973655700684, 10.250645637512207, -9.271156311035156, -10.958394050598145, -8.978231430053711, 11.099373817443848, 3.4865033626556396, 1.6450539827346802, 3.871811866760254, -8.822701454162598, 0.1773252785205841, -9.922798156738281, -8.868292808532715, -8.89296817779541, -9.829206466674805, -12.374839782714844, 10.217901229858398, -13.227795600891113, -10.598804473876953, -5.303898811340332, -7.645438194274902, 13.476073265075684, -8.85103988647461, -8.713310241699219, 2.5804331302642822, 2.969295024871826, -5.996865749359131, -3.8352298736572266, -10.921552658081055, -10.307592391967773, -4.232778549194336, -14.097766876220703, -9.168701171875, -6.414116382598877, 8.956140518188477, -10.261343002319336, -0.5512229800224304, 5.241287708282471, -9.42756462097168, -5.5899248123168945, 6.549713611602783, -7.7925920486450195, -11.481399536132812, 0.08956579864025116, 3.5540554523468018, -11.241291999816895, -6.4987874031066895, -2.9566586017608643, 3.418144702911377, 11.405207633972168, 5.647704124450684, 3.5095112323760986, -10.371325492858887, 8.498503684997559, 9.15653133392334, 7.253469467163086, -9.903111457824707, 9.643442153930664, 13.628501892089844, -11.088123321533203, -2.1206347942352295, -2.2536022663116455, 8.379966735839844, -5.683323383331299, -2.3704278469085693, 7.190360069274902, 3.725109815597534, 7.360850811004639, -10.982177734375, 1.1355966329574585, 5.812803745269775, 5.451767444610596, 0.046530455350875854, -3.6270647048950195, 7.2115254402160645, 6.460400104522705, -9.92860221862793, -1.242484211921692, -5.575271129608154, -2.200985908508301, 9.068366050720215, -11.00296401977539, -3.771000623703003, 0.8939836621284485, 10.956707000732422, 0.9296186566352844, -2.6080446243286133, -13.1563081741333, -6.6637654304504395, 1.7443653345108032, 8.164284706115723, -0.03629044443368912, -2.182675838470459, 6.285417079925537, 0.4912998378276825, 3.615255832672119, 0.48915189504623413, 0.16447889804840088, -1.803510308265686, 9.453083992004395, 16.0539493560791, -3.3518049716949463, 4.206355571746826, 13.755329132080078, -1.678892731666565, 6.184001922607422, 2.342583417892456, 7.3656816482543945, 5.682509422302246, 0.5914337635040283, -2.4616191387176514, 0.819686233997345, 17.275238037109375, 1.994825005531311, 11.061626434326172, 3.272292375564575, -1.5063612461090088, 8.35786247253418, 5.702648162841797, -1.224761724472046, -0.48554348945617676, 0.7416899800300598, -6.662623882293701, 7.536167621612549, -2.019935131072998, 10.31016731262207, 6.336092472076416, 8.065186500549316, 0.48626458644866943, 5.381927967071533, 9.339417457580566, -1.3927448987960815, 2.970752239227295, 6.424021244049072, 10.88591480255127, 9.343226432800293, -1.7099899053573608, 3.4553041458129883, 8.815006256103516, 6.467624187469482, 2.8325576782226562, 0.4005383551120758, 10.044002532958984, 6.708654880523682, 5.79807710647583, 8.872983932495117, -11.610869407653809, 0.7107188105583191, -10.49258041381836, -0.9859172701835632, 11.404563903808594, 0.5106832981109619, 8.740577697753906, 10.634053230285645, -3.298668146133423, 10.589414596557617, 10.321465492248535, 9.893499374389648, 5.045133113861084, 5.857391834259033, 4.465093612670898, 14.597801208496094, 13.941923141479492, 5.098258972167969, 10.46626091003418, 5.135341167449951, 6.0052809715271, 8.449776649475098, 6.109447002410889, 9.105666160583496, 6.352183818817139, 11.623818397521973, 9.845088005065918, 7.9074625968933105, 8.58822250366211, 0.25825491547584534, 6.508708477020264, 0.4277534782886505, 3.5184381008148193, 9.981518745422363, -5.426374435424805, 12.808606147766113, -3.030014753341675, -0.24605274200439453, 4.593308448791504, -7.3244757652282715, 2.089714288711548, 7.432854652404785, -2.4288041591644287, -0.10029331594705582, 3.373300790786743, 1.0308024883270264, -8.618027687072754, 7.429478645324707, 1.603536605834961, 2.858110189437866, 3.6865780353546143, 9.786734580993652, 9.048449516296387, 1.398672103881836, 5.251509666442871, 7.087986469268799, -5.834280490875244, -7.06972599029541, 5.381963729858398, 5.861014366149902, -12.50208568572998, 3.575294017791748, 3.4787991046905518, -1.754431962966919, -1.043750286102295, -1.1778836250305176, -1.8131376504898071, -1.7680176496505737, 8.597206115722656, -3.136624574661255, 0.4767364263534546, 3.571584463119507, -10.672616958618164, 3.352959156036377, 9.293283462524414, 5.979880332946777, 8.684733390808105, 7.187221050262451, 6.619492530822754, 2.155623435974121, 1.7213081121444702, 10.079134941101074, -0.3399840295314789, 7.0566277503967285, 7.872951507568359, 2.0599443912506104, 5.0065412521362305, 7.965061187744141, 7.416562080383301, 1.8440356254577637, 5.242952823638916, -2.212908983230591, 13.694172859191895, -2.1946043968200684, 1.0520107746124268, 2.407827854156494, 7.335435390472412, 1.6961238384246826, 11.320084571838379, 3.7586982250213623, 4.2663493156433105, -4.858607769012451, 6.406599521636963, 10.260013580322266, 6.282659530639648, -9.842375755310059, 14.851971626281738, 0.17597468197345734, 11.953028678894043, -1.661676287651062, 7.374919891357422, 6.729948043823242, -4.380553245544434, -1.0067063570022583, -1.1615893840789795, -2.0839524269104004, -6.526648998260498, -12.128055572509766, -7.679865837097168, -7.822345733642578, -2.1438193321228027, -4.8279547691345215, -2.9874441623687744, -11.535061836242676, -6.4923930168151855, -6.05933952331543, -5.308238983154297, 0.6042464375495911, 6.655664920806885, 6.401709079742432, 6.308783054351807, -2.064840316772461, -0.8163042068481445, -4.70359468460083, 3.389342784881592, -2.175821304321289, -0.7707203030586243, -4.480674743652344, -7.493228912353516, -4.614325046539307, -8.177814483642578, -2.4698293209075928, 5.753708839416504, 4.686839580535889, 4.428380489349365, -1.4552632570266724, 6.390228748321533, -0.6898566484451294, -6.3133931159973145, -8.67906379699707, -7.921337604522705, -8.698759078979492, -7.771420478820801, -5.85888671875, -10.736886024475098, -2.6603260040283203, -7.817128658294678, -9.135444641113281, -0.8469426035881042, -0.04563828930258751, 3.8392841815948486, 0.8073684573173523, 2.723862409591675, 1.6977925300598145, 7.549468517303467, 1.907033085823059, 4.753132343292236, 9.212970733642578, 0.1866498589515686, -6.414475440979004, -10.261000633239746, -5.3305182456970215, -9.593433380126953, -9.004536628723145, -3.996070146560669, -5.650741100311279, -1.4782675504684448, 6.3000617027282715, -7.962002754211426, 0.9323682188987732, -2.5743257999420166, -4.377233982086182, 10.64810562133789, -3.8340423107147217, -3.229752779006958, -1.8114498853683472, 2.8562259674072266, 0.3530808687210083, 1.1320302486419678, 3.667513370513916, -0.8106949925422668, 3.899735689163208, 4.358786106109619, 2.3124330043792725, 5.906106948852539, 6.630065441131592, 3.267514944076538, -8.24938678741455, -1.1941789388656616, -7.636875629425049, -5.197940349578857, 4.305899143218994, 12.48809814453125, -0.6956311464309692, -8.569255828857422, -13.428683280944824, -1.4070279598236084, 5.651886463165283, -1.70502507686615, -5.750728130340576, -4.073060989379883, -6.2015509605407715, 7.2496113777160645, 6.1116533279418945, 5.456696033477783, 0.08162599802017212, 5.755921840667725, 4.609889984130859, 1.576626181602478, -11.374283790588379, 8.463973045349121, -11.257569313049316, -4.20198917388916, 4.4606170654296875, -1.3322569131851196, 9.170610427856445, 7.444709777832031, 10.563653945922852, -2.9026758670806885, 10.498865127563477, -2.4612622261047363, -3.233039140701294, 3.5639808177948, -6.420999050140381, 5.806532382965088, 4.563902854919434, 5.544378757476807, -1.9291565418243408, 6.9155192375183105, 0.3283472955226898, 13.320608139038086, 6.53040885925293, -2.4695885181427, 6.196356296539307, 5.911825656890869, 1.9693009853363037, 5.562112331390381, 4.672213077545166, 7.101068019866943, 6.1357102394104, 10.922584533691406, 6.049562454223633, 0.9966599941253662, -4.627585411071777, -9.490303993225098, 7.413630485534668, 6.553180694580078, 2.331923723220825, 5.764884948730469, 0.01773722656071186, -1.3490612506866455, 1.9788936376571655, -0.32209697365760803, -1.6423569917678833, -1.5333662033081055, 6.844301223754883, -11.561299324035645, -0.40335866808891296, -4.534710884094238, -1.8035317659378052, -2.077556610107422, -7.7256879806518555, -10.663839340209961, -2.4813220500946045, 7.690185070037842, 12.91257381439209, 5.28655481338501, -4.433815002441406, -6.2835283279418945, -12.177708625793457, -1.0950583219528198, -7.2209858894348145, -10.964929580688477, -4.170625686645508, -5.670897006988525, -3.296503782272339, -4.128279685974121, -4.010994911193848, -3.557908296585083, -1.3113778829574585, 3.0740959644317627, 2.2212557792663574, 13.609505653381348, 1.1353191137313843, -2.231388568878174, -7.825294017791748, 2.325976610183716, -4.396083354949951, -8.646705627441406, -3.067689895629883, 2.1476831436157227, -0.7067004442214966, -12.401183128356934, -3.0758795738220215, -4.651677131652832, 2.665590286254883, -0.24246631562709808, -4.680722713470459, -10.61865234375, 6.886282444000244, 7.9572343826293945, -5.098526477813721, 4.4644951820373535, 2.293184518814087, 11.336149215698242, 6.653963088989258, -7.11870813369751, -3.794804573059082, 0.40114426612854004, 0.8844001889228821, -4.992537021636963, -3.0976524353027344, -0.9604992270469666, 4.118201732635498, 0.3115392029285431, -3.666334390640259, -3.5971076488494873, 1.2799274921417236, 13.591151237487793, 2.476635694503784, -2.799626588821411, -2.482386589050293, -0.4001297056674957, 1.2074023485183716, 8.304914474487305, -5.073451995849609, 4.034127235412598, -4.231791019439697, 2.238100290298462, 7.068774223327637, 0.9608389735221863, 3.901594638824463, 11.680787086486816, -4.974999904632568, -0.9845667481422424, 3.0567245483398438, 5.184139728546143, -0.0190893542021513, 0.19406871497631073, 3.1757726669311523, 1.794866919517517, 1.6991337537765503, 11.556977272033691, 7.833187580108643, -1.8803303241729736, -2.8434436321258545, -4.858562469482422, -2.540829658508301, 10.695417404174805, 8.614452362060547, -7.079159736633301, -7.373383045196533, 10.683531761169434, 7.602208137512207, 5.416626930236816, 2.461082696914673, -11.90464973449707, -0.29245468974113464, -6.308910369873047, -6.461062431335449, 2.5186519622802734, 3.525625228881836, 10.482091903686523, -4.282550811767578, -7.04079008102417, 1.5495489835739136, 1.633517861366272, 3.156952142715454, 2.1178202629089355, 6.2733073234558105, 8.99382209777832, -6.415791988372803, 5.398749828338623, 2.2001631259918213, 3.512673854827881, 4.768979549407959, 4.435231685638428, -9.806641578674316, 8.941927909851074, -0.3633832633495331, -11.336396217346191, 3.647153377532959, -3.205627918243408, 1.3805994987487793, 2.876371145248413, 0.49015218019485474, 2.9819438457489014, 1.9183119535446167, 7.51439905166626, 0.6538704037666321, 7.9505085945129395, 2.123307466506958, 7.547463893890381, 6.1603593826293945, -3.548309087753296, 4.2213850021362305, 8.442693710327148, 7.027313232421875, 7.049392223358154, 5.648143768310547, 7.480794429779053, 8.15860366821289, 1.2447973489761353, 8.796577453613281, -1.0469332933425903, 2.0738890171051025, 2.836803913116455, -13.051301956176758, 11.726550102233887, -11.633378982543945, 2.7057178020477295, 8.254711151123047, 7.60584020614624, 0.25261956453323364, 8.24517822265625, 6.841067790985107, 7.784584999084473, 8.709118843078613, -0.9655335545539856, -5.217476844787598, 1.7390122413635254, 2.856431245803833, -5.113633632659912, 1.912523865699768, 1.379206895828247, 2.680156946182251, 9.761138916015625, -0.674292802810669, 3.4507224559783936, 2.8976898193359375, 4.822598934173584, 5.0981621742248535, 0.06706902384757996, 0.6697421669960022, -15.80771255493164, -1.9067364931106567, 5.567820072174072, 13.069847106933594, 3.431765079498291, 5.78178071975708, 4.725921630859375, 7.284870624542236, 5.201400279998779, 7.619231224060059, 5.795994281768799, -1.6207376718521118, 5.724515438079834, 9.372802734375, 0.29910317063331604, -1.9022384881973267, 3.740556478500366, 2.1789729595184326, 6.262705326080322, 6.5545973777771, 3.922529697418213, 2.1277430057525635, 1.5322366952896118, 10.46194839477539, 8.685306549072266, 0.4504222869873047, 6.036149978637695, 4.219210624694824, 3.2890262603759766, 4.1917643547058105, 6.668510913848877, 5.263784885406494, -10.72976303100586, 5.981575965881348, 3.4708380699157715, -10.58082103729248, 5.095380783081055, 6.68379545211792, 4.377779006958008, 8.886815071105957, -1.2385318279266357, 16.631343841552734, -0.31428036093711853, -5.062859535217285, 11.278787612915039, -11.564006805419922, 11.292831420898438, 2.4182169437408447, 0.011653097346425056, -0.5669587254524231, 1.3933558464050293, 16.24721336364746, 8.417421340942383, 0.9906993508338928, 3.712716817855835, -3.4820406436920166, -5.25126838684082, -4.644381046295166, -5.77487850189209, -7.250426292419434, 12.086943626403809, 1.6719297170639038, 1.5913796424865723, 3.2964165210723877, 1.7438074350357056, 3.5100927352905273, 0.6659508347511292, 13.091882705688477, 13.946782112121582, 9.828569412231445, 11.789678573608398, 12.715094566345215, -0.3192630112171173, -1.0162078142166138, -0.4613339900970459, -11.809616088867188, 9.494579315185547, 13.0331449508667, 1.232038140296936, 3.147656202316284, 1.318304419517517, 1.4535149335861206, 0.0717567726969719, 1.5390547513961792, -1.7215065956115723, -2.236764430999756, 2.876396417617798, 2.8730099201202393, -7.278172016143799, 0.3033681809902191, 0.8928326964378357, -3.091186285018921, 0.2832243740558624, -1.3597996234893799, 11.770029067993164, 10.847367286682129, 7.726406574249268, 2.182572841644287, 5.606754779815674, 3.9672441482543945, 2.208280086517334, 0.026313073933124542, 3.2735180854797363, 3.025721311569214, -1.0361011028289795, 3.1178925037384033, 8.929452896118164, 3.437572956085205, -2.9166007041931152, 12.424631118774414, -1.0866105556488037, -6.606029987335205, -5.690768718719482, -7.053142070770264, 2.3651652336120605, 10.958892822265625, -7.635120391845703, 9.330268859863281, 9.739782333374023, 1.7447004318237305, 7.40034818649292, 8.118690490722656, 8.552969932556152, -5.32775354385376, -9.494375228881836, -9.13558578491211, 13.065613746643066, -4.013469219207764, 5.661099433898926, 9.340591430664062, -5.876471042633057, 6.543094635009766, 6.366848945617676, -10.230412483215332, -3.0884833335876465, -9.671748161315918, 9.693102836608887, -4.322944641113281, -3.1886606216430664, -1.0382776260375977, -0.04077047109603882, 0.926114022731781, -1.3770636320114136, 1.1241759061813354, 0.18695472180843353, -2.947929859161377, -10.545408248901367, -10.205723762512207, 1.7118903398513794, -3.1014516353607178, -2.046053647994995, -2.5452165603637695, 15.386034965515137, -3.771942377090454, 7.752773284912109, 17.176319122314453, -0.5212351679801941, 5.680483341217041, 5.911556720733643, -5.804995536804199, 4.189235687255859, 4.666032791137695, -4.016898155212402, -0.8205065727233887, -1.1815279722213745, -4.991976737976074, -7.006126403808594, -4.091575622558594, -4.189082622528076, -4.126460075378418, -2.5909175872802734, -5.328213691711426, -5.904388904571533, -3.441070079803467, -5.780939102172852, -2.3187737464904785, -5.076568126678467, -2.086413860321045, -6.202632904052734, -5.738838195800781, -2.7305896282196045, -7.168811321258545, -6.887663841247559, -4.496551513671875, -0.7071726322174072, -0.7453123331069946, -2.4598822593688965, -6.067427158355713, -3.29508900642395, -4.20723819732666, -2.5893537998199463, -1.6224064826965332, -2.811267375946045, -3.619171142578125, -4.687446594238281, -2.0725269317626953, 2.1263084411621094, -1.9515379667282104, 1.6340521574020386, -0.0975780040025711, -1.7367652654647827, -5.1507039070129395, -4.177114009857178, -0.8280202746391296, -0.972527027130127, -0.8553457856178284, -4.235872745513916, -2.1705501079559326, 0.30152273178100586, 1.3908770084381104, -2.0486364364624023, -2.774470329284668, -2.5983312129974365, 1.799815058708191, -1.0143018960952759, -5.402297496795654, -4.156021595001221, -4.646698951721191, -2.1640377044677734, -2.1274032592773438, -0.5614479780197144, 1.7743200063705444, -6.51161527633667, -3.7220609188079834, -0.2737007141113281, -5.977010250091553, -5.957850933074951, -4.347179889678955, 0.8494238257408142, -2.822112798690796, -2.563668727874756, -2.5204904079437256, -4.160307884216309, 0.25013113021850586, -4.530951023101807, -0.5566151142120361, -4.253951549530029, 2.266964912414551, -0.18807291984558105, -1.183741807937622, -5.014834880828857, -4.161793231964111, -2.644752025604248, -1.2809715270996094, 3.250336170196533, -3.792065143585205, 1.2684688568115234, -1.2340153455734253, -2.657510757446289, -2.985427141189575, -5.190049648284912, -4.7319440841674805], \"y\": [1.2479585409164429, 1.2353330850601196, 0.17809003591537476, -0.45507487654685974, -0.8367019295692444, 1.047636866569519, -1.3896690607070923, -2.5372073650360107, 1.4642109870910645, -0.16846780478954315, -0.985718309879303, 3.6801116466522217, -1.3541945219039917, 0.9345006346702576, 0.17068766057491302, 0.5575793981552124, -0.29775470495224, 2.1515564918518066, 1.1417181491851807, -2.5762667655944824, 2.7863426208496094, 15.717470169067383, 1.446065068244934, 9.41297721862793, -7.504417896270752, -3.4794938564300537, 6.225223541259766, -8.972761154174805, 15.451611518859863, 16.065597534179688, 19.394550323486328, 16.322813034057617, 16.10305404663086, -1.4432227611541748, -3.4042928218841553, 11.973847389221191, 3.8935446739196777, 2.0122411251068115, 17.420747756958008, 0.6980291604995728, 2.9302332401275635, 4.139892578125, 3.926112174987793, 15.868613243103027, 2.3147528171539307, 5.286874294281006, 2.812126636505127, -8.36838150024414, 1.437098503112793, -0.929413378238678, 15.054840087890625, -6.5743608474731445, 4.2475175857543945, 8.905288696289062, -4.230672836303711, -2.4976418018341064, -2.200432062149048, -2.597935199737549, 15.83642578125, 16.954833984375, 8.60330581665039, -6.868241786956787, -6.503677845001221, -6.107977867126465, 6.06754732131958, -0.6361690759658813, -6.498682022094727, 3.371126890182495, -5.6723833084106445, -1.6191693544387817, 4.790365219116211, -3.083641290664673, -8.66368293762207, -4.290879726409912, 8.314308166503906, 1.782538890838623, -6.74131441116333, -1.9181239604949951, 2.8093602657318115, 19.418190002441406, 17.939027786254883, 8.874292373657227, -8.785211563110352, 14.337472915649414, 8.144543647766113, -0.942164421081543, 9.32149600982666, 7.607436656951904, -5.588661193847656, -3.1771974563598633, -5.231032371520996, -9.1707181930542, -2.9858531951904297, 8.089356422424316, 6.670197010040283, -7.574095726013184, -8.736233711242676, -8.064196586608887, -0.24382483959197998, 13.6326322555542, 20.041961669921875, 21.17349624633789, -7.864229679107666, -9.104957580566406, 9.330948829650879, -5.889135837554932, 1.4922778606414795, -5.873473167419434, 0.8790367245674133, 3.531085252761841, -8.913314819335938, -8.721442222595215, -8.103599548339844, 13.411222457885742, -0.06159939244389534, 11.050996780395508, 1.025620460510254, -7.797814846038818, -6.810046195983887, -3.296567916870117, -2.006466865539551, 1.5908719301223755, -8.47213077545166, 12.008091926574707, -5.437860012054443, 0.522674024105072, 0.07796179503202438, -8.959728240966797, -0.6303907036781311, -5.597482681274414, -2.5667295455932617, 11.626251220703125, -5.138477802276611, -5.03891658782959, -1.1110661029815674, 11.114911079406738, 5.2568583488464355, -10.893304824829102, -12.517712593078613, 10.2520170211792, 5.469329833984375, -6.480412483215332, 1.1693490743637085, 5.273609638214111, -5.601614952087402, 9.182889938354492, 13.691924095153809, -0.3456645905971527, 10.458686828613281, 10.418069839477539, -2.8383538722991943, 7.894522190093994, 11.579440116882324, 9.13288688659668, -11.752337455749512, 8.813675880432129, -9.239359855651855, -3.9181931018829346, -19.363922119140625, 16.68534278869629, 8.067920684814453, -2.7498843669891357, -16.378047943115234, 18.746063232421875, -7.610553741455078, -3.5256450176239014, 5.704222679138184, 18.32957649230957, 5.853315353393555, -5.283594131469727, -0.8939236402511597, 1.5726088285446167, -9.16329288482666, 9.30097484588623, 9.965042114257812, 10.057076454162598, -2.900874376296997, 4.243448257446289, -4.348121643066406, -5.084081649780273, -7.357484817504883, -5.5544633865356445, -6.436595439910889, 3.977644205093384, 14.692728996276855, -6.804198265075684, 9.873998641967773, -8.150673866271973, -2.6329267024993896, -8.114005088806152, 1.473639965057373, -9.583426475524902, -3.1832425594329834, 1.8972078561782837, -8.361526489257812, -11.777225494384766, -4.21059513092041, -7.109094619750977, -6.037537574768066, -6.603971481323242, 6.805356979370117, 6.5386786460876465, 18.83453941345215, 11.866815567016602, 8.509211540222168, 18.945470809936523, 16.562097549438477, 18.356393814086914, -9.061835289001465, 19.427947998046875, 0.8390806913375854, 8.437443733215332, 15.755663871765137, 17.144166946411133, 19.741567611694336, 17.614192962646484, 11.078140258789062, 2.8102211952209473, -8.546161651611328, 17.949743270874023, -5.124217987060547, 21.157630920410156, 14.964930534362793, -8.973430633544922, -9.989374160766602, -4.403146743774414, 5.0320820808410645, -4.568295478820801, -11.430008888244629, 18.48431968688965, 13.747953414916992, 15.019286155700684, -6.218418121337891, -17.15331268310547, 4.5848612785339355, -12.186058044433594, 9.892358779907227, -3.3200011253356934, 3.7298805713653564, -9.133761405944824, 13.736262321472168, -4.554384231567383, -20.52789878845215, -1.1321710348129272, -9.087888717651367, -7.283779621124268, -7.6550374031066895, -5.02280855178833, -3.596057653427124, -8.320679664611816, -4.529985427856445, -10.428459167480469, 9.661758422851562, -4.71267032623291, -9.71155071258545, -8.66710090637207, 16.90785026550293, -5.7942118644714355, -9.446270942687988, 10.833263397216797, 18.77882957458496, -10.739767074584961, 6.0023603439331055, 0.6724352836608887, -2.3645942211151123, -4.540441989898682, -9.892891883850098, 15.412552833557129, 14.425226211547852, 6.19085693359375, 4.903566360473633, -0.4441767930984497, -4.899485111236572, 5.138841152191162, -4.9155659675598145, -1.0653685331344604, -0.05728999152779579, -18.712841033935547, -18.08926773071289, -3.268902063369751, 21.13421058654785, -2.5991971492767334, -5.96197509765625, 9.268362045288086, -4.453442096710205, -8.017443656921387, -10.758360862731934, -3.870574712753296, -8.761137962341309, -8.41707706451416, 3.1140973567962646, -9.482178688049316, 22.662092208862305, 12.290753364562988, 7.948246955871582, 10.554586410522461, -6.337258815765381, 5.022158145904541, 21.85894775390625, 11.050711631774902, 8.487814903259277, 14.080031394958496, -2.110337972640991, 7.928170680999756, 9.34689998626709, -4.556812286376953, 10.453654289245605, 9.841605186462402, 16.47614288330078, 9.609116554260254, 16.33414077758789, 23.777250289916992, -12.130191802978516, 1.121483564376831, 8.771188735961914, 9.817170143127441, -1.6557179689407349, 10.617033004760742, 7.685827732086182, 12.272221565246582, 6.077479839324951, 1.5013089179992676, 6.464748382568359, -10.78220272064209, -11.954474449157715, 11.081656455993652, -3.020372152328491, -2.0689828395843506, 11.87749195098877, 18.35486602783203, 18.8228759765625, 17.221506118774414, -6.137163162231445, -0.388674259185791, -0.6717191934585571, 11.076481819152832, 13.902511596679688, 11.828311920166016, 16.08420753479004, -5.7691192626953125, 17.372344970703125, 15.212946891784668, -7.083120346069336, 16.25420570373535, 13.742779731750488, 13.449365615844727, 13.513566017150879, 12.358447074890137, 5.817669868469238, -0.6738507747650146, -2.5003867149353027, 7.271260738372803, 17.180870056152344, 2.5725350379943848, 12.238378524780273, 12.011394500732422, 0.959320068359375, 15.711759567260742, -9.61485481262207, -9.184002876281738, 7.811652660369873, 7.260067462921143, -16.15222930908203, -6.664556503295898, 5.3479485511779785, -7.229188919067383, -7.01159143447876, 1.1635326147079468, -1.2414953708648682, 1.9441754817962646, -6.025330066680908, -9.119832038879395, -0.5704360008239746, 11.867544174194336, 12.7327299118042, 12.234375, 1.6958144903182983, -6.4457106590271, -16.81296157836914, -10.48535442352295, -16.869237899780273, -3.4381344318389893, -11.44145393371582, -9.462742805480957, -7.06040620803833, 13.37012004852295, 0.7065412402153015, -15.508078575134277, -12.981385231018066, -0.4030812978744507, 8.320977210998535, 6.31525993347168, 0.0025520548224449158, -6.206676006317139, -1.080318570137024, 4.262226104736328, 0.3172866702079773, -3.108798027038574, -18.988208770751953, 10.194083213806152, 7.331264019012451, 12.479137420654297, -2.4775454998016357, -13.616124153137207, -5.797367572784424, -9.105292320251465, -14.83221435546875, -15.646617889404297, -7.052821159362793, 1.9320241212844849, 5.661365985870361, 17.857051849365234, -15.94057846069336, -12.329097747802734, 0.9296356439590454, -9.75153923034668, -3.77343487739563, -7.471877574920654, 0.26741448044776917, -15.754302024841309, -11.52220344543457, -14.023274421691895, -7.581946849822998, 15.365303039550781, 3.767728328704834, 6.536351680755615, -10.307775497436523, -19.598243713378906, -2.877077579498291, -7.928971767425537, -0.5118565559387207, 2.633819818496704, 9.571812629699707, -5.625970840454102, 17.233150482177734, 14.908913612365723, 5.581021785736084, -9.752504348754883, -11.896140098571777, -3.715400457382202, 1.9282363653182983, 1.6048753261566162, 7.796484470367432, 2.6346664428710938, 4.714793682098389, 1.0190619230270386, -5.320591449737549, 8.719366073608398, -3.10372257232666, -3.332578182220459, 11.086238861083984, 1.3824588060379028, 1.600977897644043, 13.20023250579834, 18.592220306396484, 5.845287322998047, -1.749864101409912, -11.542847633361816, 4.44828987121582, -4.735911846160889, -7.1411285400390625, -14.789793968200684, -2.5514638423919678, 0.7989346385002136, 4.175992012023926, 2.220088243484497, -6.512674331665039, 2.1290595531463623, 5.550436496734619, 5.8868489265441895, -4.343637466430664, -3.4850618839263916, 0.007114947307854891, -5.824718952178955, 11.412331581115723, 8.864519119262695, 12.44990348815918, -6.718905925750732, -8.296019554138184, -6.179920673370361, -10.163677215576172, -6.887530326843262, -9.815673828125, 9.203328132629395, 4.706264495849609, 4.255484580993652, 14.434098243713379, -0.2138824313879013, 3.356685161590576, 15.659284591674805, 5.596406936645508, -15.485185623168945, -11.31115436553955, 14.128365516662598, 13.117948532104492, -2.3055973052978516, 11.495330810546875, -8.503043174743652, -0.28088635206222534, 3.5730140209198, -2.1108691692352295, 4.3582587242126465, -0.5396609902381897, 2.479210376739502, -3.666926622390747, 0.7139223217964172, 3.4555764198303223, 10.749385833740234, -14.076028823852539, -3.99438738822937, -12.60433578491211, -4.524410724639893, 14.137935638427734, -0.39404532313346863, -10.306642532348633, 3.4285826683044434, -16.362751007080078, -12.467682838439941, -4.565485954284668, -3.540025234222412, 13.12829875946045, 12.125993728637695, 5.896984100341797, 9.662005424499512, -11.501801490783691, 4.652670860290527, 13.371158599853516, -3.0711755752563477, 0.0198367889970541, 11.855290412902832, 8.929375648498535, 0.20729975402355194, 0.671406626701355, -6.325728416442871, -10.121363639831543, 0.4332834780216217, -13.875308990478516, -16.02735710144043, -11.663871765136719, -19.377981185913086, -18.890239715576172, 14.976897239685059, 13.765932083129883, 10.012991905212402, 13.688212394714355, 14.876045227050781, 8.5374755859375, 2.561880588531494, 10.92773723602295, -4.149389266967773, -12.991825103759766, 2.404315233230591, 12.923140525817871, 8.21861457824707, 13.700146675109863, 7.529350757598877, 7.371426105499268, 2.588914632797241, -1.4652031660079956, -11.457782745361328, 12.70648193359375, 4.729581832885742, -15.310846328735352, -0.6431735754013062, -17.07769775390625, 3.7818214893341064, 1.1428145170211792, 15.604887008666992, 7.672295570373535, 1.844925880432129, 16.370128631591797, 10.331809043884277, 18.034996032714844, 14.951489448547363, 4.206993579864502, 7.87768030166626, 6.056156635284424, -14.723190307617188, -7.304068088531494, -10.470678329467773, 5.379573345184326, -11.842920303344727, -3.9078752994537354, -6.610698699951172, 15.896368980407715, 5.70426607131958, -11.77347469329834, -0.18113014101982117, 10.486527442932129, 6.191517353057861, -17.4887638092041, -17.471742630004883, -18.798736572265625, -20.411598205566406, -15.881946563720703, -13.46629524230957, -18.797914505004883, -11.660930633544922, -0.16155248880386353, -17.349809646606445, -13.712733268737793, -14.020797729492188, -15.661989212036133, -17.173625946044922, -15.142308235168457, 2.505014657974243, 13.09099006652832, 15.33299732208252, -4.302945137023926, 17.87843894958496, 2.6767239570617676, -9.782527923583984, 24.292879104614258, -20.46826171875, -14.598711967468262, -3.0168416500091553, 6.716073513031006, 15.289579391479492, -18.960256576538086, 0.6458184719085693, -3.3385043144226074, -7.995599746704102, 8.855358123779297, 2.1907219886779785, -4.507396697998047, -0.8503178954124451, -12.102895736694336, -16.937583923339844, -15.535408020019531, -13.951473236083984, -15.995858192443848, -12.88267707824707, -10.220977783203125, -8.286688804626465, -15.117660522460938, -12.524913787841797, -0.38557809591293335, 17.164274215698242, 11.311684608459473, -3.971808671951294, 12.990689277648926, -4.617401599884033, 14.531094551086426, -3.3416271209716797, 5.157925128936768, -0.5894335508346558, 4.135075092315674, -16.89499282836914, -17.488418579101562, -12.234915733337402, -8.557961463928223, -17.705646514892578, -14.677654266357422, -15.832947731018066, -14.86594009399414, 11.221793174743652, -13.628074645996094, 1.7431681156158447, -11.296853065490723, -14.714533805847168, -7.108370780944824, 0.03715219348669052, 0.39583906531333923, -13.60150146484375, 9.752246856689453, 18.942108154296875, 18.81443977355957, 8.851995468139648, -15.327842712402344, 5.791226387023926, -7.039739608764648, 21.134517669677734, 1.5486900806427002, 0.279701828956604, -6.628236293792725, -4.5216965675354, -9.206236839294434, -14.96672534942627, 0.7574238777160645, 12.090764999389648, 13.448515892028809, -2.0297343730926514, -19.64285659790039, -16.82178497314453, -12.827327728271484, 16.41774559020996, -7.575555324554443, -10.902446746826172, -2.993140935897827, 16.068626403808594, -11.971026420593262, -2.5459649562835693, -8.88035774230957, -16.45127296447754, 9.837321281433105, -6.892635345458984, 17.293842315673828, -1.545160174369812, -1.3973370790481567, -7.529220104217529, -13.035857200622559, 6.764122009277344, 3.997532606124878, 7.512261867523193, -12.020174980163574, 8.20809268951416, 6.202032566070557, -5.8505730628967285, -12.134608268737793, -16.137784957885742, -7.8725666999816895, -3.669999837875366, 13.109972953796387, -4.863725185394287, -9.95772647857666, -12.760947227478027, -7.275108814239502, -17.501840591430664, 14.943596839904785, 11.732070922851562, -12.581591606140137, -11.375001907348633, 9.3304443359375, 16.38626480102539, 10.298700332641602, -0.11753285676240921, 0.5364560484886169, -0.27889496088027954, -5.513505458831787, -2.9349522590637207, 0.8815319538116455, -20.41712760925293, -8.221616744995117, 2.6681089401245117, 4.535493850708008, 12.835814476013184, -11.839458465576172, -15.640719413757324, -12.873294830322266, 2.2394585609436035, -10.729575157165527, 1.8583406209945679, -7.385114669799805, -5.505283355712891, -2.8697495460510254, -2.071985960006714, -14.6099853515625, -17.730712890625, -13.682123184204102, -15.260490417480469, -16.892000198364258, -12.672203063964844, -6.794860363006592, -1.7740657329559326, -5.541682243347168, -16.158248901367188, -11.988977432250977, -13.808653831481934, 17.402360916137695, -11.346111297607422, -13.56352424621582, -14.445812225341797, -14.380784034729004, -12.993632316589355, -12.175942420959473, -8.495647430419922, -6.029384613037109, -10.925858497619629, 5.754458427429199, 7.013388156890869, 17.637784957885742, -8.678528785705566, -13.058810234069824, -17.76767921447754, -10.883360862731934, -13.842284202575684, -11.907499313354492, -2.4136013984680176, 14.713359832763672, 7.526524543762207, 8.903053283691406, -7.492112636566162, -8.106996536254883, -10.561341285705566, -5.174477577209473, -14.538814544677734, -13.416093826293945, -1.1275146007537842, -4.024407386779785, -14.010885238647461, -2.4213333129882812, 0.9588294625282288, -3.352280378341675, -13.714997291564941, -16.66164207458496, -8.048917770385742, -9.436342239379883, -7.956984519958496, 9.25185775756836, 13.109014511108398, 17.326560974121094, 8.709548950195312, -4.44685173034668, -13.541296005249023, -13.612168312072754, 1.7197837829589844, 17.97425079345703, -4.758273601531982, 14.97862720489502, 14.171184539794922, -21.211523056030273, -11.794490814208984, 9.437240600585938, 15.051163673400879, 12.177630424499512, 15.446741104125977, 11.191003799438477, 13.42525577545166, -2.1557106971740723, 7.562465667724609, 17.447818756103516, -9.927955627441406, -10.173760414123535, 7.682765960693359, -2.832728385925293, 14.130271911621094, 9.383161544799805, 21.125410079956055, 9.76278305053711, 11.395966529846191, 18.070287704467773, -9.599252700805664, -11.193592071533203, 12.418262481689453, -12.265442848205566, -8.58914852142334, 12.293526649475098, 0.4414839744567871, -9.75705623626709, -10.242269515991211, 1.1480472087860107, -15.358393669128418, 10.266669273376465, -3.893296480178833, -12.695704460144043, 0.9254052042961121, 17.078407287597656, -0.3324766755104065, 3.5911612510681152, -3.7154011726379395, 11.415404319763184, -20.422157287597656, -19.47675323486328, -10.760967254638672, 3.281909942626953, 3.9446232318878174, 13.922444343566895, -8.170814514160156, 14.76625919342041, 17.234506607055664, -6.684962749481201, -7.933135509490967, -7.032785415649414, -6.636385440826416, 8.791825294494629, -19.950029373168945, 15.605612754821777, -3.396251916885376, -17.398502349853516, 16.63275909423828, -14.12744426727295, 12.29115104675293, -19.117191314697266, -9.24246597290039, 22.791597366333008, 0.20869016647338867, 14.58286190032959, 2.347593307495117, 12.348681449890137, 3.8721420764923096, 10.378180503845215, 12.764875411987305, -1.9818708896636963, -10.218524932861328, 13.60987377166748, 11.194635391235352, 13.916838645935059, 10.700955390930176, 12.453594207763672, 10.74869155883789, 22.546777725219727, 16.40338706970215, 4.785506725311279, -10.56456470489502, -5.768459320068359, -16.439607620239258, 12.256418228149414, 11.111811637878418, 16.590839385986328, 14.734125137329102, 9.320069313049316, 17.03370475769043, 14.815967559814453, 9.368741035461426, -0.36838552355766296, -1.0281708240509033, -14.14881420135498, -15.174649238586426, -5.27341890335083, 10.69897174835205, 16.379125595092773, -18.578908920288086, 18.016813278198242, 11.061363220214844, -8.87969970703125, -21.675186157226562, -12.836413383483887, 2.364265203475952, 18.396400451660156, 17.996484756469727, 5.437380790710449, 5.187911033630371, -2.468770742416382, 12.28607177734375, -7.504003524780273, 9.488758087158203, 12.081775665283203, -4.078146457672119, 18.210403442382812, -5.138114929199219, 6.096893787384033, -3.429029941558838, -3.635313034057617, -2.718906879425049, -6.894107341766357, 7.147891044616699, 0.02857186831533909, 4.373798370361328, 10.71063232421875, 9.7454833984375, 4.662695407867432, 16.45066261291504, -0.04701312258839607, 0.5915892124176025, -6.4427900314331055, -2.2102766036987305, -0.5352391004562378, -12.528462409973145, 16.145902633666992, 18.43210220336914, 15.860130310058594, 13.561245918273926, 13.122966766357422, -4.972354888916016, -18.152305603027344, -14.887657165527344, 9.133659362792969, -13.717856407165527, -3.7701947689056396, -1.8627772331237793, 16.21621322631836, -1.127600073814392, -5.607787609100342, 13.823860168457031, -8.056815147399902, -3.942842483520508, 2.055783271789551, -16.48114013671875, 6.034482002258301, -10.066346168518066, -6.992168426513672, -8.014708518981934, -7.348393440246582, 0.7822622656822205, 14.292903900146484, 9.332345008850098, -1.137457251548767, -9.73373794555664, 15.74544620513916, -4.974268913269043, -4.918746471405029, -13.7843656539917, 6.687415599822998, -18.778244018554688, -18.335954666137695, -4.875455856323242, -5.378177642822266, 8.032220840454102, 16.817941665649414, 13.385882377624512, 17.489578247070312, -12.547874450683594, -10.097930908203125, -10.362614631652832, -10.065037727355957, 19.852737426757812, 7.545961380004883, -9.517059326171875, -5.947633266448975, 15.537745475769043, 16.781444549560547, 10.612201690673828, 15.184566497802734, -4.747117042541504, 16.00516700744629, 18.421993255615234, 18.01141357421875, -8.889866828918457, -6.32315731048584, -6.013822078704834, 8.469864845275879, 14.748302459716797, 13.954143524169922, 17.8317928314209, -15.415009498596191, 7.779041290283203, 14.948851585388184, 16.970508575439453, 7.248083114624023, 20.783159255981445, -3.7455954551696777, 11.932169914245605, 15.56053352355957, 15.31875991821289, -4.751147747039795, 12.041499137878418, 1.6103601455688477, 1.3025615215301514, 9.665609359741211, 7.761250019073486, 0.279875785112381, -2.1420531272888184, -6.63933801651001, -2.1262423992156982, -2.674945831298828, -4.501023292541504, 23.304548263549805, 13.712282180786133, -20.42778205871582, -5.174599647521973, -7.456082344055176, 8.51300048828125, -5.873328685760498, 1.2401994466781616, 1.5798758268356323, 8.445328712463379, -14.586124420166016, -18.59832763671875, 15.769169807434082, -16.784526824951172, 16.337114334106445, 1.6849805116653442, -11.640889167785645, -2.8917338848114014, 1.6608457565307617, -18.679903030395508, -15.478876113891602, 7.925477504730225, 6.856977462768555, -4.1072587966918945, -16.615144729614258, -14.110528945922852, -11.948616027832031, -11.310639381408691, -13.741142272949219, -12.644023895263672, -12.263104438781738, 19.699386596679688, 18.654325485229492, 7.460988998413086, -11.16392993927002, -15.747886657714844, -15.863893508911133, 19.555418014526367, 14.149593353271484, 17.244901657104492, 13.414111137390137, -5.058367729187012, -14.932254791259766, -12.392831802368164, -9.026201248168945, -3.7325680255889893, -13.508699417114258, -16.31461524963379, -9.235346794128418, -10.899864196777344, -8.275590896606445, -7.834995746612549, -8.036211967468262, -6.096039772033691, -7.492498397827148, -8.71940803527832, -9.208306312561035, -8.8795166015625, -6.3368239402771, -10.89814567565918, -9.733131408691406, -6.637458801269531, -8.13472843170166, -9.811649322509766, -6.34459924697876, -7.338211536407471, -11.494067192077637, -7.951943397521973, -9.892385482788086, -5.823454856872559, -10.496561050415039, -8.394098281860352, -11.095346450805664, -9.607035636901855, -7.404615879058838, -10.990031242370605, -7.629051685333252, -9.455672264099121, -8.376041412353516, -9.446505546569824, -10.716513633728027, 16.85882568359375, 14.268697738647461, 7.367800712585449, 12.907696723937988, 8.35468578338623, 9.038735389709473, 11.58515453338623, 16.419635772705078, 7.002970218658447, 15.440194129943848, 14.234089851379395, 15.417054176330566, 13.855862617492676, 12.208426475524902, 11.109452247619629, 8.439656257629395, 15.168998718261719, 13.79055404663086, 14.596091270446777, 14.664813995361328, 8.592385292053223, 9.618474960327148, 9.194475173950195, 15.463897705078125, 16.96010971069336, 16.880905151367188, 11.647001266479492, 9.66064453125, 11.13608169555664, 8.378693580627441, 10.183085441589355, 11.037360191345215, -1.115779995918274, 13.531229972839355, 0.9384440779685974, 1.5636825561523438, 15.31424331665039, -0.0004996657371520996, 12.099912643432617, 14.68781566619873, 16.213916778564453, -0.5515826344490051, 12.372847557067871, 15.184617042541504, 9.681435585021973, 9.94775390625, 10.800724983215332, 6.915825843811035, 9.19733715057373, 13.182149887084961, 1.9520002603530884, 13.131304740905762, 7.256582260131836, 8.15945053100586, 2.265235662460327, -0.06419067084789276, 1.185171365737915], \"z\": [-13.124283790588379, -14.319915771484375, -14.63027286529541, -12.904857635498047, -12.049112319946289, -12.298757553100586, -10.382534980773926, -13.195551872253418, -12.388617515563965, -13.979705810546875, -7.071493148803711, -13.235241889953613, -6.880263805389404, -14.554092407226562, -7.312094211578369, -16.276708602905273, -10.467360496520996, -11.7444429397583, -7.497359752655029, -12.09411907196045, -14.502554893493652, -2.3139188289642334, -9.064458847045898, -7.8319878578186035, -4.749879837036133, -1.5356802940368652, -8.533478736877441, -1.390979290008545, 0.2631755769252777, 1.5544346570968628, 2.51761794090271, -1.0328243970870972, 2.3306021690368652, -16.86825942993164, 1.7665196657180786, 1.3971539735794067, -12.032816886901855, -9.656578063964844, 1.4550719261169434, -12.05008602142334, -4.653475284576416, 3.2077507972717285, -13.953292846679688, -1.395948886871338, -1.4262263774871826, -4.931826591491699, -8.022432327270508, -0.43073394894599915, -4.081051349639893, -3.1428120136260986, -0.24719396233558655, -6.054285049438477, -4.0386786460876465, 1.1268047094345093, -17.75910758972168, -19.494117736816406, -5.316383361816406, -5.76312255859375, 0.5918898582458496, -1.2883450984954834, -1.3018507957458496, -7.040213584899902, -1.5367614030838013, -2.624277114868164, -9.681609153747559, -0.0872364416718483, -6.027588844299316, -1.0350099802017212, -13.233349800109863, -20.440431594848633, -10.346075057983398, -4.668802261352539, 4.252888202667236, 1.2920951843261719, -2.5913450717926025, 2.213973045349121, -10.422331809997559, 0.1450454443693161, -12.31753158569336, -8.286026954650879, 0.22155214846134186, -2.481799364089966, -4.8692169189453125, 1.7272603511810303, -7.932559490203857, -9.987140655517578, -1.2259528636932373, -1.8731999397277832, -3.9195139408111572, -2.905872344970703, -2.752664089202881, 2.44929575920105, -2.826918601989746, -10.713712692260742, -0.9023042917251587, -7.760715007781982, 2.5154426097869873, 2.6418099403381348, 1.387797474861145, 1.6563435792922974, -10.441679954528809, 8.780675888061523, -7.595743656158447, 2.3310956954956055, 3.1300454139709473, -3.3563499450683594, -1.5085841417312622, 1.8634939193725586, -3.7206311225891113, -11.838993072509766, -10.259588241577148, -0.013370377011597157, -4.023561954498291, 0.5585929751396179, -6.311071395874023, -9.16567611694336, -3.2838685512542725, -11.8724946975708, 0.4790197014808655, -20.658893585205078, -11.896596908569336, -0.6818265914916992, -6.864391803741455, 0.9272435307502747, -12.881512641906738, 1.5729082822799683, -4.318763732910156, 1.8988044261932373, -1.8861515522003174, -8.458728790283203, -0.10400122404098511, 3.9018967151641846, -17.851072311401367, -0.9549815654754639, -0.654640793800354, -8.060874938964844, 6.004204750061035, -4.031445026397705, -5.033411026000977, 0.7344346046447754, 1.1845099925994873, -4.25288724899292, -2.1311357021331787, -13.197746276855469, 0.43960604071617126, -15.571634292602539, -0.024277737364172935, -2.595118761062622, 2.122189998626709, -0.21379509568214417, -16.07337760925293, -10.627758979797363, -9.850186347961426, 1.2131134271621704, -4.91274881362915, 1.3835314512252808, -2.162834882736206, -1.7563064098358154, -8.431482315063477, -5.852875709533691, -14.463763236999512, 0.33333060145378113, -7.515531063079834, 10.4340181350708, 1.5530396699905396, 1.0780094861984253, 1.2853224277496338, 0.8937467336654663, 2.069344997406006, -1.981673240661621, 0.1441241353750229, 0.7031800150871277, -13.411087036132812, 13.898880004882812, -8.579903602600098, 7.131281852722168, -2.4033215045928955, -7.810267925262451, -7.941008567810059, -3.837906837463379, -5.02616548538208, 2.5357141494750977, 3.2864584922790527, -8.11884593963623, 3.038163661956787, -15.019794464111328, -7.595649719238281, -7.479401588439941, 1.6876949071884155, -1.8027898073196411, -0.46515172719955444, -14.78270435333252, -19.858718872070312, -8.31026840209961, 0.10860873758792877, 10.770387649536133, 3.9868991374969482, 4.891443729400635, 6.131256580352783, 2.029019355773926, 5.113031387329102, 4.4584221839904785, -10.876864433288574, 7.3048882484436035, -11.300738334655762, 6.8315629959106445, 6.225362777709961, 4.7427825927734375, 7.978903770446777, 6.720122814178467, -7.750260353088379, -4.243391513824463, 10.060699462890625, 3.6792185306549072, 4.466597557067871, 5.534206390380859, -13.446487426757812, 4.525977611541748, 12.951892852783203, -6.735869884490967, -2.1305975914001465, -8.136575698852539, -5.979442119598389, 5.0747551918029785, 5.496280193328857, -1.304701566696167, -7.128137588500977, -0.036426618695259094, -2.4649312496185303, 3.703336477279663, 8.724639892578125, 9.59244155883789, 16.120969772338867, -7.575015544891357, 0.20085306465625763, -9.216453552246094, 4.0359907150268555, -8.619195938110352, 1.9747884273529053, -6.9793701171875, -8.036308288574219, 4.264398574829102, -2.6352269649505615, 0.28676384687423706, -15.334454536437988, 2.427983283996582, 1.1220799684524536, -1.9673866033554077, 3.0158441066741943, -3.094435214996338, -1.00022292137146, 1.6788684129714966, -0.26562562584877014, -3.7548577785491943, -7.072747230529785, 0.15024080872535706, 6.774889945983887, -3.980961561203003, -0.3546845316886902, 8.53804874420166, 10.113277435302734, -6.371582508087158, 1.4111089706420898, -2.9935288429260254, 2.461616277694702, -3.733792543411255, 15.776272773742676, 3.5700736045837402, 8.127607345581055, -5.614009857177734, -2.0539159774780273, -10.698919296264648, 3.5889952182769775, -1.1140564680099487, -0.9602766036987305, -12.468414306640625, 1.3212937116622925, -9.170857429504395, -10.555251121520996, 2.6325087547302246, 5.31389856338501, -10.842896461486816, -5.310865879058838, 6.591773986816406, 1.4294549226760864, 16.910884857177734, -3.1147491931915283, 3.1580448150634766, 4.508182525634766, 15.042106628417969, 2.858161687850952, 6.567732334136963, -8.518820762634277, -8.133881568908691, 8.088770866394043, 13.245403289794922, 14.919685363769531, -6.6540117263793945, -9.736659049987793, 9.468626976013184, -4.6354899406433105, -5.126364231109619, -11.011088371276855, -8.117053031921387, 8.474507331848145, 6.293639659881592, -5.8135151863098145, -15.45666790008545, 4.38686990737915, -2.962174415588379, -12.411050796508789, -7.537087440490723, -5.488473415374756, -9.851170539855957, 5.522756099700928, -12.772047996520996, -12.736466407775879, -13.619659423828125, 5.540293216705322, -3.159090995788574, 3.3874783515930176, 0.08510108292102814, -1.629327654838562, -7.208276748657227, 3.2210192680358887, 9.504781723022461, 1.4939993619918823, -11.948302268981934, -13.947885513305664, 7.623533248901367, 5.323866367340088, 5.5764875411987305, -14.356474876403809, -16.88475227355957, -1.5518914461135864, 7.924675464630127, 10.469533920288086, 4.624138355255127, 9.690078735351562, 15.333003044128418, 10.718297004699707, 7.225667476654053, 16.800609588623047, 4.167754650115967, 7.647024154663086, 5.91825008392334, 7.187379837036133, 8.750650405883789, -16.9542293548584, 3.0591771602630615, -1.6938825845718384, -7.433586120605469, 3.9049038887023926, -7.358757495880127, 7.142157077789307, 10.249982833862305, 8.053261756896973, 11.728047370910645, 13.088369369506836, 13.626154899597168, 5.143738269805908, 4.838334560394287, -8.577250480651855, 3.2889037132263184, -2.4878435134887695, -9.104382514953613, -6.366702079772949, 1.8164018392562866, 4.866076469421387, -11.040555000305176, 4.080540657043457, 12.7106294631958, 5.3183183670043945, 8.741225242614746, 6.610532760620117, 13.633282661437988, -11.467652320861816, 2.9998724460601807, 2.776811122894287, 10.699256896972656, -9.147823333740234, 4.39114236831665, 0.7831898331642151, -14.156193733215332, 11.848217010498047, -5.560836315155029, -17.08106231689453, -7.890068531036377, 0.23133893311023712, -9.292370796203613, -6.276272773742676, 1.796467661857605, -5.562637805938721, -17.23809242248535, -3.7171661853790283, -6.098740100860596, -10.825064659118652, -14.951083183288574, -10.7291841506958, -11.849376678466797, 7.4562668800354, -15.111318588256836, -15.680774688720703, -0.38447949290275574, 1.3270225524902344, -13.99635124206543, -10.548059463500977, -9.324612617492676, 5.105062007904053, -5.379178047180176, -5.852233409881592, -8.989311218261719, -7.634315490722656, -4.389970302581787, -18.922409057617188, -14.277449607849121, -8.09642219543457, -15.853564262390137, -19.715600967407227, -5.883246898651123, -9.282748222351074, -7.0249714851379395, -6.818748474121094, -13.778897285461426, -15.340832710266113, -13.60143756866455, -13.653125762939453, -2.0673890113830566, -11.351301193237305, -19.282766342163086, 14.141456604003906, -9.668521881103516, -5.299108505249023, 0.6809753775596619, 7.790449142456055, -9.228975296020508, -8.771391868591309, -5.056868076324463, -7.574370861053467, -0.43892279267311096, -10.21335506439209, -18.5821590423584, -8.818757057189941, 4.014830589294434, -4.302844047546387, -0.545595109462738, 0.833293616771698, -15.209450721740723, -0.2649542987346649, -6.999330520629883, -13.816814422607422, -21.518239974975586, -1.1026629209518433, -15.064276695251465, 11.727859497070312, -11.155511856079102, -4.4949870109558105, -4.16651725769043, -4.582392692565918, -9.201539993286133, -12.020581245422363, 0.9171884655952454, -10.680296897888184, -18.99848175048828, -6.512661933898926, -13.188286781311035, -6.270785808563232, -8.369909286499023, -10.487518310546875, -4.699093818664551, -14.039397239685059, -14.48133373260498, -11.60615062713623, -16.776960372924805, -4.319925308227539, -4.855123043060303, -5.566967487335205, -17.63365936279297, 1.1962127685546875, -13.52389907836914, -10.42229175567627, -11.9944429397583, -4.905573844909668, 10.37458324432373, 10.758493423461914, -17.818090438842773, -12.05945873260498, -6.841363430023193, 5.513731479644775, -10.62617015838623, 1.4052737951278687, -2.1336681842803955, -14.606868743896484, -7.245440483093262, -5.9952521324157715, -6.9540300369262695, -6.967965602874756, -6.18544864654541, 5.747356414794922, 7.934229850769043, 8.118020057678223, 8.410202026367188, 12.686178207397461, 6.213193893432617, 1.8459306955337524, 13.50007152557373, 5.548494338989258, 9.7284574508667, -6.4077467918396, 15.047513008117676, -8.938934326171875, -1.6077877283096313, -8.10278034210205, 0.7283262610435486, 3.9159626960754395, -19.18378257751465, -10.907902717590332, -3.565499782562256, 14.644022941589355, -8.865697860717773, 4.558056354522705, 6.195772647857666, 3.905156373977661, 11.61104679107666, -4.3755998611450195, -8.908048629760742, 11.983694076538086, 14.392773628234863, 11.063055992126465, 3.87969708442688, 4.504964828491211, 12.957893371582031, 11.420689582824707, -17.215614318847656, -9.827929496765137, -12.788841247558594, 2.2917871475219727, -3.0726284980773926, -7.538248062133789, -9.150866508483887, -11.642901420593262, 7.249232292175293, 8.154452323913574, 10.272516250610352, 6.900991916656494, 5.267341613769531, -15.443244934082031, -17.00212287902832, 11.136625289916992, -5.1302595138549805, -0.08345680683851242, 8.185280799865723, 3.0859508514404297, 5.286012649536133, 4.55897331237793, 5.092795372009277, 4.449582576751709, 7.268304347991943, 13.145445823669434, -7.711873531341553, 4.946839332580566, -3.4124274253845215, -4.776539325714111, -0.9915370345115662, -9.465537071228027, 13.011923789978027, 6.873086929321289, 11.483561515808105, -5.545928001403809, 5.608432292938232, -9.6373872756958, -8.479246139526367, -5.645115375518799, 13.386626243591309, 12.95630168914795, -10.180294036865234, -0.4468191862106323, 6.833795547485352, -6.63393497467041, -3.9188168048858643, -8.532742500305176, -6.610613822937012, -4.609165191650391, -14.688796997070312, -6.742626190185547, -12.37218189239502, -1.840691089630127, -10.816163063049316, -8.40726089477539, -11.18970012664795, -11.120786666870117, -3.3818719387054443, -3.66402268409729, -2.526352882385254, -14.367244720458984, -0.10340416431427002, -5.804591655731201, -10.378546714782715, -18.161014556884766, -0.45917439460754395, -11.321537017822266, -9.41230583190918, -8.855764389038086, -11.590466499328613, -8.785228729248047, 2.5965240001678467, -8.062066078186035, -6.4201741218566895, -1.3111193180084229, -11.104353904724121, -5.280855655670166, -13.859966278076172, -7.7119951248168945, 0.1031780019402504, -10.771293640136719, -10.356897354125977, 8.881393432617188, -5.927504539489746, -3.3517870903015137, -16.28097915649414, 2.9979381561279297, -11.462169647216797, -13.317781448364258, -12.163942337036133, -5.270059585571289, -9.03390884399414, 6.16213846206665, -12.789607048034668, -11.48886775970459, -10.10906982421875, -13.321208000183105, 5.4054365158081055, 5.796331882476807, -12.782093048095703, -13.982305526733398, -10.743247985839844, -12.051092147827148, 8.707001686096191, 11.944077491760254, 10.098243713378906, 11.345176696777344, 9.491981506347656, -0.6274487376213074, 9.977396011352539, -11.546961784362793, -7.31608247756958, -9.940166473388672, -9.515706062316895, -10.33087158203125, -9.629694938659668, -16.51874351501465, -10.532478332519531, 8.895581245422363, -1.627356767654419, 0.4060348570346832, 1.7487870454788208, -15.03049373626709, -11.457701683044434, 5.058196544647217, -10.707913398742676, 3.5229382514953613, -19.781030654907227, -12.173880577087402, 6.351645469665527, 10.918288230895996, 8.096213340759277, 9.186626434326172, 9.29752254486084, -2.511281967163086, -8.887653350830078, -7.543044567108154, -9.307733535766602, -6.846980571746826, -6.540447235107422, -5.659091472625732, 14.226587295532227, -0.13165859878063202, -2.4915030002593994, 2.813356637954712, -9.935059547424316, -6.435102462768555, -8.312169075012207, -1.3671159744262695, -7.983827590942383, -1.549791693687439, -5.87225341796875, 13.202169418334961, 6.9449872970581055, -21.216440200805664, -6.286320209503174, 7.88276481628418, -9.701142311096191, -16.287673950195312, -10.29526424407959, -10.118925094604492, -0.8468442559242249, -2.0847063064575195, 5.445440769195557, -7.166833877563477, 3.7264063358306885, -10.140705108642578, 2.632345676422119, 9.935835838317871, 10.971077919006348, 9.085092544555664, 10.059887886047363, -11.138545989990234, 8.292996406555176, -8.75241756439209, 0.6884953379631042, -10.983134269714355, 12.927607536315918, -3.5009093284606934, -10.710197448730469, 7.317849636077881, 5.429843425750732, 3.764089345932007, -8.573200225830078, -3.6800336837768555, -11.639283180236816, -2.4294395446777344, 6.546428680419922, 1.7095624208450317, 2.1182398796081543, 0.9623837471008301, 9.801607131958008, 8.981412887573242, 8.51447582244873, -14.104055404663086, 8.724431991577148, 9.437886238098145, -7.625875473022461, -16.1691951751709, 6.2545270919799805, 6.671207427978516, -2.9051754474639893, 4.617981910705566, -11.733240127563477, 3.848980665206909, -5.8730082511901855, 7.11198616027832, 6.5030622482299805, -16.73299789428711, 4.132631778717041, 3.170123815536499, 12.2684326171875, -2.7314693927764893, -1.4702554941177368, -10.406214714050293, -9.67636775970459, -9.455824851989746, -6.049703121185303, 2.551403522491455, 0.17762720584869385, 12.120650291442871, -0.8559956550598145, 7.6117658615112305, -5.14054012298584, 6.503864288330078, -7.540181636810303, -6.952082633972168, 1.3913021087646484, 1.2548140287399292, -7.928685188293457, -2.7164292335510254, 8.199637413024902, 7.785895347595215, 6.3329691886901855, -3.2188851833343506, -0.033077847212553024, -7.008577823638916, -11.691756248474121, -5.14178466796875, -6.887735366821289, -16.847759246826172, 0.10905320942401886, -7.90324592590332, -9.51083755493164, -2.4201552867889404, -6.8228840827941895, 3.8659658432006836, 7.314693450927734, 7.9362359046936035, -18.646228790283203, -14.155973434448242, -3.6949450969696045, -7.668424129486084, -10.276813507080078, 0.524217963218689, 3.4891343116760254, -10.730512619018555, -5.198820114135742, 12.801335334777832, 3.514868974685669, -7.726439952850342, 6.208816051483154, 6.391279220581055, 7.009833335876465, -9.416057586669922, -11.36083698272705, -11.042049407958984, -7.323374271392822, -18.488758087158203, 10.076277732849121, 1.501220703125, -0.9219443798065186, -5.545899868011475, -15.218868255615234, -6.600778579711914, -6.003988265991211, 0.2864837944507599, -17.3817081451416, -3.6885576248168945, 5.503809928894043, -11.460796356201172, -6.450076103210449, 10.239593505859375, 5.206938743591309, 11.833155632019043, 1.1906530857086182, -8.897989273071289, 7.768754482269287, 9.184418678283691, -4.101478099822998, 14.326059341430664, 6.076505661010742, 8.305391311645508, -10.929511070251465, 7.501336574554443, 8.654041290283203, -7.953176975250244, 5.461397171020508, 8.279029846191406, -10.33853816986084, -3.9877750873565674, -16.245704650878906, -6.377837181091309, -2.973566770553589, 9.076461791992188, 9.095894813537598, -5.7007598876953125, 0.7892819046974182, -11.895622253417969, 12.192566871643066, 4.9159064292907715, -20.528806686401367, 3.464144229888916, -12.605158805847168, -6.17944860458374, -8.139752388000488, -1.3357336521148682, -2.451434850692749, -3.6680004596710205, 4.9246134757995605, 7.525332927703857, 9.031136512756348, 5.231024265289307, 3.6857402324676514, -8.135187149047852, -9.373785018920898, -1.9408701658248901, 4.0839433670043945, 5.0077667236328125, 5.2624287605285645, -8.805697441101074, 1.8976342678070068, -2.257061719894409, -7.918931007385254, -5.859297275543213, -1.4176642894744873, -0.9290875196456909, 5.1202712059021, -1.7792024612426758, 8.108559608459473, -7.322765350341797, 6.394320964813232, 0.2805638313293457, 9.591605186462402, 2.4936625957489014, 10.715457916259766, 3.601252794265747, 4.191926956176758, -20.88144874572754, 3.9279444217681885, 7.642940521240234, 6.160640239715576, 3.9036037921905518, 2.518404245376587, 4.298810005187988, 1.6494637727737427, -6.834837436676025, 2.768782138824463, -12.534016609191895, 7.298559665679932, -13.316742897033691, -6.374423503875732, -3.7512502670288086, -2.2446556091308594, 0.008068428374826908, -4.6483917236328125, -4.258734703063965, -5.656569480895996, 1.4789105653762817, 6.690772533416748, 13.927593231201172, 0.3044726550579071, -4.548086166381836, -4.9393391609191895, -11.663363456726074, -9.713412284851074, -8.468770027160645, -1.46279776096344, -4.075703144073486, -11.775275230407715, 9.171231269836426, -1.709928274154663, -14.995684623718262, -11.81270980834961, 5.256958961486816, 5.383025169372559, 1.021950364112854, -11.402511596679688, 4.391768455505371, -7.529238224029541, -0.6855798363685608, -4.364120006561279, 1.8050310611724854, 16.390106201171875, 2.956113815307617, 14.362573623657227, -9.552799224853516, 8.48226547241211, 14.057254791259766, 11.727863311767578, 12.355857849121094, 9.614556312561035, -8.393136024475098, -14.321523666381836, 9.940633773803711, 9.516860008239746, 13.177048683166504, -11.478239059448242, -16.093896865844727, -16.85175895690918, 12.8718843460083, 12.364265441894531, 5.923214435577393, -17.58548927307129, -10.751031875610352, 1.6452823877334595, 1.1019238233566284, 1.2588180303573608, 2.5187039375305176, 14.761077880859375, 0.0774933397769928, 0.3074095547199249, -9.39443302154541, 4.48069429397583, -9.360713958740234, 12.70307731628418, 0.6358672976493835, 8.841079711914062, 3.4184396266937256, -3.7136707305908203, 5.8749613761901855, -21.32880973815918, -1.6766443252563477, -6.838654518127441, -1.1144839525222778, -15.642529487609863, 6.665775299072266, 7.215468406677246, 5.308228969573975, -15.71668529510498, -3.0876786708831787, -11.296834945678711, -15.314752578735352, -17.29926300048828, 5.87775182723999, 14.881875038146973, 14.492612838745117, -2.9494102001190186, -4.56580924987793, 2.916442394256592, 1.6973800659179688, 11.405925750732422, 11.66926383972168, -2.733736515045166, 9.812089920043945, -3.6265790462493896, -4.685703277587891, 7.782320976257324, 8.8186674118042, 8.61677074432373, 11.518380165100098, 10.106494903564453, -5.4067702293396, 2.4588115215301514, 3.403201103210449, -1.5873550176620483, 8.607440948486328, 8.402339935302734, 6.195043563842773, 12.890800476074219, 5.373892784118652, 7.953766822814941, 9.91635513305664, 12.79983139038086, 11.911867141723633, 13.369867324829102, 7.004836082458496, 4.776468753814697, 7.2034735679626465, -7.444582462310791, -1.9100831747055054, -7.553040027618408, -4.347228050231934, -9.731345176696777, 2.3172829151153564, -7.484794616699219, -6.814054489135742, 0.26307156682014465, 2.858372688293457, 6.855034828186035, 12.916900634765625, 9.042061805725098, 8.15170955657959, 0.7091193199157715, 0.655795693397522, -0.37718960642814636, 9.4811429977417, 11.675915718078613, 11.923386573791504, 10.781283378601074, 10.262239456176758, 13.736299514770508, -8.921637535095215, -2.183825969696045, -2.3729183673858643, 4.980843544006348, 9.410423278808594, -4.851727485656738, 0.6939952969551086, -0.9258320927619934, -0.47260597348213196, 5.730216979980469, -6.439170837402344, -2.493175745010376, -1.0257712602615356, -3.338355302810669, -9.36273193359375, -1.8051702976226807, -1.3653792142868042, -0.3275761306285858, -0.6880658864974976, 0.0007246492896229029, 10.085930824279785, 11.38180160522461, -16.29692268371582, 4.758127689361572, 9.774444580078125, 10.1311616897583, 9.924768447875977, 9.37224292755127, 10.808184623718262, 9.504026412963867, 8.67482852935791, 14.496417045593262, 8.97170352935791, 9.847046852111816, 12.334062576293945, 12.241253852844238, 10.676859855651855, 14.581411361694336, -7.765804767608643, 6.420562744140625, -1.7156850099563599, -1.7277164459228516, 6.27883768081665, 7.529018402099609, -11.148233413696289, 5.508934020996094, 7.654929161071777, 1.6458286046981812, 23.405759811401367, 24.83550262451172, 24.171709060668945, 22.94891929626465, 23.320592880249023, 22.92404556274414, 21.503040313720703, 19.691776275634766, 25.23362159729004, 21.635478973388672, 23.910593032836914, 24.590293884277344, 23.784143447875977, 22.404220581054688, 24.814205169677734, 23.39156723022461, 21.907194137573242, 20.065937042236328, 22.90291976928711, 21.322437286376953, 22.10923194885254, 20.77821159362793, 22.51673126220703, 22.316614151000977, 21.10169792175293, 20.03558921813965, 24.107982635498047, 19.767913818359375, 20.6213436126709, 20.875356674194336, 22.467021942138672, 21.457372665405273, 22.25828742980957, 22.749189376831055, 23.554922103881836, 21.43193244934082, 24.652545928955078, 23.63050079345703, 21.282377243041992, 23.2216854095459, 21.89263343811035, 22.826698303222656, 22.410032272338867, 24.9047908782959, 20.57887840270996, 22.48739242553711, 23.693302154541016, 23.331138610839844, 22.88416862487793, 23.465866088867188, 20.871623992919922, 21.807964324951172, 20.94804573059082, 23.108295440673828, 23.084625244140625, 21.63232421875, 19.97046661376953, 20.89604949951172, 21.833436965942383, 21.7362003326416, 21.380142211914062, 23.726377487182617, 21.89701271057129, 23.120677947998047, 21.20209503173828, 21.613752365112305, 22.710662841796875, 23.14539337158203, 22.038467407226562, 21.779508590698242, 21.345064163208008, 22.068130493164062, 22.01968002319336, 20.28272247314453, 22.903905868530273, 23.10244369506836, 24.91068458557129, 22.989261627197266, 24.416606903076172, 21.966463088989258, 23.264310836791992, 24.59270668029785, 21.630321502685547, 22.277938842773438, 21.162185668945312, 24.503597259521484, 24.487268447875977, 23.31007194519043, 22.124652862548828, 23.74005889892578]}],\n",
       "                        {\"coloraxis\": {\"colorbar\": {\"title\": {\"text\": \"Label\"}}, \"colorscale\": [[0.0, \"#0d0887\"], [0.1111111111111111, \"#46039f\"], [0.2222222222222222, \"#7201a8\"], [0.3333333333333333, \"#9c179e\"], [0.4444444444444444, \"#bd3786\"], [0.5555555555555556, \"#d8576b\"], [0.6666666666666666, \"#ed7953\"], [0.7777777777777778, \"#fb9f3a\"], [0.8888888888888888, \"#fdca26\"], [1.0, \"#f0f921\"]]}, \"height\": 800, \"legend\": {\"tracegroupgap\": 0}, \"scene\": {\"domain\": {\"x\": [0.0, 1.0], \"y\": [0.0, 1.0]}, \"xaxis\": {\"title\": {\"text\": \"0\"}}, \"yaxis\": {\"title\": {\"text\": \"1\"}}, \"zaxis\": {\"title\": {\"text\": \"2\"}}}, \"template\": {\"data\": {\"bar\": [{\"error_x\": {\"color\": \"#2a3f5f\"}, \"error_y\": {\"color\": \"#2a3f5f\"}, \"marker\": {\"line\": {\"color\": \"#E5ECF6\", \"width\": 0.5}}, \"type\": \"bar\"}], \"barpolar\": [{\"marker\": {\"line\": {\"color\": \"#E5ECF6\", \"width\": 0.5}}, \"type\": \"barpolar\"}], \"carpet\": [{\"aaxis\": {\"endlinecolor\": \"#2a3f5f\", \"gridcolor\": \"white\", \"linecolor\": \"white\", \"minorgridcolor\": \"white\", \"startlinecolor\": \"#2a3f5f\"}, \"baxis\": {\"endlinecolor\": \"#2a3f5f\", \"gridcolor\": \"white\", \"linecolor\": \"white\", \"minorgridcolor\": \"white\", \"startlinecolor\": \"#2a3f5f\"}, \"type\": \"carpet\"}], \"choropleth\": [{\"colorbar\": {\"outlinewidth\": 0, \"ticks\": \"\"}, \"type\": \"choropleth\"}], \"contour\": [{\"colorbar\": {\"outlinewidth\": 0, \"ticks\": \"\"}, \"colorscale\": [[0.0, \"#0d0887\"], [0.1111111111111111, \"#46039f\"], [0.2222222222222222, \"#7201a8\"], [0.3333333333333333, \"#9c179e\"], [0.4444444444444444, \"#bd3786\"], [0.5555555555555556, \"#d8576b\"], [0.6666666666666666, \"#ed7953\"], [0.7777777777777778, \"#fb9f3a\"], [0.8888888888888888, \"#fdca26\"], [1.0, \"#f0f921\"]], \"type\": \"contour\"}], \"contourcarpet\": [{\"colorbar\": {\"outlinewidth\": 0, \"ticks\": \"\"}, \"type\": \"contourcarpet\"}], \"heatmap\": [{\"colorbar\": {\"outlinewidth\": 0, \"ticks\": \"\"}, \"colorscale\": [[0.0, \"#0d0887\"], [0.1111111111111111, \"#46039f\"], [0.2222222222222222, \"#7201a8\"], [0.3333333333333333, \"#9c179e\"], [0.4444444444444444, \"#bd3786\"], [0.5555555555555556, \"#d8576b\"], [0.6666666666666666, \"#ed7953\"], [0.7777777777777778, \"#fb9f3a\"], [0.8888888888888888, \"#fdca26\"], [1.0, \"#f0f921\"]], \"type\": \"heatmap\"}], \"heatmapgl\": [{\"colorbar\": {\"outlinewidth\": 0, \"ticks\": \"\"}, \"colorscale\": [[0.0, \"#0d0887\"], [0.1111111111111111, \"#46039f\"], [0.2222222222222222, \"#7201a8\"], [0.3333333333333333, \"#9c179e\"], [0.4444444444444444, \"#bd3786\"], [0.5555555555555556, \"#d8576b\"], [0.6666666666666666, \"#ed7953\"], [0.7777777777777778, \"#fb9f3a\"], [0.8888888888888888, \"#fdca26\"], [1.0, \"#f0f921\"]], \"type\": \"heatmapgl\"}], \"histogram\": [{\"marker\": {\"colorbar\": {\"outlinewidth\": 0, \"ticks\": \"\"}}, \"type\": \"histogram\"}], \"histogram2d\": [{\"colorbar\": {\"outlinewidth\": 0, \"ticks\": \"\"}, \"colorscale\": [[0.0, \"#0d0887\"], [0.1111111111111111, \"#46039f\"], [0.2222222222222222, \"#7201a8\"], [0.3333333333333333, \"#9c179e\"], [0.4444444444444444, \"#bd3786\"], [0.5555555555555556, \"#d8576b\"], [0.6666666666666666, \"#ed7953\"], [0.7777777777777778, \"#fb9f3a\"], [0.8888888888888888, \"#fdca26\"], [1.0, \"#f0f921\"]], \"type\": \"histogram2d\"}], \"histogram2dcontour\": [{\"colorbar\": {\"outlinewidth\": 0, \"ticks\": \"\"}, \"colorscale\": [[0.0, \"#0d0887\"], [0.1111111111111111, \"#46039f\"], [0.2222222222222222, \"#7201a8\"], [0.3333333333333333, \"#9c179e\"], [0.4444444444444444, \"#bd3786\"], [0.5555555555555556, \"#d8576b\"], [0.6666666666666666, \"#ed7953\"], [0.7777777777777778, \"#fb9f3a\"], [0.8888888888888888, \"#fdca26\"], [1.0, \"#f0f921\"]], \"type\": \"histogram2dcontour\"}], \"mesh3d\": [{\"colorbar\": {\"outlinewidth\": 0, \"ticks\": \"\"}, \"type\": \"mesh3d\"}], \"parcoords\": [{\"line\": {\"colorbar\": {\"outlinewidth\": 0, \"ticks\": \"\"}}, \"type\": \"parcoords\"}], \"pie\": [{\"automargin\": true, \"type\": \"pie\"}], \"scatter\": [{\"marker\": {\"colorbar\": {\"outlinewidth\": 0, \"ticks\": \"\"}}, \"type\": \"scatter\"}], \"scatter3d\": [{\"line\": {\"colorbar\": {\"outlinewidth\": 0, \"ticks\": \"\"}}, \"marker\": {\"colorbar\": {\"outlinewidth\": 0, \"ticks\": \"\"}}, \"type\": \"scatter3d\"}], \"scattercarpet\": [{\"marker\": {\"colorbar\": {\"outlinewidth\": 0, \"ticks\": \"\"}}, \"type\": \"scattercarpet\"}], \"scattergeo\": [{\"marker\": {\"colorbar\": {\"outlinewidth\": 0, \"ticks\": \"\"}}, \"type\": \"scattergeo\"}], \"scattergl\": [{\"marker\": {\"colorbar\": {\"outlinewidth\": 0, \"ticks\": \"\"}}, \"type\": \"scattergl\"}], \"scattermapbox\": [{\"marker\": {\"colorbar\": {\"outlinewidth\": 0, \"ticks\": \"\"}}, \"type\": \"scattermapbox\"}], \"scatterpolar\": [{\"marker\": {\"colorbar\": {\"outlinewidth\": 0, \"ticks\": \"\"}}, \"type\": \"scatterpolar\"}], \"scatterpolargl\": [{\"marker\": {\"colorbar\": {\"outlinewidth\": 0, \"ticks\": \"\"}}, \"type\": \"scatterpolargl\"}], \"scatterternary\": [{\"marker\": {\"colorbar\": {\"outlinewidth\": 0, \"ticks\": \"\"}}, \"type\": \"scatterternary\"}], \"surface\": [{\"colorbar\": {\"outlinewidth\": 0, \"ticks\": \"\"}, \"colorscale\": [[0.0, \"#0d0887\"], [0.1111111111111111, \"#46039f\"], [0.2222222222222222, \"#7201a8\"], [0.3333333333333333, \"#9c179e\"], [0.4444444444444444, \"#bd3786\"], [0.5555555555555556, \"#d8576b\"], [0.6666666666666666, \"#ed7953\"], [0.7777777777777778, \"#fb9f3a\"], [0.8888888888888888, \"#fdca26\"], [1.0, \"#f0f921\"]], \"type\": \"surface\"}], \"table\": [{\"cells\": {\"fill\": {\"color\": \"#EBF0F8\"}, \"line\": {\"color\": \"white\"}}, \"header\": {\"fill\": {\"color\": \"#C8D4E3\"}, \"line\": {\"color\": \"white\"}}, \"type\": \"table\"}]}, \"layout\": {\"annotationdefaults\": {\"arrowcolor\": \"#2a3f5f\", \"arrowhead\": 0, \"arrowwidth\": 1}, \"coloraxis\": {\"colorbar\": {\"outlinewidth\": 0, \"ticks\": \"\"}}, \"colorscale\": {\"diverging\": [[0, \"#8e0152\"], [0.1, \"#c51b7d\"], [0.2, \"#de77ae\"], [0.3, \"#f1b6da\"], [0.4, \"#fde0ef\"], [0.5, \"#f7f7f7\"], [0.6, \"#e6f5d0\"], [0.7, \"#b8e186\"], [0.8, \"#7fbc41\"], [0.9, \"#4d9221\"], [1, \"#276419\"]], \"sequential\": [[0.0, \"#0d0887\"], [0.1111111111111111, \"#46039f\"], [0.2222222222222222, \"#7201a8\"], [0.3333333333333333, \"#9c179e\"], [0.4444444444444444, \"#bd3786\"], [0.5555555555555556, \"#d8576b\"], [0.6666666666666666, \"#ed7953\"], [0.7777777777777778, \"#fb9f3a\"], [0.8888888888888888, \"#fdca26\"], [1.0, \"#f0f921\"]], \"sequentialminus\": [[0.0, \"#0d0887\"], [0.1111111111111111, \"#46039f\"], [0.2222222222222222, \"#7201a8\"], [0.3333333333333333, \"#9c179e\"], [0.4444444444444444, \"#bd3786\"], [0.5555555555555556, \"#d8576b\"], [0.6666666666666666, \"#ed7953\"], [0.7777777777777778, \"#fb9f3a\"], [0.8888888888888888, \"#fdca26\"], [1.0, \"#f0f921\"]]}, \"colorway\": [\"#636efa\", \"#EF553B\", \"#00cc96\", \"#ab63fa\", \"#FFA15A\", \"#19d3f3\", \"#FF6692\", \"#B6E880\", \"#FF97FF\", \"#FECB52\"], \"font\": {\"color\": \"#2a3f5f\"}, \"geo\": {\"bgcolor\": \"white\", \"lakecolor\": \"white\", \"landcolor\": \"#E5ECF6\", \"showlakes\": true, \"showland\": true, \"subunitcolor\": \"white\"}, \"hoverlabel\": {\"align\": \"left\"}, \"hovermode\": \"closest\", \"mapbox\": {\"style\": \"light\"}, \"paper_bgcolor\": \"white\", \"plot_bgcolor\": \"#E5ECF6\", \"polar\": {\"angularaxis\": {\"gridcolor\": \"white\", \"linecolor\": \"white\", \"ticks\": \"\"}, \"bgcolor\": \"#E5ECF6\", \"radialaxis\": {\"gridcolor\": \"white\", \"linecolor\": \"white\", \"ticks\": \"\"}}, \"scene\": {\"xaxis\": {\"backgroundcolor\": \"#E5ECF6\", \"gridcolor\": \"white\", \"gridwidth\": 2, \"linecolor\": \"white\", \"showbackground\": true, \"ticks\": \"\", \"zerolinecolor\": \"white\"}, \"yaxis\": {\"backgroundcolor\": \"#E5ECF6\", \"gridcolor\": \"white\", \"gridwidth\": 2, \"linecolor\": \"white\", \"showbackground\": true, \"ticks\": \"\", \"zerolinecolor\": \"white\"}, \"zaxis\": {\"backgroundcolor\": \"#E5ECF6\", \"gridcolor\": \"white\", \"gridwidth\": 2, \"linecolor\": \"white\", \"showbackground\": true, \"ticks\": \"\", \"zerolinecolor\": \"white\"}}, \"shapedefaults\": {\"line\": {\"color\": \"#2a3f5f\"}}, \"ternary\": {\"aaxis\": {\"gridcolor\": \"white\", \"linecolor\": \"white\", \"ticks\": \"\"}, \"baxis\": {\"gridcolor\": \"white\", \"linecolor\": \"white\", \"ticks\": \"\"}, \"bgcolor\": \"#E5ECF6\", \"caxis\": {\"gridcolor\": \"white\", \"linecolor\": \"white\", \"ticks\": \"\"}}, \"title\": {\"x\": 0.05}, \"xaxis\": {\"automargin\": true, \"gridcolor\": \"white\", \"linecolor\": \"white\", \"ticks\": \"\", \"title\": {\"standoff\": 15}, \"zerolinecolor\": \"white\", \"zerolinewidth\": 2}, \"yaxis\": {\"automargin\": true, \"gridcolor\": \"white\", \"linecolor\": \"white\", \"ticks\": \"\", \"title\": {\"standoff\": 15}, \"zerolinecolor\": \"white\", \"zerolinewidth\": 2}}}, \"title\": {\"text\": \"3d TSNE Plot for Outliers\"}, \"width\": 900},\n",
       "                        {\"responsive\": true}\n",
       "                    ).then(function(){\n",
       "                            \n",
       "var gd = document.getElementById('745f41ae-a9eb-453f-a431-f6377776a613');\n",
       "var x = new MutationObserver(function (mutations, observer) {{\n",
       "        var display = window.getComputedStyle(gd).display;\n",
       "        if (!display || display === 'none') {{\n",
       "            console.log([gd, 'removed!']);\n",
       "            Plotly.purge(gd);\n",
       "            observer.disconnect();\n",
       "        }}\n",
       "}});\n",
       "\n",
       "// Listen for the removal of the full notebook cells\n",
       "var notebookContainer = gd.closest('#notebook-container');\n",
       "if (notebookContainer) {{\n",
       "    x.observe(notebookContainer, {childList: true});\n",
       "}}\n",
       "\n",
       "// Listen for the clearing of the current output cell\n",
       "var outputEl = gd.closest('.output');\n",
       "if (outputEl) {{\n",
       "    x.observe(outputEl, {childList: true});\n",
       "}}\n",
       "\n",
       "                        })\n",
       "                };\n",
       "                });\n",
       "            </script>\n",
       "        </div>"
      ]
     },
     "metadata": {},
     "output_type": "display_data"
    }
   ],
   "source": [
    "plot_model(iforest)"
   ]
  },
  {
   "cell_type": "code",
   "execution_count": 10,
   "metadata": {},
   "outputs": [
    {
     "data": {
      "text/html": [
       "<div>\n",
       "<style scoped>\n",
       "    .dataframe tbody tr th:only-of-type {\n",
       "        vertical-align: middle;\n",
       "    }\n",
       "\n",
       "    .dataframe tbody tr th {\n",
       "        vertical-align: top;\n",
       "    }\n",
       "\n",
       "    .dataframe thead th {\n",
       "        text-align: right;\n",
       "    }\n",
       "</style>\n",
       "<table border=\"1\" class=\"dataframe\">\n",
       "  <thead>\n",
       "    <tr style=\"text-align: right;\">\n",
       "      <th></th>\n",
       "      <th>id</th>\n",
       "      <th>사원구분</th>\n",
       "      <th>고용형태</th>\n",
       "      <th>직군</th>\n",
       "      <th>직종</th>\n",
       "      <th>최종학력</th>\n",
       "      <th>성별구분</th>\n",
       "      <th>재직구분</th>\n",
       "      <th>korean</th>\n",
       "      <th>pp_religion</th>\n",
       "      <th>...</th>\n",
       "      <th>pp_club_g</th>\n",
       "      <th>pp_club_h</th>\n",
       "      <th>pp_club_i</th>\n",
       "      <th>pp_club_j</th>\n",
       "      <th>pp_club_k</th>\n",
       "      <th>pp_longevity</th>\n",
       "      <th>pp_longevity_5y</th>\n",
       "      <th>pp_longevity_10y</th>\n",
       "      <th>Label</th>\n",
       "      <th>Score</th>\n",
       "    </tr>\n",
       "  </thead>\n",
       "  <tbody>\n",
       "    <tr>\n",
       "      <th>0</th>\n",
       "      <td>1</td>\n",
       "      <td>연봉(직원)</td>\n",
       "      <td>상용직</td>\n",
       "      <td>임원</td>\n",
       "      <td>정규직</td>\n",
       "      <td>대학원졸</td>\n",
       "      <td>M</td>\n",
       "      <td>0</td>\n",
       "      <td>1</td>\n",
       "      <td>0</td>\n",
       "      <td>...</td>\n",
       "      <td>0</td>\n",
       "      <td>1</td>\n",
       "      <td>0</td>\n",
       "      <td>0</td>\n",
       "      <td>0</td>\n",
       "      <td>370</td>\n",
       "      <td>1</td>\n",
       "      <td>1</td>\n",
       "      <td>1</td>\n",
       "      <td>0.005604</td>\n",
       "    </tr>\n",
       "    <tr>\n",
       "      <th>1</th>\n",
       "      <td>2</td>\n",
       "      <td>연봉(현장)</td>\n",
       "      <td>상용직</td>\n",
       "      <td>기술직</td>\n",
       "      <td>촉탁직</td>\n",
       "      <td>대졸</td>\n",
       "      <td>M</td>\n",
       "      <td>0</td>\n",
       "      <td>1</td>\n",
       "      <td>0</td>\n",
       "      <td>...</td>\n",
       "      <td>0</td>\n",
       "      <td>1</td>\n",
       "      <td>0</td>\n",
       "      <td>0</td>\n",
       "      <td>0</td>\n",
       "      <td>354</td>\n",
       "      <td>1</td>\n",
       "      <td>1</td>\n",
       "      <td>0</td>\n",
       "      <td>-0.037005</td>\n",
       "    </tr>\n",
       "    <tr>\n",
       "      <th>2</th>\n",
       "      <td>3</td>\n",
       "      <td>연봉(현장)</td>\n",
       "      <td>상용직</td>\n",
       "      <td>기술직</td>\n",
       "      <td>정규직</td>\n",
       "      <td>대졸</td>\n",
       "      <td>M</td>\n",
       "      <td>0</td>\n",
       "      <td>1</td>\n",
       "      <td>0</td>\n",
       "      <td>...</td>\n",
       "      <td>0</td>\n",
       "      <td>1</td>\n",
       "      <td>0</td>\n",
       "      <td>0</td>\n",
       "      <td>0</td>\n",
       "      <td>264</td>\n",
       "      <td>1</td>\n",
       "      <td>1</td>\n",
       "      <td>0</td>\n",
       "      <td>-0.064873</td>\n",
       "    </tr>\n",
       "    <tr>\n",
       "      <th>3</th>\n",
       "      <td>4</td>\n",
       "      <td>연봉(직원)</td>\n",
       "      <td>상용직</td>\n",
       "      <td>사무직</td>\n",
       "      <td>정규직</td>\n",
       "      <td>대졸</td>\n",
       "      <td>M</td>\n",
       "      <td>0</td>\n",
       "      <td>1</td>\n",
       "      <td>1</td>\n",
       "      <td>...</td>\n",
       "      <td>0</td>\n",
       "      <td>0</td>\n",
       "      <td>0</td>\n",
       "      <td>1</td>\n",
       "      <td>0</td>\n",
       "      <td>258</td>\n",
       "      <td>1</td>\n",
       "      <td>1</td>\n",
       "      <td>0</td>\n",
       "      <td>-0.002939</td>\n",
       "    </tr>\n",
       "    <tr>\n",
       "      <th>4</th>\n",
       "      <td>5</td>\n",
       "      <td>시급(현장)</td>\n",
       "      <td>상용직</td>\n",
       "      <td>사무직</td>\n",
       "      <td>정규직</td>\n",
       "      <td>대졸</td>\n",
       "      <td>M</td>\n",
       "      <td>0</td>\n",
       "      <td>1</td>\n",
       "      <td>0</td>\n",
       "      <td>...</td>\n",
       "      <td>0</td>\n",
       "      <td>0</td>\n",
       "      <td>0</td>\n",
       "      <td>0</td>\n",
       "      <td>0</td>\n",
       "      <td>211</td>\n",
       "      <td>1</td>\n",
       "      <td>1</td>\n",
       "      <td>0</td>\n",
       "      <td>-0.041721</td>\n",
       "    </tr>\n",
       "  </tbody>\n",
       "</table>\n",
       "<p>5 rows × 67 columns</p>\n",
       "</div>"
      ],
      "text/plain": [
       "   id    사원구분 고용형태   직군   직종  최종학력 성별구분  재직구분  korean  pp_religion  ...  \\\n",
       "0   1  연봉(직원)  상용직   임원  정규직  대학원졸    M     0       1            0  ...   \n",
       "1   2  연봉(현장)  상용직  기술직  촉탁직    대졸    M     0       1            0  ...   \n",
       "2   3  연봉(현장)  상용직  기술직  정규직    대졸    M     0       1            0  ...   \n",
       "3   4  연봉(직원)  상용직  사무직  정규직    대졸    M     0       1            1  ...   \n",
       "4   5  시급(현장)  상용직  사무직  정규직    대졸    M     0       1            0  ...   \n",
       "\n",
       "   pp_club_g  pp_club_h  pp_club_i  pp_club_j  pp_club_k  pp_longevity  \\\n",
       "0          0          1          0          0          0           370   \n",
       "1          0          1          0          0          0           354   \n",
       "2          0          1          0          0          0           264   \n",
       "3          0          0          0          1          0           258   \n",
       "4          0          0          0          0          0           211   \n",
       "\n",
       "   pp_longevity_5y  pp_longevity_10y  Label     Score  \n",
       "0                1                 1      1  0.005604  \n",
       "1                1                 1      0 -0.037005  \n",
       "2                1                 1      0 -0.064873  \n",
       "3                1                 1      0 -0.002939  \n",
       "4                1                 1      0 -0.041721  \n",
       "\n",
       "[5 rows x 67 columns]"
      ]
     },
     "execution_count": 10,
     "metadata": {},
     "output_type": "execute_result"
    }
   ],
   "source": [
    "iforest_results = assign_model(iforest)\n",
    "iforest_results.head()"
   ]
  },
  {
   "cell_type": "code",
   "execution_count": null,
   "metadata": {},
   "outputs": [],
   "source": []
  }
 ],
 "metadata": {
  "kernelspec": {
   "display_name": "Python 3",
   "language": "python",
   "name": "python3"
  },
  "language_info": {
   "codemirror_mode": {
    "name": "ipython",
    "version": 3
   },
   "file_extension": ".py",
   "mimetype": "text/x-python",
   "name": "python",
   "nbconvert_exporter": "python",
   "pygments_lexer": "ipython3",
   "version": "3.6.10"
  }
 },
 "nbformat": 4,
 "nbformat_minor": 4
}
