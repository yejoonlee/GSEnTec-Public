{
 "cells": [
  {
   "cell_type": "markdown",
   "metadata": {},
   "source": [
    "# Prepare Data"
   ]
  },
  {
   "cell_type": "code",
   "execution_count": null,
   "metadata": {},
   "outputs": [],
   "source": [
    "from sklearn.model_selection import KFold "
   ]
  },
  {
   "cell_type": "code",
   "execution_count": null,
   "metadata": {},
   "outputs": [],
   "source": [
    "df_alpha = pd.read_csv(r'../data_alpha.csv', encoding='utf-8')\n",
    "df_alpha.drop(['Unnamed: 0'], axis='columns', inplace=True)    \n",
    "display(df_alpha)\n",
    "\n",
    "print(df_alpha['pp_longevity_10y'].value_counts())"
   ]
  },
  {
   "cell_type": "code",
   "execution_count": null,
   "metadata": {},
   "outputs": [],
   "source": [
    "numeric_features = ['pp_turnover',\n",
    " 'pp_ career_rel',\n",
    " 'pp_ career_etc',\n",
    " 'pp_ career_max',\n",
    " 'pp_ career_hm',\n",
    " 'pp_turnover_self',\n",
    " 'pp_turnover_other',\n",
    " 'pp_relation_family',\n",
    " 'pp_appointment_a',\n",
    " 'pp_appointment_b',\n",
    " 'pp_appointment_c',\n",
    " 'pp_appointment_d',\n",
    " 'pp_appointment_e',\n",
    " 'pp_appointment_f',\n",
    " 'pp_ certificate',\n",
    " 'pp_ certificate_rel',\n",
    " 'pp_ certificate_etc',\n",
    " 'pp_age_join',\n",
    " 'pp_club']\n",
    "\n",
    "categorical_features = list(set(df_alpha.columns) - set(numeric_features))\n",
    "\n",
    "for c in categorical_features:\n",
    "    df_alpha[c] = df_alpha[c].astype('category')"
   ]
  },
  {
   "cell_type": "code",
   "execution_count": null,
   "metadata": {},
   "outputs": [],
   "source": [
    "kf = KFold(n_splits=11, random_state=123, shuffle=True) # Define the split - into 10 folds \n",
    "kf.get_n_splits(df_alpha) # returns the number of splitting iterations in the cross-validator\n",
    "print(kf) \n",
    "\n",
    "for train_index, test_index in kf.split(df_train):\n",
    "#     print(\"TRAIN:\", train_index) \n",
    "#     print(\"TEST:\", test_index)\n",
    "    X_train, X_test = df_alpha.loc[train_index, list(set(df_alpha.columns) - {'pp_longevity_10y'})], df_alpha.loc[test_index, list(set(df_alpha.columns) - {'pp_longevity_10y'})]\n",
    "    y_train, y_test = df_alpha.loc[train_index, \"pp_longevity_10y\"], df_alpha.loc[test_index, \"pp_longevity_10y\"]\n",
    "    print(X_train.shape, X_val.shape)\n",
    "    test_set_list = [X_test, y_test]\n",
    "    train_set = pd.concat([X_train, y_train], axis =1)\n",
    "    break"
   ]
  },
  {
   "cell_type": "code",
   "execution_count": null,
   "metadata": {},
   "outputs": [],
   "source": [
    "print(train_set.shape)\n",
    "display(train_set)\n",
    "train_set = train_set.reset_index()\n",
    "print(train_set.shape)\n",
    "display(train_set)"
   ]
  },
  {
   "cell_type": "code",
   "execution_count": null,
   "metadata": {},
   "outputs": [],
   "source": [
    "kf = KFold(n_splits=10, random_state=123, shuffle=True) # Define the split - into 10 folds \n",
    "kf.get_n_splits(train_set) # returns the number of splitting iterations in the cross-validator\n",
    "print(kf) \n",
    "\n",
    "list_fold = []\n",
    "for train_index, test_index in kf.split(train_set):\n",
    "#     print(\"TRAIN:\", train_index) \n",
    "#     print(\"TEST:\", test_index)\n",
    "    X_train, X_test = train_set.loc[train_index, list(set(train_set.columns) - {'pp_longevity_10y'})], train_set.loc[test_index, list(set(train_set.columns) - {'pp_longevity_10y'})]\n",
    "    y_train, y_test = train_set.loc[train_index, \"pp_longevity_10y\"], train_set.loc[test_index, \"pp_longevity_10y\"]\n",
    "    list_fold.append([pd.concat([X_train, y_train], axis = 1),pd.concat([X_test, y_test], axis = 1)])\n",
    "    print(X_train.shape, X_val.shape)\n",
    "#     test_set_list = [X_test, y_test]\n",
    "#     train_set = pd.concat([X_train, y_train], axis =1)\n",
    "#     break"
   ]
  },
  {
   "cell_type": "markdown",
   "metadata": {},
   "source": [
    "# Prepare Oversampling"
   ]
  },
  {
   "cell_type": "code",
   "execution_count": null,
   "metadata": {},
   "outputs": [],
   "source": [
    "dict_round = {}\n",
    "for column in numeric_features:\n",
    "    dict_round[column] = 0"
   ]
  },
  {
   "cell_type": "code",
   "execution_count": null,
   "metadata": {},
   "outputs": [],
   "source": [
    "df_syn = pd.read_csv(r'data_syn.csv', encoding='utf-8')\n",
    "df_syn.drop(['Unnamed: 0'], axis='columns', inplace=True)    \n",
    "df_syn = df_syn.round(dict_round)\n",
    "\n",
    "# print(df_syn['pp_longevity_10y'].value_counts()[1])\n",
    "\n",
    "df_syn_1 = df_syn.loc[df_syn['pp_longevity_10y'] == 1]\n",
    "print(df_syn_1['pp_longevity_10y'].value_counts())"
   ]
  },
  {
   "cell_type": "markdown",
   "metadata": {},
   "source": [
    "# Train Model"
   ]
  },
  {
   "cell_type": "code",
   "execution_count": null,
   "metadata": {},
   "outputs": [],
   "source": []
  }
 ],
 "metadata": {
  "kernelspec": {
   "display_name": "Python 3",
   "language": "python",
   "name": "python3"
  },
  "language_info": {
   "codemirror_mode": {
    "name": "ipython",
    "version": 3
   },
   "file_extension": ".py",
   "mimetype": "text/x-python",
   "name": "python",
   "nbconvert_exporter": "python",
   "pygments_lexer": "ipython3",
   "version": "3.6.10"
  }
 },
 "nbformat": 4,
 "nbformat_minor": 4
}
